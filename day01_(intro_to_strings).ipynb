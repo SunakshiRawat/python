{
  "nbformat": 4,
  "nbformat_minor": 0,
  "metadata": {
    "colab": {
      "provenance": [],
      "toc_visible": true,
      "name": "day01-(intro_to_strings).ipynb",
      "authorship_tag": "ABX9TyMn90mUh8IgdaQFUfhcW9dy",
      "include_colab_link": true
    },
    "kernelspec": {
      "name": "python3",
      "display_name": "Python 3"
    },
    "language_info": {
      "name": "python"
    }
  },
  "cells": [
    {
      "cell_type": "markdown",
      "metadata": {
        "id": "view-in-github",
        "colab_type": "text"
      },
      "source": [
        "<a href=\"https://colab.research.google.com/github/SunakshiRawat/python/blob/main/day01_(intro_to_strings).ipynb\" target=\"_parent\"><img src=\"https://colab.research.google.com/assets/colab-badge.svg\" alt=\"Open In Colab\"/></a>"
      ]
    },
    {
      "cell_type": "code",
      "source": [
        "#Single word\n",
        "my_first_string=\"python day 02\"\n",
        "print(my_first_string)"
      ],
      "metadata": {
        "colab": {
          "base_uri": "https://localhost:8080/"
        },
        "id": "HTyfLpq9oLJJ",
        "outputId": "9fbf63f2-4ee6-4d91-f55d-55ca27f2a936"
      },
      "execution_count": null,
      "outputs": [
        {
          "output_type": "stream",
          "name": "stdout",
          "text": [
            "python day 02\n"
          ]
        }
      ]
    },
    {
      "cell_type": "code",
      "source": [
        "#entire phrase\n",
        "phrase=\"it's comparitively very easy\"\n",
        "print(phrase)"
      ],
      "metadata": {
        "colab": {
          "base_uri": "https://localhost:8080/"
        },
        "id": "18V6-NGQoQuC",
        "outputId": "a609c7bf-0771-4b5d-e4cd-b201021cb7c6"
      },
      "execution_count": null,
      "outputs": [
        {
          "output_type": "stream",
          "name": "stdout",
          "text": [
            "it's comparitively very easy\n"
          ]
        }
      ]
    },
    {
      "cell_type": "code",
      "source": [
        "#statement to get the type of the variable\n",
        "hashtag=\"#dev #coder #hacker\"\n",
        "print(hashtag)\n",
        "type(hashtag)"
      ],
      "metadata": {
        "colab": {
          "base_uri": "https://localhost:8080/"
        },
        "id": "Gsa-elzcogWY",
        "outputId": "65e1de9b-8942-4040-8f87-9f5f62d46ddf"
      },
      "execution_count": null,
      "outputs": [
        {
          "output_type": "stream",
          "name": "stdout",
          "text": [
            "#dev #coder #hacker\n"
          ]
        },
        {
          "output_type": "execute_result",
          "data": {
            "text/plain": [
              "str"
            ]
          },
          "metadata": {},
          "execution_count": 8
        }
      ]
    },
    {
      "cell_type": "code",
      "source": [
        "#we can simply declare a string\n",
        "'Deep Learning'"
      ],
      "metadata": {
        "colab": {
          "base_uri": "https://localhost:8080/",
          "height": 35
        },
        "id": "KOUaviS1omro",
        "outputId": "bde0cb99-db8f-404a-889a-39ebfbb37ec3"
      },
      "execution_count": null,
      "outputs": [
        {
          "output_type": "execute_result",
          "data": {
            "text/plain": [
              "'Deep Learning'"
            ],
            "application/vnd.google.colaboratory.intrinsic+json": {
              "type": "string"
            }
          },
          "metadata": {},
          "execution_count": 9
        }
      ]
    },
    {
      "cell_type": "code",
      "source": [
        "print(\"just now i learned to print a new line\")\n",
        "print('\\nsee! and below is the quote of the day :)')"
      ],
      "metadata": {
        "colab": {
          "base_uri": "https://localhost:8080/"
        },
        "id": "49rCCmgsouy4",
        "outputId": "62c0478d-b0ce-49ae-c634-99bb2bbe1175"
      },
      "execution_count": null,
      "outputs": [
        {
          "output_type": "stream",
          "name": "stdout",
          "text": [
            "just now i learned to print a new line\n",
            "\n",
            "see! and below is the quote of the day :)\n"
          ]
        }
      ]
    },
    {
      "cell_type": "code",
      "source": [
        "#using a function called len\n",
        "algo ='blue sky'\n",
        "len(algo)"
      ],
      "metadata": {
        "colab": {
          "base_uri": "https://localhost:8080/"
        },
        "id": "p_MsZ7yOo1Bf",
        "outputId": "59a8af2b-a38f-4043-b1e0-a518328123e1"
      },
      "execution_count": null,
      "outputs": [
        {
          "output_type": "execute_result",
          "data": {
            "text/plain": [
              "8"
            ]
          },
          "metadata": {},
          "execution_count": 12
        }
      ]
    },
    {
      "cell_type": "code",
      "source": [
        "#assign string as a string\n",
        "string='Money Power Glory!'\n",
        "print(string)"
      ],
      "metadata": {
        "colab": {
          "base_uri": "https://localhost:8080/"
        },
        "id": "8RTm2LzfpCo2",
        "outputId": "68567bb2-37e7-42d5-fe15-94395bc07982"
      },
      "execution_count": null,
      "outputs": [
        {
          "output_type": "stream",
          "name": "stdout",
          "text": [
            "Money Power Glory!\n"
          ]
        }
      ]
    },
    {
      "cell_type": "code",
      "source": [
        "#hsow first element (in this case a letter)\n",
        "print(string[-6])\n",
        "print(string[-16])\n",
        "print(string[-6])\n",
        "print(string[-18])\n",
        "\n",
        "len(string)"
      ],
      "metadata": {
        "colab": {
          "base_uri": "https://localhost:8080/"
        },
        "id": "4GW-SH4MpM1e",
        "outputId": "2d13c249-8acc-4c7b-c89a-2e36fd55c9e4"
      },
      "execution_count": null,
      "outputs": [
        {
          "output_type": "stream",
          "name": "stdout",
          "text": [
            "G\n",
            "n\n",
            "G\n",
            "M\n"
          ]
        },
        {
          "output_type": "execute_result",
          "data": {
            "text/plain": [
              "18"
            ]
          },
          "metadata": {},
          "execution_count": 16
        }
      ]
    },
    {
      "cell_type": "code",
      "source": [
        "#grab the element at the index -1, which is the last element\n",
        "print(string[-2])\n"
      ],
      "metadata": {
        "colab": {
          "base_uri": "https://localhost:8080/"
        },
        "id": "gY2v0GgupP41",
        "outputId": "9b2ee334-27f5-4663-88fc-d791c3843f59"
      },
      "execution_count": null,
      "outputs": [
        {
          "output_type": "stream",
          "name": "stdout",
          "text": [
            "y\n"
          ]
        }
      ]
    },
    {
      "cell_type": "code",
      "source": [
        "#grab everything past the first term all the way to the length of s which is len(s)\n",
        "print(string)\n",
        "print(string[1:])\n",
        "print(string[13:])"
      ],
      "metadata": {
        "colab": {
          "base_uri": "https://localhost:8080/"
        },
        "id": "ugOzSXmMpW3c",
        "outputId": "9b810d9b-d771-4cff-f3b6-0a8de82f77a1"
      },
      "execution_count": null,
      "outputs": [
        {
          "output_type": "stream",
          "name": "stdout",
          "text": [
            "Money Power Glory!\n",
            "oney Power Glory!\n",
            "lory!\n"
          ]
        }
      ]
    },
    {
      "cell_type": "code",
      "source": [
        "#grab everything starting from index 10 till index 18\n",
        "print(string[10:])\n",
        "print(string[3:5])\n",
        "print(string[2:4])"
      ],
      "metadata": {
        "colab": {
          "base_uri": "https://localhost:8080/"
        },
        "id": "sozm_MuOpagE",
        "outputId": "be08336d-d3dc-4d49-f36c-12d5e8a672f8"
      },
      "execution_count": null,
      "outputs": [
        {
          "output_type": "stream",
          "name": "stdout",
          "text": [
            "r Glory!\n",
            "ey\n",
            "ne\n"
          ]
        }
      ]
    },
    {
      "cell_type": "code",
      "source": [
        "#everything\n",
        "print(string[:])\n",
        "print(string)"
      ],
      "metadata": {
        "id": "TWLtLT90ZA1N"
      },
      "execution_count": null,
      "outputs": []
    },
    {
      "cell_type": "code",
      "source": [
        "#last letter (one index behind Θ so it looops back around)\n",
        "string[-2]\n",
        "string[-1:-4]"
      ],
      "metadata": {
        "colab": {
          "base_uri": "https://localhost:8080/",
          "height": 36
        },
        "id": "Zw6vyF46FpgJ",
        "outputId": "3c759f11-9fd8-4bb4-82d8-302516050ff3"
      },
      "execution_count": 6,
      "outputs": [
        {
          "output_type": "execute_result",
          "data": {
            "text/plain": [
              "''"
            ],
            "application/vnd.google.colaboratory.intrinsic+json": {
              "type": "string"
            }
          },
          "metadata": {},
          "execution_count": 6
        }
      ]
    },
    {
      "cell_type": "code",
      "source": [
        "#grab eveerything, but go in steps size of 1\n",
        "print(string)\n",
        "print(string[::3])"
      ],
      "metadata": {
        "colab": {
          "base_uri": "https://localhost:8080/"
        },
        "id": "gAVembZuGR1n",
        "outputId": "7d40a11d-52b1-48ad-b763-099e7fa7206d"
      },
      "execution_count": 7,
      "outputs": [
        {
          "output_type": "stream",
          "name": "stdout",
          "text": [
            "Hello\n",
            "Hl\n"
          ]
        }
      ]
    },
    {
      "cell_type": "code",
      "source": [
        "#grab everything, but go in step sizes of 5\n",
        "print(string)\n",
        "(string[::-1])"
      ],
      "metadata": {
        "colab": {
          "base_uri": "https://localhost:8080/",
          "height": 53
        },
        "id": "QIuzIfglGj54",
        "outputId": "55dfb98a-a1dd-49b5-b481-214e757f5635"
      },
      "execution_count": 8,
      "outputs": [
        {
          "output_type": "stream",
          "name": "stdout",
          "text": [
            "Hello\n"
          ]
        },
        {
          "output_type": "execute_result",
          "data": {
            "text/plain": [
              "'olleH'"
            ],
            "application/vnd.google.colaboratory.intrinsic+json": {
              "type": "string"
            }
          },
          "metadata": {},
          "execution_count": 8
        }
      ]
    },
    {
      "cell_type": "code",
      "source": [
        "#we can use this to print a string backwards with steps\n",
        "print(string)\n",
        "string[2:4:-1]\n",
        "string[4:2:-1]\n"
      ],
      "metadata": {
        "colab": {
          "base_uri": "https://localhost:8080/",
          "height": 53
        },
        "id": "xzUvChz_G49c",
        "outputId": "72926430-e4aa-4d21-9447-7175d18e0ad6"
      },
      "execution_count": 10,
      "outputs": [
        {
          "output_type": "stream",
          "name": "stdout",
          "text": [
            "Hello\n"
          ]
        },
        {
          "output_type": "execute_result",
          "data": {
            "text/plain": [
              "'ol'"
            ],
            "application/vnd.google.colaboratory.intrinsic+json": {
              "type": "string"
            }
          },
          "metadata": {},
          "execution_count": 10
        }
      ]
    },
    {
      "cell_type": "code",
      "source": [
        "#lets try replacing the first letter H of Hello with C\n",
        "string='Hello'\n",
        "string[Θ]='C'"
      ],
      "metadata": {
        "collapsed": true,
        "colab": {
          "base_uri": "https://localhost:8080/",
          "height": 335
        },
        "id": "NN8Me-Z7IpDI",
        "outputId": "fed6e5a0-82e5-4bc3-ff2b-9a8ede4b4605"
      },
      "execution_count": 3,
      "outputs": [
        {
          "output_type": "error",
          "ename": "NameError",
          "evalue": "name 'Θ' is not defined",
          "traceback": [
            "\u001b[0;31m---------------------------------------------------------------------------\u001b[0m",
            "\u001b[0;31mNameError\u001b[0m                                 Traceback (most recent call last)",
            "\u001b[0;32m<ipython-input-3-7ff626a3e143>\u001b[0m in \u001b[0;36m<cell line: 0>\u001b[0;34m()\u001b[0m\n\u001b[1;32m      1\u001b[0m \u001b[0;31m#lets try replacing the first letter H of Hello with C\u001b[0m\u001b[0;34m\u001b[0m\u001b[0;34m\u001b[0m\u001b[0m\n\u001b[1;32m      2\u001b[0m \u001b[0mstring\u001b[0m\u001b[0;34m=\u001b[0m\u001b[0;34m'Hello'\u001b[0m\u001b[0;34m\u001b[0m\u001b[0;34m\u001b[0m\u001b[0m\n\u001b[0;32m----> 3\u001b[0;31m \u001b[0mstring\u001b[0m\u001b[0;34m[\u001b[0m\u001b[0mΘ\u001b[0m\u001b[0;34m]\u001b[0m\u001b[0;34m=\u001b[0m\u001b[0;34m'C'\u001b[0m\u001b[0;34m\u001b[0m\u001b[0;34m\u001b[0m\u001b[0m\n\u001b[0m",
            "\u001b[0;31mNameError\u001b[0m: name 'Θ' is not defined"
          ]
        },
        {
          "output_type": "error",
          "ename": "NameError",
          "evalue": "name 'Θ' is not defined",
          "traceback": [
            "\u001b[0;31m---------------------------------------------------------------------------\u001b[0m",
            "\u001b[0;31mNameError\u001b[0m                                 Traceback (most recent call last)",
            "\u001b[0;32m<ipython-input-4-7ff626a3e143>\u001b[0m in \u001b[0;36m<cell line: 0>\u001b[0;34m()\u001b[0m\n\u001b[1;32m      1\u001b[0m \u001b[0;31m#lets try replacing the first letter H of Hello with C\u001b[0m\u001b[0;34m\u001b[0m\u001b[0;34m\u001b[0m\u001b[0m\n\u001b[1;32m      2\u001b[0m \u001b[0mstring\u001b[0m\u001b[0;34m=\u001b[0m\u001b[0;34m'Hello'\u001b[0m\u001b[0;34m\u001b[0m\u001b[0;34m\u001b[0m\u001b[0m\n\u001b[0;32m----> 3\u001b[0;31m \u001b[0mstring\u001b[0m\u001b[0;34m[\u001b[0m\u001b[0mΘ\u001b[0m\u001b[0;34m]\u001b[0m\u001b[0;34m=\u001b[0m\u001b[0;34m'C'\u001b[0m\u001b[0;34m\u001b[0m\u001b[0;34m\u001b[0m\u001b[0m\n\u001b[0m",
            "\u001b[0;31mNameError\u001b[0m: name 'Θ' is not defined"
          ]
        }
      ]
    },
    {
      "cell_type": "code",
      "source": [
        "#concatenate strings!\n",
        "string1='abc'\n",
        "string2='def'\n",
        "print(string1 +' '+ string2)\n",
        "print(string1 + '4' + string2)"
      ],
      "metadata": {
        "colab": {
          "base_uri": "https://localhost:8080/"
        },
        "id": "cOmvy1OoL1HQ",
        "outputId": "8679836d-c770-403d-9f01-55916677a2a5"
      },
      "execution_count": 2,
      "outputs": [
        {
          "output_type": "stream",
          "name": "stdout",
          "text": [
            "abc def\n",
            "abc4def\n"
          ]
        }
      ]
    },
    {
      "cell_type": "code",
      "source": [
        "#to convert an integer into a string\n",
        "string1='abc'\n",
        "string2='def'\n",
        "num = 4\n",
        "print(string1 + str(4) + string2)\n"
      ],
      "metadata": {
        "colab": {
          "base_uri": "https://localhost:8080/"
        },
        "id": "3sKrqr1CMRMr",
        "outputId": "a2bd86cd-e9ae-4fa6-d857-ec3cebc0d48b"
      },
      "execution_count": 11,
      "outputs": [
        {
          "output_type": "stream",
          "name": "stdout",
          "text": [
            "abc4def\n"
          ]
        }
      ]
    },
    {
      "cell_type": "code",
      "source": [
        "#concatenate strings!\n",
        "string1='abc'\n",
        "string2='def'\n",
        "string1 + '4' + string2"
      ],
      "metadata": {
        "colab": {
          "base_uri": "https://localhost:8080/",
          "height": 36
        },
        "id": "Ids1PdtMONRC",
        "outputId": "974a42f3-0372-4aab-83c1-bc3cad4f9b2b"
      },
      "execution_count": 6,
      "outputs": [
        {
          "output_type": "execute_result",
          "data": {
            "text/plain": [
              "'abc4def'"
            ],
            "application/vnd.google.colaboratory.intrinsic+json": {
              "type": "string"
            }
          },
          "metadata": {},
          "execution_count": 6
        }
      ]
    },
    {
      "cell_type": "code",
      "source": [
        "print(string)"
      ],
      "metadata": {
        "id": "1TL5YZGHYiqW"
      },
      "execution_count": null,
      "outputs": []
    },
    {
      "cell_type": "code",
      "source": [
        "#we can reassign string completely though!\n",
        "string= string + 'concatenate me!'\n",
        "print(string)"
      ],
      "metadata": {
        "colab": {
          "base_uri": "https://localhost:8080/",
          "height": 176
        },
        "collapsed": true,
        "id": "k3HEBaPBYp0E",
        "outputId": "26c9e0bf-0eb6-4ccd-8638-4dff187e5258"
      },
      "execution_count": 7,
      "outputs": [
        {
          "output_type": "error",
          "ename": "NameError",
          "evalue": "name 'string' is not defined",
          "traceback": [
            "\u001b[0;31m---------------------------------------------------------------------------\u001b[0m",
            "\u001b[0;31mNameError\u001b[0m                                 Traceback (most recent call last)",
            "\u001b[0;32m<ipython-input-7-1abd42131d12>\u001b[0m in \u001b[0;36m<cell line: 0>\u001b[0;34m()\u001b[0m\n\u001b[1;32m      1\u001b[0m \u001b[0;31m#we can reassign string completely though!\u001b[0m\u001b[0;34m\u001b[0m\u001b[0;34m\u001b[0m\u001b[0m\n\u001b[0;32m----> 2\u001b[0;31m \u001b[0mstring\u001b[0m\u001b[0;34m=\u001b[0m \u001b[0mstring\u001b[0m \u001b[0;34m+\u001b[0m \u001b[0;34m'concatenate me!'\u001b[0m\u001b[0;34m\u001b[0m\u001b[0;34m\u001b[0m\u001b[0m\n\u001b[0m\u001b[1;32m      3\u001b[0m \u001b[0mprint\u001b[0m\u001b[0;34m(\u001b[0m\u001b[0mstring\u001b[0m\u001b[0;34m)\u001b[0m\u001b[0;34m\u001b[0m\u001b[0;34m\u001b[0m\u001b[0m\n",
            "\u001b[0;31mNameError\u001b[0m: name 'string' is not defined"
          ]
        }
      ]
    },
    {
      "cell_type": "code",
      "source": [
        "letters= 'uwu'\n",
        "letters*2"
      ],
      "metadata": {
        "colab": {
          "base_uri": "https://localhost:8080/",
          "height": 36
        },
        "id": "xSnMhpjtZBPX",
        "outputId": "554ecb0a-e689-45cf-d295-d15074ac611c"
      },
      "execution_count": 13,
      "outputs": [
        {
          "output_type": "execute_result",
          "data": {
            "text/plain": [
              "'uwuuwu'"
            ],
            "application/vnd.google.colaboratory.intrinsic+json": {
              "type": "string"
            }
          },
          "metadata": {},
          "execution_count": 13
        }
      ]
    },
    {
      "cell_type": "code",
      "source": [
        "algorithm = 'neural networks'\n",
        "print(algorithm)"
      ],
      "metadata": {
        "colab": {
          "base_uri": "https://localhost:8080/"
        },
        "id": "0_EsRqyTZNQL",
        "outputId": "2d3cc77d-3ae2-4d2a-b8c0-000a4e99f34a"
      },
      "execution_count": 9,
      "outputs": [
        {
          "output_type": "stream",
          "name": "stdout",
          "text": [
            "neural networks\n"
          ]
        }
      ]
    },
    {
      "cell_type": "code",
      "source": [
        "#print the length of the string\n",
        "len(algorithm)"
      ],
      "metadata": {
        "colab": {
          "base_uri": "https://localhost:8080/"
        },
        "id": "ChDDk5FvZbuK",
        "outputId": "22cf0ac4-3a61-415b-e40d-463377a7ae42"
      },
      "execution_count": 10,
      "outputs": [
        {
          "output_type": "execute_result",
          "data": {
            "text/plain": [
              "15"
            ]
          },
          "metadata": {},
          "execution_count": 10
        }
      ]
    },
    {
      "cell_type": "code",
      "source": [
        "#convert the string to lowercase\n",
        "algorithm.lower()\n",
        "print(algorithm)"
      ],
      "metadata": {
        "colab": {
          "base_uri": "https://localhost:8080/"
        },
        "id": "eS-JbcxCZlfs",
        "outputId": "716084ae-13e8-4124-9487-f3c637c6b80a"
      },
      "execution_count": 11,
      "outputs": [
        {
          "output_type": "stream",
          "name": "stdout",
          "text": [
            "neural networks\n"
          ]
        }
      ]
    },
    {
      "cell_type": "code",
      "source": [
        "#convert the string to uppercase\n",
        "algorithm.upper()\n",
        "print(algorithm)\n",
        "algorithm.count('networks')\n",
        "algorithm.count('eu')\n",
        "algorithm.count(' ')\n",
        "algorithm.count('neural')\n",
        "algorithm.count('neurla')"
      ],
      "metadata": {
        "colab": {
          "base_uri": "https://localhost:8080/"
        },
        "id": "R070pTD3aAgi",
        "outputId": "fd090665-5a06-4f13-a449-511d0336ba9a"
      },
      "execution_count": 12,
      "outputs": [
        {
          "output_type": "stream",
          "name": "stdout",
          "text": [
            "neural networks\n"
          ]
        },
        {
          "output_type": "execute_result",
          "data": {
            "text/plain": [
              "0"
            ]
          },
          "metadata": {},
          "execution_count": 12
        }
      ]
    },
    {
      "cell_type": "code",
      "source": [
        "#find\n",
        "algorithm.find('r')\n",
        "algorithm.find('neural')\n",
        "algorithm.find('box')"
      ],
      "metadata": {
        "colab": {
          "base_uri": "https://localhost:8080/"
        },
        "id": "BRCoL2G3a3KL",
        "outputId": "b259085f-52c7-4437-f7fe-0ca3e8982b19"
      },
      "execution_count": 14,
      "outputs": [
        {
          "output_type": "execute_result",
          "data": {
            "text/plain": [
              "-1"
            ]
          },
          "metadata": {},
          "execution_count": 14
        }
      ]
    },
    {
      "cell_type": "code",
      "source": [
        "#replace\n",
        "print(algorithm)\n",
        "algorihtm.replace(' ','-')\n",
        "algorithm.replace('N','L')"
      ],
      "metadata": {
        "colab": {
          "base_uri": "https://localhost:8080/",
          "height": 211
        },
        "id": "WnArc1JkbSHI",
        "outputId": "4de48cef-c79b-4c69-ae1b-99301df53cf1"
      },
      "execution_count": 15,
      "outputs": [
        {
          "output_type": "stream",
          "name": "stdout",
          "text": [
            "neural networks\n"
          ]
        },
        {
          "output_type": "error",
          "ename": "NameError",
          "evalue": "name 'algorihtm' is not defined",
          "traceback": [
            "\u001b[0;31m---------------------------------------------------------------------------\u001b[0m",
            "\u001b[0;31mNameError\u001b[0m                                 Traceback (most recent call last)",
            "\u001b[0;32m<ipython-input-15-3ab4fb041860>\u001b[0m in \u001b[0;36m<cell line: 0>\u001b[0;34m()\u001b[0m\n\u001b[1;32m      1\u001b[0m \u001b[0;31m#replace\u001b[0m\u001b[0;34m\u001b[0m\u001b[0;34m\u001b[0m\u001b[0m\n\u001b[1;32m      2\u001b[0m \u001b[0mprint\u001b[0m\u001b[0;34m(\u001b[0m\u001b[0malgorithm\u001b[0m\u001b[0;34m)\u001b[0m\u001b[0;34m\u001b[0m\u001b[0;34m\u001b[0m\u001b[0m\n\u001b[0;32m----> 3\u001b[0;31m \u001b[0malgorihtm\u001b[0m\u001b[0;34m.\u001b[0m\u001b[0mreplace\u001b[0m\u001b[0;34m(\u001b[0m\u001b[0;34m' '\u001b[0m\u001b[0;34m,\u001b[0m\u001b[0;34m'-'\u001b[0m\u001b[0;34m)\u001b[0m\u001b[0;34m\u001b[0m\u001b[0;34m\u001b[0m\u001b[0m\n\u001b[0m\u001b[1;32m      4\u001b[0m \u001b[0malgorithm\u001b[0m\u001b[0;34m.\u001b[0m\u001b[0mreplace\u001b[0m\u001b[0;34m(\u001b[0m\u001b[0;34m'N'\u001b[0m\u001b[0;34m,\u001b[0m\u001b[0;34m'L'\u001b[0m\u001b[0;34m)\u001b[0m\u001b[0;34m\u001b[0m\u001b[0;34m\u001b[0m\u001b[0m\n",
            "\u001b[0;31mNameError\u001b[0m: name 'algorihtm' is not defined"
          ]
        }
      ]
    },
    {
      "cell_type": "code",
      "source": [
        "#storing the modified string\n",
        "algorithm_revised = algorithm.replace('Neural','Artificial Neural')\n",
        "print(algorithm_revised)\n",
        "print(algorithm)"
      ],
      "metadata": {
        "colab": {
          "base_uri": "https://localhost:8080/"
        },
        "id": "tB4czKxXcDtm",
        "outputId": "4c37fc59-c406-4e70-d751-e39d6cfaab05"
      },
      "execution_count": 16,
      "outputs": [
        {
          "output_type": "stream",
          "name": "stdout",
          "text": [
            "neural networks\n",
            "neural networks\n"
          ]
        }
      ]
    },
    {
      "cell_type": "code",
      "source": [
        "#printing strings a bit differently\n",
        "first_name = 'rawat'\n",
        "last_name = 'suraj'\n",
        "full_name = f'mom and dad made {last_name} {first_name}'\n",
        "\n",
        "print(first_name + ' ' + last name)\n",
        "first_name ='chanda'\n",
        "middle_name = ' '\n",
        "last_name = 'negi'\n",
        "full name = f'obviously my name is name{first_name} {middle_name}{last_name}. I am a Data Scientist'\n",
        "print(full_name)"
      ],
      "metadata": {
        "colab": {
          "base_uri": "https://localhost:8080/",
          "height": 106
        },
        "id": "8wfuAwFVdyj7",
        "outputId": "c3d09720-57e2-4b2f-c267-bc759fb4909b"
      },
      "execution_count": 5,
      "outputs": [
        {
          "output_type": "error",
          "ename": "SyntaxError",
          "evalue": "invalid syntax. Perhaps you forgot a comma? (<ipython-input-5-1c8bf64be5af>, line 6)",
          "traceback": [
            "\u001b[0;36m  File \u001b[0;32m\"<ipython-input-5-1c8bf64be5af>\"\u001b[0;36m, line \u001b[0;32m6\u001b[0m\n\u001b[0;31m    print(first_name + ' ' + last name)\u001b[0m\n\u001b[0m          ^\u001b[0m\n\u001b[0;31mSyntaxError\u001b[0m\u001b[0;31m:\u001b[0m invalid syntax. Perhaps you forgot a comma?\n"
          ]
        }
      ]
    },
    {
      "cell_type": "code",
      "source": [
        "#check if a string contains a particular word or character\n",
        "my_string = 'Nicola Tesla'\n",
        "'boba' in my_string"
      ],
      "metadata": {
        "colab": {
          "base_uri": "https://localhost:8080/"
        },
        "id": "cnDwI0CyeuTP",
        "outputId": "12fedf1f-b06e-4b36-be0a-dd747cf753b1"
      },
      "execution_count": 4,
      "outputs": [
        {
          "output_type": "execute_result",
          "data": {
            "text/plain": [
              "False"
            ]
          },
          "metadata": {},
          "execution_count": 4
        }
      ]
    },
    {
      "cell_type": "code",
      "source": [
        "'Tesla' in my_string"
      ],
      "metadata": {
        "colab": {
          "base_uri": "https://localhost:8080/"
        },
        "id": "bNPRkHC6mo1E",
        "outputId": "ba5396d1-5d78-4fb7-f83a-b684666425a3"
      },
      "execution_count": 2,
      "outputs": [
        {
          "output_type": "execute_result",
          "data": {
            "text/plain": [
              "True"
            ]
          },
          "metadata": {},
          "execution_count": 2
        }
      ]
    }
  ]
}