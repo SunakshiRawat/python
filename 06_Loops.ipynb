{
  "nbformat": 4,
  "nbformat_minor": 0,
  "metadata": {
    "colab": {
      "provenance": [],
      "authorship_tag": "ABX9TyM31P6N+T8Rkczrx+9ZtSVk",
      "include_colab_link": true
    },
    "kernelspec": {
      "name": "python3",
      "display_name": "Python 3"
    },
    "language_info": {
      "name": "python"
    }
  },
  "cells": [
    {
      "cell_type": "markdown",
      "metadata": {
        "id": "view-in-github",
        "colab_type": "text"
      },
      "source": [
        "<a href=\"https://colab.research.google.com/github/SunakshiRawat/python/blob/main/06_Loops.ipynb\" target=\"_parent\"><img src=\"https://colab.research.google.com/assets/colab-badge.svg\" alt=\"Open In Colab\"/></a>"
      ]
    },
    {
      "cell_type": "code",
      "execution_count": 3,
      "metadata": {
        "id": "zLIXXHpnHBgs"
      },
      "outputs": [],
      "source": [
        "#Consider a list of strings\n",
        "subjects = ['chmeistry','physics','biology','maths','cs']"
      ]
    },
    {
      "cell_type": "code",
      "source": [
        "#A simple for loop to print the subjects mentioned above\n",
        "for subjects in subjects:\n",
        "  print(f\"I love {subjects}\")"
      ],
      "metadata": {
        "colab": {
          "base_uri": "https://localhost:8080/"
        },
        "id": "mo7TGXPH5Zzk",
        "outputId": "3a32d449-5ff9-4786-b4b1-521763045e52"
      },
      "execution_count": 7,
      "outputs": [
        {
          "output_type": "stream",
          "name": "stdout",
          "text": [
            "I love chmeistry\n",
            "I love physics\n",
            "I love biology\n",
            "I love maths\n",
            "I love cs\n"
          ]
        }
      ]
    },
    {
      "cell_type": "code",
      "source": [
        "subjects = ['chmeistry','physics','biology','maths','cs']"
      ],
      "metadata": {
        "id": "RVbJ0lMC6vP4"
      },
      "execution_count": 10,
      "outputs": []
    },
    {
      "cell_type": "code",
      "source": [
        "#Usibng enuumerate function to loop through the elements of a list\n",
        "for number,subjects in enumerate(subjects):\n",
        "  print(f\"the subject number of subject {subjects} is {number}\")"
      ],
      "metadata": {
        "colab": {
          "base_uri": "https://localhost:8080/"
        },
        "id": "LVmosvib6GAV",
        "outputId": "2de6ec27-b565-4d57-9e19-cb03cc71e08b"
      },
      "execution_count": 11,
      "outputs": [
        {
          "output_type": "stream",
          "name": "stdout",
          "text": [
            "the subject number of subject chmeistry is 0\n",
            "the subject number of subject physics is 1\n",
            "the subject number of subject biology is 2\n",
            "the subject number of subject maths is 3\n",
            "the subject number of subject cs is 4\n"
          ]
        }
      ]
    },
    {
      "cell_type": "code",
      "source": [
        "subjects = ['chmeistry','physics','biology','maths','cs']\n",
        "list(enumerate(subjects))"
      ],
      "metadata": {
        "colab": {
          "base_uri": "https://localhost:8080/"
        },
        "id": "wM4Rvcwl6yV1",
        "outputId": "2c09fd24-8575-4d77-8a52-dc79854069de"
      },
      "execution_count": 15,
      "outputs": [
        {
          "output_type": "execute_result",
          "data": {
            "text/plain": [
              "[(0, 'chmeistry'), (1, 'physics'), (2, 'biology'), (3, 'maths'), (4, 'cs')]"
            ]
          },
          "metadata": {},
          "execution_count": 15
        }
      ]
    },
    {
      "cell_type": "code",
      "source": [
        "#The list of numbers\n",
        "list_of_numbers = [1,2,3,4,5,6]"
      ],
      "metadata": {
        "id": "SE2pbZoG7FgC"
      },
      "execution_count": 16,
      "outputs": []
    },
    {
      "cell_type": "code",
      "source": [
        "#Let us first print the squares\n",
        "for number in list_of_numbers:\n",
        "  print(f\"the square of {number} is {number**2}\")"
      ],
      "metadata": {
        "colab": {
          "base_uri": "https://localhost:8080/"
        },
        "id": "EzIgrQCE7Psi",
        "outputId": "f6febea1-8740-48c4-d273-f319e443cf88"
      },
      "execution_count": 17,
      "outputs": [
        {
          "output_type": "stream",
          "name": "stdout",
          "text": [
            "the square of 1 is 1\n",
            "the square of 2 is 4\n",
            "the square of 3 is 9\n",
            "the square of 4 is 16\n",
            "the square of 5 is 25\n",
            "the square of 6 is 36\n"
          ]
        }
      ]
    },
    {
      "cell_type": "code",
      "source": [
        "#Let us first initialize a list where we will be appending the squares in each iteration\n",
        "squared_numbers = []\n",
        "for number in list_of_numbers:\n",
        "  square = number**2\n",
        "\n",
        "  #Use the append method to add the numbers one by one to our list\n",
        "  squared_numbers.append(square)\n",
        "  print(f\"the list of squared numbers is {squared_numbers}\")"
      ],
      "metadata": {
        "colab": {
          "base_uri": "https://localhost:8080/"
        },
        "id": "doNps42Q7dPR",
        "outputId": "44e12f72-b531-4489-c753-10f7f349dc34"
      },
      "execution_count": 22,
      "outputs": [
        {
          "output_type": "stream",
          "name": "stdout",
          "text": [
            "the list of squared numbers is [1]\n",
            "the list of squared numbers is [1, 4]\n",
            "the list of squared numbers is [1, 4, 9]\n",
            "the list of squared numbers is [1, 4, 9, 16]\n",
            "the list of squared numbers is [1, 4, 9, 16, 25]\n",
            "the list of squared numbers is [1, 4, 9, 16, 25, 36]\n"
          ]
        }
      ]
    },
    {
      "cell_type": "code",
      "source": [
        "print(list_of_numbers)\n",
        "print(squared_numbers)"
      ],
      "metadata": {
        "colab": {
          "base_uri": "https://localhost:8080/"
        },
        "id": "nFtmwUzs8sST",
        "outputId": "ac9baf46-cb96-4a2c-9d1e-049208fe3d31"
      },
      "execution_count": 23,
      "outputs": [
        {
          "output_type": "stream",
          "name": "stdout",
          "text": [
            "[1, 2, 3, 4, 5, 6]\n",
            "[1, 4, 9, 16, 25, 36]\n"
          ]
        }
      ]
    },
    {
      "cell_type": "code",
      "source": [
        "#Let us zip the original numbers and squares together and get the dictionary\n",
        "zipped_dict = dict(zip(list_of_numbers,squared_numbers))\n",
        "print(zipped_dict)"
      ],
      "metadata": {
        "colab": {
          "base_uri": "https://localhost:8080/"
        },
        "id": "1nAdMB7-89_k",
        "outputId": "110b2aca-4954-484d-c2bc-df03d719a5eb"
      },
      "execution_count": 25,
      "outputs": [
        {
          "output_type": "stream",
          "name": "stdout",
          "text": [
            "{1: 1, 2: 4, 3: 9, 4: 16, 5: 25, 6: 36}\n"
          ]
        }
      ]
    },
    {
      "cell_type": "code",
      "source": [
        "#To only print the squares of those numbers which are even\n",
        "print(list_of_numbers)"
      ],
      "metadata": {
        "colab": {
          "base_uri": "https://localhost:8080/"
        },
        "id": "5W4wAcbT9TuS",
        "outputId": "3f023505-abd8-4b57-b615-d437a0b29bb0"
      },
      "execution_count": 26,
      "outputs": [
        {
          "output_type": "stream",
          "name": "stdout",
          "text": [
            "[1, 2, 3, 4, 5, 6]\n"
          ]
        }
      ]
    },
    {
      "cell_type": "code",
      "source": [
        "#Lets first print the squares\n",
        "for number in list_of_numbers:\n",
        "  print(f\"the square of {number} is {number**2}\")\n",
        "else:\n",
        "    print(f\"I am an odd number{number}.\")"
      ],
      "metadata": {
        "colab": {
          "base_uri": "https://localhost:8080/"
        },
        "id": "1IV2jueU9mFw",
        "outputId": "e495d5d5-b6c3-4b36-af70-ad860d30d9af"
      },
      "execution_count": 31,
      "outputs": [
        {
          "output_type": "stream",
          "name": "stdout",
          "text": [
            "the square of 1 is 1\n",
            "the square of 2 is 4\n",
            "the square of 3 is 9\n",
            "the square of 4 is 16\n",
            "the square of 5 is 25\n",
            "the square of 6 is 36\n",
            "I am an odd number6.\n"
          ]
        }
      ]
    },
    {
      "cell_type": "code",
      "source": [
        "print(\"\\n\")\n",
        "print(\"I am finished with my iteration\")"
      ],
      "metadata": {
        "colab": {
          "base_uri": "https://localhost:8080/"
        },
        "id": "yLpl3OAT-NfV",
        "outputId": "29024dfa-871f-4ecc-eabd-38a902ef5774"
      },
      "execution_count": 32,
      "outputs": [
        {
          "output_type": "stream",
          "name": "stdout",
          "text": [
            "\n",
            "\n",
            "I am finished with my iteration\n"
          ]
        }
      ]
    },
    {
      "cell_type": "code",
      "source": [
        "list(range(10))"
      ],
      "metadata": {
        "colab": {
          "base_uri": "https://localhost:8080/"
        },
        "id": "gAnfwgkF-rlE",
        "outputId": "588716a4-6e4b-4624-8012-ff4e45cdaeb3"
      },
      "execution_count": 33,
      "outputs": [
        {
          "output_type": "execute_result",
          "data": {
            "text/plain": [
              "[0, 1, 2, 3, 4, 5, 6, 7, 8, 9]"
            ]
          },
          "metadata": {},
          "execution_count": 33
        }
      ]
    },
    {
      "cell_type": "code",
      "source": [
        "#Let us first print the squares\n",
        "for number in range(0,10,3):\n",
        "  squared_number = number**2\n",
        "  print(f\"the square of {number} is {number**2}\")"
      ],
      "metadata": {
        "colab": {
          "base_uri": "https://localhost:8080/"
        },
        "id": "eGI-7_QK-1jh",
        "outputId": "5f0071f9-9e5d-46f0-a4be-05100ef603da"
      },
      "execution_count": 37,
      "outputs": [
        {
          "output_type": "stream",
          "name": "stdout",
          "text": [
            "the square of 0 is 0\n",
            "the square of 3 is 9\n",
            "the square of 6 is 36\n",
            "the square of 9 is 81\n"
          ]
        }
      ]
    },
    {
      "cell_type": "code",
      "source": [
        "for i in range(2,21,2):\n",
        "  print(i)"
      ],
      "metadata": {
        "colab": {
          "base_uri": "https://localhost:8080/"
        },
        "id": "22ATNIdT_idF",
        "outputId": "ebd74d3a-c1ab-4600-de29-118456129661"
      },
      "execution_count": 42,
      "outputs": [
        {
          "output_type": "stream",
          "name": "stdout",
          "text": [
            "2\n",
            "4\n",
            "6\n",
            "8\n",
            "10\n",
            "12\n",
            "14\n",
            "16\n",
            "18\n",
            "20\n"
          ]
        }
      ]
    },
    {
      "cell_type": "code",
      "source": [
        "#To find the sum of the squares of our numbers in the list\n",
        "print(list_of_numbers)"
      ],
      "metadata": {
        "colab": {
          "base_uri": "https://localhost:8080/"
        },
        "id": "v7XH2KCk_6aC",
        "outputId": "9ba79998-2b4e-4095-dd5e-1bed649d829a"
      },
      "execution_count": 43,
      "outputs": [
        {
          "output_type": "stream",
          "name": "stdout",
          "text": [
            "[1, 2, 3, 4, 5, 6]\n"
          ]
        }
      ]
    },
    {
      "cell_type": "code",
      "source": [
        "#Let us first initialize the sum of the squares with 0\n",
        "sum_squares = 0\n",
        "\n",
        "for number in range(1,11):\n",
        "  sum_squares = sum_squares + number\n",
        "  print(sum_squares)"
      ],
      "metadata": {
        "colab": {
          "base_uri": "https://localhost:8080/"
        },
        "id": "mLM0NvuuAJXh",
        "outputId": "c0761528-d51b-46b9-8f1f-923ec98726a9"
      },
      "execution_count": 45,
      "outputs": [
        {
          "output_type": "stream",
          "name": "stdout",
          "text": [
            "1\n",
            "3\n",
            "6\n",
            "10\n",
            "15\n",
            "21\n",
            "28\n",
            "36\n",
            "45\n",
            "55\n"
          ]
        }
      ]
    },
    {
      "cell_type": "code",
      "source": [
        "#Now we have added the squares of all the numbers in our list\n",
        "print(sum_squares)"
      ],
      "metadata": {
        "colab": {
          "base_uri": "https://localhost:8080/"
        },
        "id": "hOQbD7LSApG1",
        "outputId": "5ef5c099-d2db-45e9-9b20-d88e6edd8a92"
      },
      "execution_count": 46,
      "outputs": [
        {
          "output_type": "stream",
          "name": "stdout",
          "text": [
            "55\n"
          ]
        }
      ]
    },
    {
      "cell_type": "code",
      "source": [
        "#Let us first store the sentence in a string variable\n",
        "jon_snow_quote = \"I'm the Aemon Targaryen\""
      ],
      "metadata": {
        "id": "9WnSHi7rA-Bh"
      },
      "execution_count": 47,
      "outputs": []
    },
    {
      "cell_type": "code",
      "source": [
        "for char in jon_snow_quote:\n",
        "  print(f\"the character is {char}\")"
      ],
      "metadata": {
        "colab": {
          "base_uri": "https://localhost:8080/"
        },
        "id": "s9hqy7ckBb7x",
        "outputId": "9db90768-5cf7-48cc-8041-73952ca46bd8"
      },
      "execution_count": 48,
      "outputs": [
        {
          "output_type": "stream",
          "name": "stdout",
          "text": [
            "the character is I\n",
            "the character is '\n",
            "the character is m\n",
            "the character is  \n",
            "the character is t\n",
            "the character is h\n",
            "the character is e\n",
            "the character is  \n",
            "the character is A\n",
            "the character is e\n",
            "the character is m\n",
            "the character is o\n",
            "the character is n\n",
            "the character is  \n",
            "the character is T\n",
            "the character is a\n",
            "the character is r\n",
            "the character is g\n",
            "the character is a\n",
            "the character is r\n",
            "the character is y\n",
            "the character is e\n",
            "the character is n\n"
          ]
        }
      ]
    },
    {
      "cell_type": "code",
      "source": [
        "#Lets apply a for loop to do the above task\n",
        "for index,char in enumerate(jon_snow_quote):\n",
        "  print(f\"the index is {index} and the character is {char}\")"
      ],
      "metadata": {
        "colab": {
          "base_uri": "https://localhost:8080/"
        },
        "id": "6Ucw2yxyBnXB",
        "outputId": "82a94986-096c-4f52-b810-bf5e6811a685"
      },
      "execution_count": 49,
      "outputs": [
        {
          "output_type": "stream",
          "name": "stdout",
          "text": [
            "the index is 0 and the character is I\n",
            "the index is 1 and the character is '\n",
            "the index is 2 and the character is m\n",
            "the index is 3 and the character is  \n",
            "the index is 4 and the character is t\n",
            "the index is 5 and the character is h\n",
            "the index is 6 and the character is e\n",
            "the index is 7 and the character is  \n",
            "the index is 8 and the character is A\n",
            "the index is 9 and the character is e\n",
            "the index is 10 and the character is m\n",
            "the index is 11 and the character is o\n",
            "the index is 12 and the character is n\n",
            "the index is 13 and the character is  \n",
            "the index is 14 and the character is T\n",
            "the index is 15 and the character is a\n",
            "the index is 16 and the character is r\n",
            "the index is 17 and the character is g\n",
            "the index is 18 and the character is a\n",
            "the index is 19 and the character is r\n",
            "the index is 20 and the character is y\n",
            "the index is 21 and the character is e\n",
            "the index is 22 and the character is n\n"
          ]
        }
      ]
    },
    {
      "cell_type": "code",
      "source": [
        "heisenberg_quote = \"I am the one who knocks!\"\n",
        "words_in_quote = heisenberg_quote.split(' ')\n",
        "print(words_in_quote)"
      ],
      "metadata": {
        "colab": {
          "base_uri": "https://localhost:8080/"
        },
        "id": "R3UdJoK8CBRj",
        "outputId": "26926bf7-fc6d-490d-8cf5-66fea1429fee"
      },
      "execution_count": 50,
      "outputs": [
        {
          "output_type": "stream",
          "name": "stdout",
          "text": [
            "['I', 'am', 'the', 'one', 'who', 'knocks!']\n"
          ]
        }
      ]
    },
    {
      "cell_type": "code",
      "source": [
        "#Now we can print each word by iterating through this list\n",
        "for word in words_in_quote:\n",
        "  if word in ['I','me.']:\n",
        "    print(f\"the word is {word}\")"
      ],
      "metadata": {
        "colab": {
          "base_uri": "https://localhost:8080/"
        },
        "id": "iSI7ZwnJCfdg",
        "outputId": "cfcb6882-5cf5-440c-f950-5d8fda10aae0"
      },
      "execution_count": 58,
      "outputs": [
        {
          "output_type": "stream",
          "name": "stdout",
          "text": [
            "the word is I\n"
          ]
        }
      ]
    },
    {
      "cell_type": "code",
      "source": [
        "#Suppose we have a tupple of days\n",
        "days = ('monday','tuesday','wednesday','thursday','friday','saturday','sunday')\n",
        "for day in days:\n",
        "  print(f\"today is {day}\")"
      ],
      "metadata": {
        "colab": {
          "base_uri": "https://localhost:8080/"
        },
        "id": "6bJWY_KLDWPQ",
        "outputId": "415f5ff7-7c66-4806-8bd1-ab405598f7b8"
      },
      "execution_count": 59,
      "outputs": [
        {
          "output_type": "stream",
          "name": "stdout",
          "text": [
            "today is monday\n",
            "today is tuesday\n",
            "today is wednesday\n",
            "today is thursday\n",
            "today is friday\n",
            "today is saturday\n",
            "today is sunday\n"
          ]
        }
      ]
    },
    {
      "cell_type": "code",
      "source": [
        "country_city_river_list = [('india','new delhi','ganga'),('pakistan','islamabad','indus'),('afghanistan','kabul','afghan')]"
      ],
      "metadata": {
        "id": "ZQOBpRszDGlh"
      },
      "execution_count": null,
      "outputs": []
    },
    {
      "cell_type": "code",
      "source": [
        "#Let us iterate through each tuple element of this list and unoack each item\n",
        "country_city_river_list = [('india','new delhi','ganga'),('pakistan','islamabad','indus'),('afghanistan','kabul','afghan')]\n",
        "for country,city,river in country_city_river_list:\n",
        "  print(f\"the capital of the country is {country} is {city} and it also has the river {river}.\")"
      ],
      "metadata": {
        "colab": {
          "base_uri": "https://localhost:8080/"
        },
        "id": "q7GSTvIJEDw1",
        "outputId": "6eb49667-f022-45a7-bcd9-5e0e5ab703f2"
      },
      "execution_count": 61,
      "outputs": [
        {
          "output_type": "stream",
          "name": "stdout",
          "text": [
            "the capital of the country is india is new delhi and it also has the river ganga.\n",
            "the capital of the country is pakistan is islamabad and it also has the river indus.\n",
            "the capital of the country is afghanistan is kabul and it also has the river afghan.\n"
          ]
        }
      ]
    },
    {
      "cell_type": "code",
      "source": [
        "country_city_dict = {1:\"india\",2:\"usa\"}\n",
        "for item in country_city_dict:\n",
        "  print(item,country_city_dict[item])"
      ],
      "metadata": {
        "colab": {
          "base_uri": "https://localhost:8080/"
        },
        "id": "AGVjTBk8FKuE",
        "outputId": "2527d222-9c04-4d88-daf3-78237b4ea2e8"
      },
      "execution_count": 65,
      "outputs": [
        {
          "output_type": "stream",
          "name": "stdout",
          "text": [
            "1 india\n",
            "2 usa\n"
          ]
        }
      ]
    },
    {
      "cell_type": "code",
      "source": [
        "country_city_dict.items()"
      ],
      "metadata": {
        "id": "TRT5qLocFm1y"
      },
      "execution_count": null,
      "outputs": []
    },
    {
      "cell_type": "code",
      "source": [
        "for country,city in country_city_dict.items():\n",
        "  print(f\"the capital of the country is {country} is {city}.\")"
      ],
      "metadata": {
        "colab": {
          "base_uri": "https://localhost:8080/"
        },
        "id": "FZTU3hSOFyuC",
        "outputId": "5c76c9f3-8625-4b04-c2e2-d8f8cba9fe5f"
      },
      "execution_count": 66,
      "outputs": [
        {
          "output_type": "stream",
          "name": "stdout",
          "text": [
            "the capital of the country is 1 is india.\n",
            "the capital of the country is 2 is usa.\n"
          ]
        }
      ]
    },
    {
      "cell_type": "code",
      "source": [
        "for elem in {1,2,3}:\n",
        "  print(elem)"
      ],
      "metadata": {
        "id": "KH9MIxLXF-PA"
      },
      "execution_count": null,
      "outputs": []
    },
    {
      "cell_type": "code",
      "source": [
        "#While loop\n",
        "x = 0\n",
        "while x < 10:\n",
        "  print('x is currently: ',x)\n",
        "  print('x is still less than 10, adding 1 to x')\n",
        "  x = x + 1"
      ],
      "metadata": {
        "colab": {
          "base_uri": "https://localhost:8080/"
        },
        "id": "MmCv9xNcGEPN",
        "outputId": "c6cdf320-8378-435d-b20e-cb3bf2744ec5"
      },
      "execution_count": 67,
      "outputs": [
        {
          "output_type": "stream",
          "name": "stdout",
          "text": [
            "x is currently:  0\n",
            "x is still less than 10, adding 1 to x\n",
            "x is currently:  1\n",
            "x is still less than 10, adding 1 to x\n",
            "x is currently:  2\n",
            "x is still less than 10, adding 1 to x\n",
            "x is currently:  3\n",
            "x is still less than 10, adding 1 to x\n",
            "x is currently:  4\n",
            "x is still less than 10, adding 1 to x\n",
            "x is currently:  5\n",
            "x is still less than 10, adding 1 to x\n",
            "x is currently:  6\n",
            "x is still less than 10, adding 1 to x\n",
            "x is currently:  7\n",
            "x is still less than 10, adding 1 to x\n",
            "x is currently:  8\n",
            "x is still less than 10, adding 1 to x\n",
            "x is currently:  9\n",
            "x is still less than 10, adding 1 to x\n"
          ]
        }
      ]
    },
    {
      "cell_type": "code",
      "source": [
        "#Else statement\n",
        "x = 0\n",
        "while x < 5:\n",
        "  print('x is currently: ',x)\n",
        "  print(' x is stil less than 10, adding 1 to x')\n",
        "  x +=1"
      ],
      "metadata": {
        "colab": {
          "base_uri": "https://localhost:8080/"
        },
        "id": "Y7oFuCjiGcsU",
        "outputId": "046b9df5-3148-43a0-fc82-56e69155c94a"
      },
      "execution_count": 72,
      "outputs": [
        {
          "output_type": "stream",
          "name": "stdout",
          "text": [
            "x is currently:  0\n",
            " x is stil less than 10, adding 1 to x\n",
            "x is currently:  1\n",
            " x is stil less than 10, adding 1 to x\n",
            "x is currently:  2\n",
            " x is stil less than 10, adding 1 to x\n",
            "x is currently:  3\n",
            " x is stil less than 10, adding 1 to x\n",
            "x is currently:  4\n",
            " x is stil less than 10, adding 1 to x\n"
          ]
        }
      ]
    },
    {
      "cell_type": "code",
      "source": [
        "print(\"all done\")\n",
        "print(\"i am done with the iteration\")"
      ],
      "metadata": {
        "id": "n_ySihqzHQAC"
      },
      "execution_count": null,
      "outputs": []
    },
    {
      "cell_type": "code",
      "source": [
        "#Break and continue statement\n",
        "x = 0\n",
        "while x < 10:\n",
        "  print('x is currently: ',x)\n",
        "  print(' x is still less than 10, adding 1 to x')\n",
        "  x +=1\n",
        "  if x == 3:\n",
        "    print('x == 3')\n",
        "  else:\n",
        "    print('continuing...')\n",
        "    continue"
      ],
      "metadata": {
        "colab": {
          "base_uri": "https://localhost:8080/"
        },
        "id": "B6LHJf_OHh5f",
        "outputId": "66dbf044-a999-40ee-af8b-e6b6df2e314a"
      },
      "execution_count": 73,
      "outputs": [
        {
          "output_type": "stream",
          "name": "stdout",
          "text": [
            "x is currently:  0\n",
            " x is still less than 10, adding 1 to x\n",
            "continuing...\n",
            "x is currently:  1\n",
            " x is still less than 10, adding 1 to x\n",
            "continuing...\n",
            "x is currently:  2\n",
            " x is still less than 10, adding 1 to x\n",
            "x == 3\n",
            "x is currently:  3\n",
            " x is still less than 10, adding 1 to x\n",
            "continuing...\n",
            "x is currently:  4\n",
            " x is still less than 10, adding 1 to x\n",
            "continuing...\n",
            "x is currently:  5\n",
            " x is still less than 10, adding 1 to x\n",
            "continuing...\n",
            "x is currently:  6\n",
            " x is still less than 10, adding 1 to x\n",
            "continuing...\n",
            "x is currently:  7\n",
            " x is still less than 10, adding 1 to x\n",
            "continuing...\n",
            "x is currently:  8\n",
            " x is still less than 10, adding 1 to x\n",
            "continuing...\n",
            "x is currently:  9\n",
            " x is still less than 10, adding 1 to x\n",
            "continuing...\n"
          ]
        }
      ]
    },
    {
      "cell_type": "code",
      "source": [],
      "metadata": {
        "id": "FjhJEpMEIh0j"
      },
      "execution_count": null,
      "outputs": []
    }
  ]
}