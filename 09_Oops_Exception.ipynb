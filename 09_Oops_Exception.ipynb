{
  "nbformat": 4,
  "nbformat_minor": 0,
  "metadata": {
    "colab": {
      "provenance": [],
      "authorship_tag": "ABX9TyNtLXpOe9z9wVBy7kSW2GoD",
      "include_colab_link": true
    },
    "kernelspec": {
      "name": "python3",
      "display_name": "Python 3"
    },
    "language_info": {
      "name": "python"
    }
  },
  "cells": [
    {
      "cell_type": "markdown",
      "metadata": {
        "id": "view-in-github",
        "colab_type": "text"
      },
      "source": [
        "<a href=\"https://colab.research.google.com/github/SunakshiRawat/python/blob/main/09_Oops_Exception.ipynb\" target=\"_parent\"><img src=\"https://colab.research.google.com/assets/colab-badge.svg\" alt=\"Open In Colab\"/></a>"
      ]
    },
    {
      "cell_type": "code",
      "execution_count": 1,
      "metadata": {
        "colab": {
          "base_uri": "https://localhost:8080/"
        },
        "id": "N0n8nPtaVg8D",
        "outputId": "03d9d2fc-e631-4ff3-ecf0-f3f9cf948928"
      },
      "outputs": [
        {
          "output_type": "execute_result",
          "data": {
            "text/plain": [
              "[]"
            ]
          },
          "metadata": {},
          "execution_count": 1
        }
      ],
      "source": [
        "empty_list = []\n",
        "empty_list"
      ]
    },
    {
      "cell_type": "code",
      "source": [
        "another_empty_list = list()\n",
        "another_empty_list"
      ],
      "metadata": {
        "colab": {
          "base_uri": "https://localhost:8080/"
        },
        "id": "mdguvXvNV4A_",
        "outputId": "a0fcdd5e-dd81-409f-e7db-4831ec8611f5"
      },
      "execution_count": 2,
      "outputs": [
        {
          "output_type": "execute_result",
          "data": {
            "text/plain": [
              "[]"
            ]
          },
          "metadata": {},
          "execution_count": 2
        }
      ]
    },
    {
      "cell_type": "code",
      "source": [
        "another_empty_list.append(2)\n",
        "another_empty_list"
      ],
      "metadata": {
        "colab": {
          "base_uri": "https://localhost:8080/"
        },
        "id": "qorsVs5SV6ov",
        "outputId": "b7054972-4f90-4416-d705-c5bb42134402"
      },
      "execution_count": 3,
      "outputs": [
        {
          "output_type": "execute_result",
          "data": {
            "text/plain": [
              "[2]"
            ]
          },
          "metadata": {},
          "execution_count": 3
        }
      ]
    },
    {
      "cell_type": "code",
      "source": [
        "another_empty_list.index(3)"
      ],
      "metadata": {
        "colab": {
          "base_uri": "https://localhost:8080/"
        },
        "id": "2Od46PlsWIA-",
        "outputId": "f96ab1ef-9cf7-4745-aa92-345960d8f5b2"
      },
      "execution_count": 15,
      "outputs": [
        {
          "output_type": "execute_result",
          "data": {
            "text/plain": [
              "1"
            ]
          },
          "metadata": {},
          "execution_count": 15
        }
      ]
    },
    {
      "cell_type": "code",
      "source": [
        "the_sixth_sense = 6\n",
        "print(type(the_sixth_sense))"
      ],
      "metadata": {
        "colab": {
          "base_uri": "https://localhost:8080/"
        },
        "id": "3XFkkc88WdyB",
        "outputId": "4f87b834-e153-4321-f977-82e1cda34b14"
      },
      "execution_count": 25,
      "outputs": [
        {
          "output_type": "stream",
          "name": "stdout",
          "text": [
            "<class 'int'>\n"
          ]
        }
      ]
    },
    {
      "cell_type": "code",
      "source": [
        "two_and_a_half = 2.5\n",
        "print(type(two_and_a_half))"
      ],
      "metadata": {
        "colab": {
          "base_uri": "https://localhost:8080/"
        },
        "id": "Uuw0iYF5W4gA",
        "outputId": "97af6fa5-bd27-4dc8-9e07-e16e5a7e815b"
      },
      "execution_count": 26,
      "outputs": [
        {
          "output_type": "stream",
          "name": "stdout",
          "text": [
            "<class 'float'>\n"
          ]
        }
      ]
    },
    {
      "cell_type": "code",
      "source": [
        "fellow_list = list()\n",
        "print(type(fellow_list))"
      ],
      "metadata": {
        "colab": {
          "base_uri": "https://localhost:8080/"
        },
        "id": "AzfrEk3WXEnO",
        "outputId": "2335e4b5-73cd-420e-d584-ef548af17f0d"
      },
      "execution_count": 27,
      "outputs": [
        {
          "output_type": "stream",
          "name": "stdout",
          "text": [
            "<class 'list'>\n"
          ]
        }
      ]
    },
    {
      "cell_type": "code",
      "source": [
        "another_list = list()\n",
        "tharoor = {'farrago':'a confused mixture'}\n",
        "print(type(tharoor))"
      ],
      "metadata": {
        "colab": {
          "base_uri": "https://localhost:8080/"
        },
        "id": "EDFR47LVXNTP",
        "outputId": "6815e2c6-5ef5-4d9a-e62f-1fd74f9994fa"
      },
      "execution_count": 28,
      "outputs": [
        {
          "output_type": "stream",
          "name": "stdout",
          "text": [
            "<class 'dict'>\n"
          ]
        }
      ]
    },
    {
      "cell_type": "code",
      "source": [
        "#Create a new object type called FirstClass\n",
        "class FirstClass:\n",
        "  pass"
      ],
      "metadata": {
        "id": "Iz0bffpGXbdf"
      },
      "execution_count": 32,
      "outputs": []
    },
    {
      "cell_type": "code",
      "source": [
        "#Instance of FirstClass\n",
        "x = FirstClass()\n",
        "print(type(x))"
      ],
      "metadata": {
        "colab": {
          "base_uri": "https://localhost:8080/"
        },
        "id": "eWptHlPQXwsB",
        "outputId": "af286ba0-8270-41e0-d556-7642b8155764"
      },
      "execution_count": 33,
      "outputs": [
        {
          "output_type": "stream",
          "name": "stdout",
          "text": [
            "<class '__main__.FirstClass'>\n"
          ]
        }
      ]
    },
    {
      "cell_type": "code",
      "source": [
        "y = FirstClass()\n",
        "print(type(y))"
      ],
      "metadata": {
        "colab": {
          "base_uri": "https://localhost:8080/"
        },
        "id": "b4KzKFQ4X7X-",
        "outputId": "1b4813a4-1f43-49c9-f96a-094f6edc7121"
      },
      "execution_count": 34,
      "outputs": [
        {
          "output_type": "stream",
          "name": "stdout",
          "text": [
            "<class '__main__.FirstClass'>\n"
          ]
        }
      ]
    },
    {
      "cell_type": "code",
      "source": [
        "#Attributes\n",
        "class Dog:\n",
        "  def __init__(self, breed, name):\n",
        "    self.breed_attribute = breed\n",
        "    self.name_attribute = name"
      ],
      "metadata": {
        "id": "kYz87ASmX-5f"
      },
      "execution_count": 39,
      "outputs": []
    },
    {
      "cell_type": "code",
      "source": [
        "sam_object = Dog(breed='Lab', name='Sam')\n",
        "frank_object = Dog(breed='Huskie', name='Frank')"
      ],
      "metadata": {
        "id": "Bp0Pnb9jYhSA"
      },
      "execution_count": 42,
      "outputs": []
    },
    {
      "cell_type": "code",
      "source": [
        "sam_object.breed_attribute"
      ],
      "metadata": {
        "colab": {
          "base_uri": "https://localhost:8080/",
          "height": 35
        },
        "id": "dZvUiWLXYyyN",
        "outputId": "592dca39-2a66-4431-9fc3-0feae0c14bf4"
      },
      "execution_count": 41,
      "outputs": [
        {
          "output_type": "execute_result",
          "data": {
            "text/plain": [
              "'Lab'"
            ],
            "application/vnd.google.colaboratory.intrinsic+json": {
              "type": "string"
            }
          },
          "metadata": {},
          "execution_count": 41
        }
      ]
    },
    {
      "cell_type": "code",
      "source": [
        "frank_object.name_attribute"
      ],
      "metadata": {
        "colab": {
          "base_uri": "https://localhost:8080/",
          "height": 35
        },
        "id": "inMpPnx8Y_UQ",
        "outputId": "2013588f-c5d1-49e4-8f80-d959d3b51847"
      },
      "execution_count": 43,
      "outputs": [
        {
          "output_type": "execute_result",
          "data": {
            "text/plain": [
              "'Frank'"
            ],
            "application/vnd.google.colaboratory.intrinsic+json": {
              "type": "string"
            }
          },
          "metadata": {},
          "execution_count": 43
        }
      ]
    },
    {
      "cell_type": "code",
      "source": [
        "#Circle class\n",
        "class Circle:\n",
        "  def __init__(self, radius = 1):\n",
        "    self.radius = radius\n",
        "    self.area = 3.14 * radius * radius\n",
        "\n",
        "  def setRadius(self, new_radius):\n",
        "      self.radius = new_radius\n",
        "      self.area = 3.14 * new_radius * new_radius\n",
        "\n",
        "  def getCircumference(self):\n",
        "      return 2 * 3.14 * self.radius\n",
        "\n",
        "c = Circle(2)\n",
        "c.area"
      ],
      "metadata": {
        "colab": {
          "base_uri": "https://localhost:8080/"
        },
        "id": "kMxYOyKwZCVf",
        "outputId": "a3f7b7c0-8425-46cd-ce73-531ffeab0488"
      },
      "execution_count": 55,
      "outputs": [
        {
          "output_type": "execute_result",
          "data": {
            "text/plain": [
              "12.56"
            ]
          },
          "metadata": {},
          "execution_count": 55
        }
      ]
    },
    {
      "cell_type": "code",
      "source": [
        "c.setRadius(10)\n",
        "print(c.getCircumference())"
      ],
      "metadata": {
        "colab": {
          "base_uri": "https://localhost:8080/"
        },
        "id": "LKbcdjIFZyDh",
        "outputId": "9f72ee36-be59-4a7d-b669-fc5170975d23"
      },
      "execution_count": 56,
      "outputs": [
        {
          "output_type": "stream",
          "name": "stdout",
          "text": [
            "62.800000000000004\n"
          ]
        }
      ]
    },
    {
      "cell_type": "code",
      "source": [
        "print('Radius is: ', c.radius)\n",
        "print('Area is: ', c.area)\n",
        "print('Circumference is: ', c.getCircumference())"
      ],
      "metadata": {
        "colab": {
          "base_uri": "https://localhost:8080/"
        },
        "id": "UOtAFtEDa_Hx",
        "outputId": "aa4e581e-01fe-4d80-bd40-4f67d7d1d072"
      },
      "execution_count": 57,
      "outputs": [
        {
          "output_type": "stream",
          "name": "stdout",
          "text": [
            "Radius is:  10\n",
            "Area is:  314.0\n",
            "Circumference is:  62.800000000000004\n"
          ]
        }
      ]
    },
    {
      "cell_type": "code",
      "source": [
        "#Changing the radius\n",
        "c.setRadius(4)\n",
        "print('radius is: ', c.radius)\n",
        "print('Area is: ', c.area)\n",
        "print('Circumference is: ', c.getCircumference())"
      ],
      "metadata": {
        "colab": {
          "base_uri": "https://localhost:8080/"
        },
        "id": "mGCXgea7aXB9",
        "outputId": "721a3396-fede-4196-86fd-ad902c899606"
      },
      "execution_count": 59,
      "outputs": [
        {
          "output_type": "stream",
          "name": "stdout",
          "text": [
            "radius is:  4\n",
            "Area is:  50.24\n",
            "Circumference is:  25.12\n"
          ]
        }
      ]
    },
    {
      "cell_type": "code",
      "source": [
        "#Polymorphism\n",
        "class HouseStark:\n",
        "  def __init__(self, sigil):\n",
        "    self.sigil = sigil\n",
        "\n",
        "  def motto(self):\n",
        "    return \"house stark with sigil \" + self.sigil + \"has the motto 'Winter is Coming'\"\n",
        "\n",
        "class HouseTargaryen:\n",
        "  def __init__(self, sigil):\n",
        "    self.sigil = sigil\n",
        "\n",
        "  def motto(self):\n",
        "      return \"house targaryen with sigil \" + self.sigil + \"has the motto 'Fire and Blood'\""
      ],
      "metadata": {
        "id": "yxUoTNJQbn7g"
      },
      "execution_count": 69,
      "outputs": []
    },
    {
      "cell_type": "code",
      "source": [
        "arya = HouseStark('direwolf')\n",
        "danaerys = HouseTargaryen('dragon')\n",
        "\n",
        "print(arya.motto())"
      ],
      "metadata": {
        "colab": {
          "base_uri": "https://localhost:8080/"
        },
        "id": "6t-J5LBvcU7B",
        "outputId": "50e2661a-962c-40e5-eb28-654f785b5427"
      },
      "execution_count": 70,
      "outputs": [
        {
          "output_type": "stream",
          "name": "stdout",
          "text": [
            "house stark with sigil direwolfhas the motto 'Winter is Coming'\n"
          ]
        }
      ]
    },
    {
      "cell_type": "code",
      "source": [
        "print(danaerys.motto())"
      ],
      "metadata": {
        "colab": {
          "base_uri": "https://localhost:8080/"
        },
        "id": "Xj8ueC65dOiU",
        "outputId": "4b9463fb-658c-46b2-c44e-03382db6f6c7"
      },
      "execution_count": 72,
      "outputs": [
        {
          "output_type": "stream",
          "name": "stdout",
          "text": [
            "house targaryen with sigil dragonhas the motto 'Fire and Blood'\n"
          ]
        }
      ]
    },
    {
      "cell_type": "code",
      "source": [
        "for warrior in [arya, danaerys]:\n",
        "  print(warrior.motto())"
      ],
      "metadata": {
        "colab": {
          "base_uri": "https://localhost:8080/"
        },
        "id": "GyAp4pAFdkbB",
        "outputId": "5b17fb2d-5769-4206-ad01-af9fde126197"
      },
      "execution_count": 73,
      "outputs": [
        {
          "output_type": "stream",
          "name": "stdout",
          "text": [
            "house stark with sigil direwolfhas the motto 'Winter is Coming'\n",
            "house targaryen with sigil dragonhas the motto 'Fire and Blood'\n"
          ]
        }
      ]
    },
    {
      "cell_type": "code",
      "source": [
        "def get_motto(warrior):\n",
        "  print(warrior.motto())\n",
        "\n",
        "get_motto(arya)\n",
        "get_motto(danaerys)"
      ],
      "metadata": {
        "colab": {
          "base_uri": "https://localhost:8080/"
        },
        "id": "pdE5NZbYduy-",
        "outputId": "796267d4-1f00-4905-ff07-f9805ca5756f"
      },
      "execution_count": 75,
      "outputs": [
        {
          "output_type": "stream",
          "name": "stdout",
          "text": [
            "house stark with sigil direwolfhas the motto 'Winter is Coming'\n",
            "house targaryen with sigil dragonhas the motto 'Fire and Blood'\n"
          ]
        }
      ]
    },
    {
      "cell_type": "code",
      "source": [
        "#Try and except\n",
        "try:\n",
        "  print(\"good to go\")\n",
        "  print('sss')\n",
        "  print('top','class')\n",
        "except:\n",
        "  print('yesss')\n",
        "  print('hahaha')\n",
        "  print('blabla')\n",
        "else:\n",
        "  print(\"t r u e\")\n",
        "  print(' no matter')\n",
        "  print('what')"
      ],
      "metadata": {
        "colab": {
          "base_uri": "https://localhost:8080/"
        },
        "id": "CKlbfqHIeBCt",
        "outputId": "8f77206f-7fe5-427a-9af1-10952b8022fe"
      },
      "execution_count": 76,
      "outputs": [
        {
          "output_type": "stream",
          "name": "stdout",
          "text": [
            "good to go\n",
            "sss\n",
            "top class\n",
            "t r u e\n",
            " no matter\n",
            "what\n"
          ]
        }
      ]
    },
    {
      "cell_type": "code",
      "source": [
        "#Finally\n",
        "try:\n",
        "  print(\"execute try statements\")\n",
        "except:\n",
        "  print(\"neverrrr\")\n",
        "finally:\n",
        "  print(\"finally always\")"
      ],
      "metadata": {
        "colab": {
          "base_uri": "https://localhost:8080/"
        },
        "id": "iBbwczhnes2f",
        "outputId": "a51c9952-9059-4816-ab52-d5ae378624de"
      },
      "execution_count": 77,
      "outputs": [
        {
          "output_type": "stream",
          "name": "stdout",
          "text": [
            "execute try statements\n",
            "finally always\n"
          ]
        }
      ]
    },
    {
      "cell_type": "code",
      "source": [
        "#A real world case example\n",
        "'''\n",
        "uber price calculation\n",
        "'''\n",
        "def get_price_per_km(hour):\n",
        "\n",
        "  if (hour>8 & (hour<11)):\n",
        "    price_per_km = 20\n",
        "  elif (hour>18 & (hour<21)):\n",
        "    price_per_km = 25\n",
        "  else:\n",
        "    price_per_km = 30\n",
        "  return price_per_km"
      ],
      "metadata": {
        "id": "Vro6MvkwfWI9"
      },
      "execution_count": 79,
      "outputs": []
    },
    {
      "cell_type": "code",
      "source": [
        "'''\n",
        "productiobn grade code\n",
        "'''\n",
        "class SurgePricing:\n",
        "    def __init__(self):\n",
        "        pass\n",
        "    def get_price_per_km(self, hour):\n",
        "        try:\n",
        "            if (hour > 8 and (hour < 11)):\n",
        "                price_per_km = 20\n",
        "            elif (hour > 18 and (hour < 21)):\n",
        "                price_per_km = 25\n",
        "            else:\n",
        "                price_per_km = 30\n",
        "        except:\n",
        "            price_per_km = 10\n",
        "        return price_per_km"
      ],
      "metadata": {
        "id": "UiLbie_lgJVP"
      },
      "execution_count": 92,
      "outputs": []
    }
  ]
}