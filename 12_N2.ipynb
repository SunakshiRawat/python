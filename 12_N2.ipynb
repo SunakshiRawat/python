{
  "nbformat": 4,
  "nbformat_minor": 0,
  "metadata": {
    "colab": {
      "provenance": [],
      "authorship_tag": "ABX9TyPe+1LRp5x5Q55JYkYD6JGI",
      "include_colab_link": true
    },
    "kernelspec": {
      "name": "python3",
      "display_name": "Python 3"
    },
    "language_info": {
      "name": "python"
    }
  },
  "cells": [
    {
      "cell_type": "markdown",
      "metadata": {
        "id": "view-in-github",
        "colab_type": "text"
      },
      "source": [
        "<a href=\"https://colab.research.google.com/github/SunakshiRawat/python/blob/main/12_N2.ipynb\" target=\"_parent\"><img src=\"https://colab.research.google.com/assets/colab-badge.svg\" alt=\"Open In Colab\"/></a>"
      ]
    },
    {
      "cell_type": "code",
      "execution_count": 1,
      "metadata": {
        "id": "StUVtIxJqbiq"
      },
      "outputs": [],
      "source": [
        "import numpy as np"
      ]
    },
    {
      "cell_type": "code",
      "source": [
        "#np.transpose()"
      ],
      "metadata": {
        "id": "H-tOkgjr36ce"
      },
      "execution_count": null,
      "outputs": []
    },
    {
      "cell_type": "code",
      "source": [
        "#Create a 2d array\n",
        "two_d_array = np.array(np.random.randint(1,5,(2,5)))\n",
        "print(f\"the defined array is\\n{two_d_array}\")\n",
        "print(f\"\\n the shape of the array is {two_d_array.shape}\")"
      ],
      "metadata": {
        "colab": {
          "base_uri": "https://localhost:8080/"
        },
        "id": "YlfODSq_HNpm",
        "outputId": "1e08b66e-a83d-4960-9a33-e300880d7b17"
      },
      "execution_count": 2,
      "outputs": [
        {
          "output_type": "stream",
          "name": "stdout",
          "text": [
            "the defined array is\n",
            "[[1 3 1 4 3]\n",
            " [4 1 1 1 1]]\n",
            "\n",
            " the shape of the array is (2, 5)\n"
          ]
        }
      ]
    },
    {
      "cell_type": "code",
      "source": [
        "#Storing the transpose in another matrix object\n",
        "another_two_d_array = np.transpose(two_d_array)\n",
        "print(f\" the transpose of the array is \\n{another_two_d_array}\")\n",
        "print(f\"\\n the shape of the array is {another_two_d_array.shape}\")"
      ],
      "metadata": {
        "colab": {
          "base_uri": "https://localhost:8080/"
        },
        "id": "yIZno7dUHv33",
        "outputId": "535fb3e8-c2cc-43d4-d8f2-a721d51cf245"
      },
      "execution_count": 4,
      "outputs": [
        {
          "output_type": "stream",
          "name": "stdout",
          "text": [
            " the transpose of the array is \n",
            "[[1 4]\n",
            " [3 1]\n",
            " [1 1]\n",
            " [4 1]\n",
            " [3 1]]\n",
            "\n",
            " the shape of the array is (5, 2)\n"
          ]
        }
      ]
    },
    {
      "cell_type": "code",
      "source": [
        "#Creating a 3d array\n",
        "three_d_array = np.array(np.random.randint(1,6,(3,3,3)))\n",
        "print(f\"the defined array is\\n{three_d_array}\")\n",
        "print(f\"\\n the shape of the array is {three_d_array.shape}\")"
      ],
      "metadata": {
        "colab": {
          "base_uri": "https://localhost:8080/"
        },
        "id": "BxKgvbhgIQUw",
        "outputId": "99ee1aa3-dd09-4da4-f626-8f66b4cf8711"
      },
      "execution_count": 5,
      "outputs": [
        {
          "output_type": "stream",
          "name": "stdout",
          "text": [
            "the defined array is\n",
            "[[[3 4 4]\n",
            "  [3 2 1]\n",
            "  [3 3 3]]\n",
            "\n",
            " [[1 4 5]\n",
            "  [3 1 4]\n",
            "  [4 1 5]]\n",
            "\n",
            " [[1 3 5]\n",
            "  [1 2 4]\n",
            "  [4 5 5]]]\n",
            "\n",
            " the shape of the array is (3, 3, 3)\n"
          ]
        }
      ]
    },
    {
      "cell_type": "code",
      "source": [
        "#Storing the transpose of the created array\n",
        "another_three_d_array = np.transpose(three_d_array)\n",
        "print(f\"the transpose the array is \\n{three_d_array}\")\n",
        "print(f\"\\n the shape of the array is \\n{another_three_d_array.shape}\")"
      ],
      "metadata": {
        "colab": {
          "base_uri": "https://localhost:8080/"
        },
        "id": "k7AOGPTTIoZX",
        "outputId": "dfeb0547-07f2-4ccb-b3a4-46aae4a17012"
      },
      "execution_count": 6,
      "outputs": [
        {
          "output_type": "stream",
          "name": "stdout",
          "text": [
            "the transpose the array is \n",
            "[[[3 4 4]\n",
            "  [3 2 1]\n",
            "  [3 3 3]]\n",
            "\n",
            " [[1 4 5]\n",
            "  [3 1 4]\n",
            "  [4 1 5]]\n",
            "\n",
            " [[1 3 5]\n",
            "  [1 2 4]\n",
            "  [4 5 5]]]\n",
            "\n",
            " the shape of the array is \n",
            "(3, 3, 3)\n"
          ]
        }
      ]
    },
    {
      "cell_type": "code",
      "source": [
        "#np.reshape()\n",
        "random_two_d_array = np.array(np.random.randint(2,4,(2,6)))\n",
        "print(f\" the defined array is \\n{random_two_d_array}\")\n",
        "print(f\"\\n the shape of the array is{random_two_d_array.shape}\")"
      ],
      "metadata": {
        "colab": {
          "base_uri": "https://localhost:8080/"
        },
        "id": "7jQcJ_LqJBST",
        "outputId": "ebaf505f-b797-4169-cabf-3e0370fdccf7"
      },
      "execution_count": 15,
      "outputs": [
        {
          "output_type": "stream",
          "name": "stdout",
          "text": [
            " the defined array is \n",
            "[[2 3 2 2 3 2]\n",
            " [3 3 3 3 2 3]]\n",
            "\n",
            " the shape of the array is(2, 6)\n"
          ]
        }
      ]
    },
    {
      "cell_type": "code",
      "source": [
        "#Now we can reshape this to 1d,2d,3d array\n",
        "new_shape = (2,2,3)\n",
        "reshaped_random_two_d_array = np.reshape(random_two_d_array, new_shape)\n",
        "print(f\" the reshaped array is \\n{reshaped_random_two_d_array}\")\n",
        "print(f\"\\n the shape of the array is{reshaped_random_two_d_array.shape}\")"
      ],
      "metadata": {
        "colab": {
          "base_uri": "https://localhost:8080/"
        },
        "id": "w4zSFjXiP46I",
        "outputId": "4b53c77c-494d-4c62-976f-7669a415cf35"
      },
      "execution_count": 16,
      "outputs": [
        {
          "output_type": "stream",
          "name": "stdout",
          "text": [
            " the reshaped array is \n",
            "[[[2 3 2]\n",
            "  [2 3 2]]\n",
            "\n",
            " [[3 3 3]\n",
            "  [3 2 3]]]\n",
            "\n",
            " the shape of the array is(2, 2, 3)\n"
          ]
        }
      ]
    },
    {
      "cell_type": "code",
      "source": [
        "new_shape = (3,2,2)\n",
        "reshaped_random_two_d_array = np.reshape(random_two_d_array, new_shape)\n",
        "print(f\" the reshaped array is \\n{reshaped_random_two_d_array}\")\n",
        "print(f\" \\n the shape of the array is{reshaped_random_two_d_array.shape}\")"
      ],
      "metadata": {
        "colab": {
          "base_uri": "https://localhost:8080/"
        },
        "id": "2GgtOUnuRTvf",
        "outputId": "5a89cf13-a653-40b7-d5ab-9f9c47d881e8"
      },
      "execution_count": 23,
      "outputs": [
        {
          "output_type": "stream",
          "name": "stdout",
          "text": [
            " the reshaped array is \n",
            "[[[2 3]\n",
            "  [2 2]]\n",
            "\n",
            " [[3 2]\n",
            "  [3 3]]\n",
            "\n",
            " [[3 3]\n",
            "  [2 3]]]\n",
            " \n",
            " the shape of the array is(3, 2, 2)\n"
          ]
        }
      ]
    },
    {
      "cell_type": "code",
      "source": [
        "#Create a 3d array\n",
        "random_3d_array = np.array(np.random.randint(1,5,(3,3,2)))\n",
        "print(f\"the defined array is\\n{random_3d_array}\")\n",
        "print(f\"\\n the shape of the array is {random_3d_array.shape}\")"
      ],
      "metadata": {
        "colab": {
          "base_uri": "https://localhost:8080/"
        },
        "id": "VnXW1BKNQ9Ep",
        "outputId": "75136993-1e99-47a8-be0e-5b67c15d6909"
      },
      "execution_count": 26,
      "outputs": [
        {
          "output_type": "stream",
          "name": "stdout",
          "text": [
            "the defined array is\n",
            "[[[2 3]\n",
            "  [2 4]\n",
            "  [4 3]]\n",
            "\n",
            " [[2 2]\n",
            "  [1 4]\n",
            "  [2 4]]\n",
            "\n",
            " [[1 4]\n",
            "  [1 1]\n",
            "  [4 3]]]\n",
            "\n",
            " the shape of the array is (3, 3, 2)\n"
          ]
        }
      ]
    },
    {
      "cell_type": "code",
      "source": [
        "#Reshape the created 3d array\n",
        "new_shape = (3,2,3)\n",
        "reshaped_random_3d_array = np.reshape(random_3d_array, new_shape)\n",
        "print(f\" the reshaped array is \\n{reshaped_random_3d_array}\")\n",
        "print(\"f\\n the shape of the array is {reshaped_random_3d_array.shape}\")"
      ],
      "metadata": {
        "colab": {
          "base_uri": "https://localhost:8080/"
        },
        "id": "c_WURxSDTA4e",
        "outputId": "8fa4ef95-0638-468b-ecb4-56c42f12498e"
      },
      "execution_count": 28,
      "outputs": [
        {
          "output_type": "stream",
          "name": "stdout",
          "text": [
            " the reshaped array is \n",
            "[[[2 3 2]\n",
            "  [4 4 3]]\n",
            "\n",
            " [[2 2 1]\n",
            "  [4 2 4]]\n",
            "\n",
            " [[1 4 1]\n",
            "  [1 4 3]]]\n",
            "f\n",
            " the shape of the array is {reshaped_random_3d_array.shape}\n"
          ]
        }
      ]
    },
    {
      "cell_type": "code",
      "source": [
        "#np.resize(shape)\n",
        "#Initialize a 3d array\n",
        "random_3d_array = np.array(np.random.randint(1,5,(3,3,2)))\n",
        "print(f\"the defined array is\\n{random_3d_array}\")\n",
        "print(f\"\\n the shape of the array is {random_3d_array.shape}\")"
      ],
      "metadata": {
        "colab": {
          "base_uri": "https://localhost:8080/"
        },
        "id": "y9BvCth2TN-V",
        "outputId": "3180fb7c-eff6-48f3-fd13-504eceb4527f"
      },
      "execution_count": 29,
      "outputs": [
        {
          "output_type": "stream",
          "name": "stdout",
          "text": [
            "the defined array is\n",
            "[[[2 1]\n",
            "  [1 3]\n",
            "  [3 3]]\n",
            "\n",
            " [[1 4]\n",
            "  [3 2]\n",
            "  [4 3]]\n",
            "\n",
            " [[1 2]\n",
            "  [3 4]\n",
            "  [4 2]]]\n",
            "\n",
            " the shape of the array is (3, 3, 2)\n"
          ]
        }
      ]
    },
    {
      "cell_type": "code",
      "source": [
        "#Resize the created 3d array\n",
        "new_shape = (3,2,3)\n",
        "resized_random_3d_array = np.resize(random_3d_array, new_shape)\n",
        "print(f\" the resized array is \\n{resized_random_3d_array}\")\n",
        "print(f\" \\n the shape of the array is {reshaped_random_3d_array.shape}\")"
      ],
      "metadata": {
        "colab": {
          "base_uri": "https://localhost:8080/"
        },
        "id": "exB06d5HURx6",
        "outputId": "ff61bb87-17d3-4bb8-d027-6a76a499d094"
      },
      "execution_count": 30,
      "outputs": [
        {
          "output_type": "stream",
          "name": "stdout",
          "text": [
            " the resized array is \n",
            "[[[2 1 1]\n",
            "  [3 3 3]]\n",
            "\n",
            " [[1 4 3]\n",
            "  [2 4 3]]\n",
            "\n",
            " [[1 2 3]\n",
            "  [4 4 2]]]\n",
            " \n",
            " the shape of the array is (3, 2, 3)\n"
          ]
        }
      ]
    },
    {
      "cell_type": "code",
      "source": [
        "random_3d_array.resize(new_shape)\n",
        "random_3d_array"
      ],
      "metadata": {
        "colab": {
          "base_uri": "https://localhost:8080/"
        },
        "id": "3bxlpggSVPeE",
        "outputId": "cfb595b8-5b17-4085-d69d-2f6e148a16c4"
      },
      "execution_count": 32,
      "outputs": [
        {
          "output_type": "execute_result",
          "data": {
            "text/plain": [
              "array([[[2, 1, 1],\n",
              "        [3, 3, 3]],\n",
              "\n",
              "       [[1, 4, 3],\n",
              "        [2, 4, 3]],\n",
              "\n",
              "       [[1, 2, 3],\n",
              "        [4, 4, 2]]])"
            ]
          },
          "metadata": {},
          "execution_count": 32
        }
      ]
    },
    {
      "cell_type": "code",
      "source": [
        "#np.flatten()\n",
        "#Initialize a 3d array\n",
        "random_3d_array = np.array(np.random.randint(1,5,(3,3,2)))\n",
        "print(f\"the defined array is\\n{random_3d_array}\")\n",
        "print(f\"\\n the shape of the array is {random_3d_array.shape}\")"
      ],
      "metadata": {
        "colab": {
          "base_uri": "https://localhost:8080/"
        },
        "id": "SSAhptoWVc1j",
        "outputId": "01e57f2a-2327-416d-fa49-e5393565910e"
      },
      "execution_count": 37,
      "outputs": [
        {
          "output_type": "stream",
          "name": "stdout",
          "text": [
            "the defined array is\n",
            "[[[1 1]\n",
            "  [3 1]\n",
            "  [1 3]]\n",
            "\n",
            " [[3 1]\n",
            "  [3 2]\n",
            "  [4 3]]\n",
            "\n",
            " [[2 1]\n",
            "  [1 4]\n",
            "  [3 1]]]\n",
            "\n",
            " the shape of the array is (3, 3, 2)\n"
          ]
        }
      ]
    },
    {
      "cell_type": "code",
      "source": [
        "#Flatten the 3d array\n",
        "random_3d_array.flatten()"
      ],
      "metadata": {
        "colab": {
          "base_uri": "https://localhost:8080/"
        },
        "id": "UR6Fa6JEWA-S",
        "outputId": "9956981a-448a-4b86-b645-e9fd57d93f77"
      },
      "execution_count": 39,
      "outputs": [
        {
          "output_type": "execute_result",
          "data": {
            "text/plain": [
              "array([1, 1, 3, 1, 1, 3, 3, 1, 3, 2, 4, 3, 2, 1, 1, 4, 3, 1])"
            ]
          },
          "metadata": {},
          "execution_count": 39
        }
      ]
    },
    {
      "cell_type": "code",
      "source": [
        "#Flattens the array in row-major order with 'c'\n",
        "random_3d_array.flatten('c')"
      ],
      "metadata": {
        "colab": {
          "base_uri": "https://localhost:8080/"
        },
        "id": "2EJ02nbzYleu",
        "outputId": "91c3082b-e309-4496-e1db-46bcb363add0"
      },
      "execution_count": 40,
      "outputs": [
        {
          "output_type": "execute_result",
          "data": {
            "text/plain": [
              "array([1, 1, 3, 1, 1, 3, 3, 1, 3, 2, 4, 3, 2, 1, 1, 4, 3, 1])"
            ]
          },
          "metadata": {},
          "execution_count": 40
        }
      ]
    },
    {
      "cell_type": "code",
      "source": [
        "random_3d_array.flatten('f')"
      ],
      "metadata": {
        "colab": {
          "base_uri": "https://localhost:8080/"
        },
        "id": "moyEeTSEYzhX",
        "outputId": "98181ad4-7e3b-456a-9d7d-30ad0607e5a0"
      },
      "execution_count": 41,
      "outputs": [
        {
          "output_type": "execute_result",
          "data": {
            "text/plain": [
              "array([1, 3, 2, 3, 3, 1, 1, 4, 3, 1, 1, 1, 1, 2, 4, 3, 3, 1])"
            ]
          },
          "metadata": {},
          "execution_count": 41
        }
      ]
    },
    {
      "cell_type": "code",
      "source": [
        "#np.insert(arr,obj,values,axis)\n",
        "import numpy as np\n",
        "\n",
        "a = np.random.randint(10,20,(2,3,4))\n",
        "print(a)\n",
        "print(a.shape)"
      ],
      "metadata": {
        "colab": {
          "base_uri": "https://localhost:8080/"
        },
        "id": "X0E__n7aZFfg",
        "outputId": "6d480550-123c-4bf9-cd06-2c238a54976e"
      },
      "execution_count": 42,
      "outputs": [
        {
          "output_type": "stream",
          "name": "stdout",
          "text": [
            "[[[13 18 13 12]\n",
            "  [14 18 17 13]\n",
            "  [11 16 17 13]]\n",
            "\n",
            " [[13 14 19 17]\n",
            "  [16 18 15 10]\n",
            "  [14 19 12 12]]]\n",
            "(2, 3, 4)\n"
          ]
        }
      ]
    },
    {
      "cell_type": "code",
      "source": [
        "#Insert along axis=0\n",
        "np.insert(a,1,100,axis=0)"
      ],
      "metadata": {
        "colab": {
          "base_uri": "https://localhost:8080/"
        },
        "id": "A2hhXrbrcUrD",
        "outputId": "76245a28-f687-463e-820a-b3027562e8f4"
      },
      "execution_count": 43,
      "outputs": [
        {
          "output_type": "execute_result",
          "data": {
            "text/plain": [
              "array([[[ 13,  18,  13,  12],\n",
              "        [ 14,  18,  17,  13],\n",
              "        [ 11,  16,  17,  13]],\n",
              "\n",
              "       [[100, 100, 100, 100],\n",
              "        [100, 100, 100, 100],\n",
              "        [100, 100, 100, 100]],\n",
              "\n",
              "       [[ 13,  14,  19,  17],\n",
              "        [ 16,  18,  15,  10],\n",
              "        [ 14,  19,  12,  12]]])"
            ]
          },
          "metadata": {},
          "execution_count": 43
        }
      ]
    },
    {
      "cell_type": "code",
      "source": [
        "#Along axis=1\n",
        "np.insert(a,0,50,axis=1)"
      ],
      "metadata": {
        "colab": {
          "base_uri": "https://localhost:8080/"
        },
        "id": "ofn8aKMbcjvg",
        "outputId": "01abd6cd-a93e-446f-d48b-e3fd63911727"
      },
      "execution_count": 44,
      "outputs": [
        {
          "output_type": "execute_result",
          "data": {
            "text/plain": [
              "array([[[50, 50, 50, 50],\n",
              "        [13, 18, 13, 12],\n",
              "        [14, 18, 17, 13],\n",
              "        [11, 16, 17, 13]],\n",
              "\n",
              "       [[50, 50, 50, 50],\n",
              "        [13, 14, 19, 17],\n",
              "        [16, 18, 15, 10],\n",
              "        [14, 19, 12, 12]]])"
            ]
          },
          "metadata": {},
          "execution_count": 44
        }
      ]
    },
    {
      "cell_type": "code",
      "source": [
        "#Along axis=2\n",
        "np.insert(a,0,200,axis=2)"
      ],
      "metadata": {
        "colab": {
          "base_uri": "https://localhost:8080/"
        },
        "id": "_39_T7RhcsdW",
        "outputId": "3b9940f1-bb1b-4832-a2f7-a329a651b4a2"
      },
      "execution_count": 45,
      "outputs": [
        {
          "output_type": "execute_result",
          "data": {
            "text/plain": [
              "array([[[200,  13,  18,  13,  12],\n",
              "        [200,  14,  18,  17,  13],\n",
              "        [200,  11,  16,  17,  13]],\n",
              "\n",
              "       [[200,  13,  14,  19,  17],\n",
              "        [200,  16,  18,  15,  10],\n",
              "        [200,  14,  19,  12,  12]]])"
            ]
          },
          "metadata": {},
          "execution_count": 45
        }
      ]
    },
    {
      "cell_type": "code",
      "source": [
        "#np.append(arr,values,axis)\n",
        "\n",
        "a = np.random.randint(2,6,(2,3,3))\n",
        "print(a)\n",
        "print(a.shape)"
      ],
      "metadata": {
        "colab": {
          "base_uri": "https://localhost:8080/"
        },
        "id": "dO5RxQ_dcykD",
        "outputId": "6c9c5552-a189-4b0a-e392-4e6b9b3141ca"
      },
      "execution_count": 46,
      "outputs": [
        {
          "output_type": "stream",
          "name": "stdout",
          "text": [
            "[[[3 2 2]\n",
            "  [5 2 2]\n",
            "  [2 2 5]]\n",
            "\n",
            " [[4 5 4]\n",
            "  [2 2 2]\n",
            "  [3 5 4]]]\n",
            "(2, 3, 3)\n"
          ]
        }
      ]
    },
    {
      "cell_type": "code",
      "source": [
        "#Append a value to the array. It flattens the array and append =99 to the end\n",
        "np.append(a,50)"
      ],
      "metadata": {
        "colab": {
          "base_uri": "https://localhost:8080/"
        },
        "id": "WTL1L12SdECX",
        "outputId": "45268194-bc04-40e2-ab48-fc477a785db7"
      },
      "execution_count": 49,
      "outputs": [
        {
          "output_type": "execute_result",
          "data": {
            "text/plain": [
              "array([ 3,  2,  2,  5,  2,  2,  2,  2,  5,  4,  5,  4,  2,  2,  2,  3,  5,\n",
              "        4, 50])"
            ]
          },
          "metadata": {},
          "execution_count": 49
        }
      ]
    },
    {
      "cell_type": "code",
      "source": [
        "#Fix the axis other than axis of appending\n",
        "b = np.random.randint(2,6,(2,1,3))\n",
        "print(b)"
      ],
      "metadata": {
        "colab": {
          "base_uri": "https://localhost:8080/"
        },
        "id": "oIAUli-vdPCy",
        "outputId": "d57990a5-3444-4c05-dae0-573e660ede95"
      },
      "execution_count": 50,
      "outputs": [
        {
          "output_type": "stream",
          "name": "stdout",
          "text": [
            "[[[4 3 3]]\n",
            "\n",
            " [[3 4 4]]]\n"
          ]
        }
      ]
    },
    {
      "cell_type": "code",
      "source": [
        "print(a)\n",
        "print(a.shape)"
      ],
      "metadata": {
        "colab": {
          "base_uri": "https://localhost:8080/"
        },
        "id": "SkEl3IWxdltZ",
        "outputId": "b00aa0d8-f3c9-4c22-8683-c23552d216bc"
      },
      "execution_count": 51,
      "outputs": [
        {
          "output_type": "stream",
          "name": "stdout",
          "text": [
            "[[[3 2 2]\n",
            "  [5 2 2]\n",
            "  [2 2 5]]\n",
            "\n",
            " [[4 5 4]\n",
            "  [2 2 2]\n",
            "  [3 5 4]]]\n",
            "(2, 3, 3)\n"
          ]
        }
      ]
    },
    {
      "cell_type": "code",
      "source": [
        "np.append(a,b,axis=1)"
      ],
      "metadata": {
        "colab": {
          "base_uri": "https://localhost:8080/"
        },
        "id": "9ri2F-NLdoZ6",
        "outputId": "bf7eac51-88d9-437d-936c-f9556ec2ee68"
      },
      "execution_count": 52,
      "outputs": [
        {
          "output_type": "execute_result",
          "data": {
            "text/plain": [
              "array([[[3, 2, 2],\n",
              "        [5, 2, 2],\n",
              "        [2, 2, 5],\n",
              "        [4, 3, 3]],\n",
              "\n",
              "       [[4, 5, 4],\n",
              "        [2, 2, 2],\n",
              "        [3, 5, 4],\n",
              "        [3, 4, 4]]])"
            ]
          },
          "metadata": {},
          "execution_count": 52
        }
      ]
    },
    {
      "cell_type": "code",
      "source": [
        "#np.delete(arr,pbj,axis)\n",
        "\n",
        "a = np.random.randint(2,6,(2,3,3))\n",
        "print(a)\n",
        "print(a.shape)"
      ],
      "metadata": {
        "colab": {
          "base_uri": "https://localhost:8080/"
        },
        "id": "8WwGVrkAdsMd",
        "outputId": "5d11e63a-a444-4d76-8309-87e40f1be408"
      },
      "execution_count": 68,
      "outputs": [
        {
          "output_type": "stream",
          "name": "stdout",
          "text": [
            "[[[5 3 2]\n",
            "  [3 4 4]\n",
            "  [3 2 4]]\n",
            "\n",
            " [[3 4 5]\n",
            "  [5 5 3]\n",
            "  [2 4 3]]]\n",
            "(2, 3, 3)\n"
          ]
        }
      ]
    },
    {
      "cell_type": "code",
      "source": [
        "#Delete along axis=0\n",
        "np.delete(a,(0), axis=0)"
      ],
      "metadata": {
        "colab": {
          "base_uri": "https://localhost:8080/"
        },
        "id": "hjCKszZud4HD",
        "outputId": "dd39be95-1f5b-4f06-f151-5ba4c87fad79"
      },
      "execution_count": 69,
      "outputs": [
        {
          "output_type": "execute_result",
          "data": {
            "text/plain": [
              "array([[[3, 4, 5],\n",
              "        [5, 5, 3],\n",
              "        [2, 4, 3]]])"
            ]
          },
          "metadata": {},
          "execution_count": 69
        }
      ]
    },
    {
      "cell_type": "code",
      "source": [
        "#Delete along axis=1\n",
        "np.delete(a,(0,2), axis=1)"
      ],
      "metadata": {
        "colab": {
          "base_uri": "https://localhost:8080/"
        },
        "id": "2WFnH4vteDRy",
        "outputId": "f0517579-151f-4fc4-f705-4aa316515c99"
      },
      "execution_count": 70,
      "outputs": [
        {
          "output_type": "execute_result",
          "data": {
            "text/plain": [
              "array([[[3, 4, 4]],\n",
              "\n",
              "       [[5, 5, 3]]])"
            ]
          },
          "metadata": {},
          "execution_count": 70
        }
      ]
    },
    {
      "cell_type": "code",
      "source": [
        "a"
      ],
      "metadata": {
        "colab": {
          "base_uri": "https://localhost:8080/"
        },
        "id": "YLZqizIeeJsk",
        "outputId": "edcccefb-a7ec-4ed4-99f6-fe206e5cb81a"
      },
      "execution_count": 71,
      "outputs": [
        {
          "output_type": "execute_result",
          "data": {
            "text/plain": [
              "array([[[5, 3, 2],\n",
              "        [3, 4, 4],\n",
              "        [3, 2, 4]],\n",
              "\n",
              "       [[3, 4, 5],\n",
              "        [5, 5, 3],\n",
              "        [2, 4, 3]]])"
            ]
          },
          "metadata": {},
          "execution_count": 71
        }
      ]
    },
    {
      "cell_type": "code",
      "source": [
        "#Delete along axis=2\n",
        "np.delete(a,(0,1), axis=2)"
      ],
      "metadata": {
        "colab": {
          "base_uri": "https://localhost:8080/"
        },
        "id": "7St5K6PtfF38",
        "outputId": "3cdb184e-e5de-4034-9bae-ef53a6a015ed"
      },
      "execution_count": 72,
      "outputs": [
        {
          "output_type": "execute_result",
          "data": {
            "text/plain": [
              "array([[[2],\n",
              "        [4],\n",
              "        [4]],\n",
              "\n",
              "       [[5],\n",
              "        [3],\n",
              "        [3]]])"
            ]
          },
          "metadata": {},
          "execution_count": 72
        }
      ]
    },
    {
      "cell_type": "code",
      "source": [
        "#np.unique(arr,return_index,return_inverse,return_counts)\n",
        "#Initialized array\n",
        "\n",
        "a= np.random.randint(2,20,(2,3,3))\n",
        "print(a)\n",
        "print(a.shape)"
      ],
      "metadata": {
        "colab": {
          "base_uri": "https://localhost:8080/"
        },
        "id": "JCF15mkWfNCE",
        "outputId": "375649c1-c02f-4a66-e048-2a2154a6dd25"
      },
      "execution_count": 73,
      "outputs": [
        {
          "output_type": "stream",
          "name": "stdout",
          "text": [
            "[[[13 10 13]\n",
            "  [16  3  8]\n",
            "  [10 16  8]]\n",
            "\n",
            " [[15  2  2]\n",
            "  [19  9  5]\n",
            "  [18 18  8]]]\n",
            "(2, 3, 3)\n"
          ]
        }
      ]
    },
    {
      "cell_type": "code",
      "source": [
        "np.unique(a)"
      ],
      "metadata": {
        "colab": {
          "base_uri": "https://localhost:8080/"
        },
        "id": "Oofsjak7fmwi",
        "outputId": "e5439ba8-4bc0-4b7b-fa10-f31aab795cc0"
      },
      "execution_count": 74,
      "outputs": [
        {
          "output_type": "execute_result",
          "data": {
            "text/plain": [
              "array([ 2,  3,  5,  8,  9, 10, 13, 15, 16, 18, 19])"
            ]
          },
          "metadata": {},
          "execution_count": 74
        }
      ]
    },
    {
      "cell_type": "code",
      "source": [
        "#Return_counts = True\n",
        "np.unique(a,return_counts=True)"
      ],
      "metadata": {
        "colab": {
          "base_uri": "https://localhost:8080/"
        },
        "id": "-J7jl45ufqh2",
        "outputId": "a5d6ecdd-d9bb-42aa-f6b7-06b04ddb963d"
      },
      "execution_count": 75,
      "outputs": [
        {
          "output_type": "execute_result",
          "data": {
            "text/plain": [
              "(array([ 2,  3,  5,  8,  9, 10, 13, 15, 16, 18, 19]),\n",
              " array([2, 1, 1, 3, 1, 2, 2, 1, 2, 2, 1]))"
            ]
          },
          "metadata": {},
          "execution_count": 75
        }
      ]
    },
    {
      "cell_type": "code",
      "source": [
        "#Return_index = True\n",
        "np.unique(a,return_counts = True, return_index = True)"
      ],
      "metadata": {
        "colab": {
          "base_uri": "https://localhost:8080/"
        },
        "id": "9nVUH01jf4DJ",
        "outputId": "eaf416c7-a300-45ba-88ac-1eb6eb6c145f"
      },
      "execution_count": 76,
      "outputs": [
        {
          "output_type": "execute_result",
          "data": {
            "text/plain": [
              "(array([ 2,  3,  5,  8,  9, 10, 13, 15, 16, 18, 19]),\n",
              " array([10,  4, 14,  5, 13,  1,  0,  9,  3, 15, 12]),\n",
              " array([2, 1, 1, 3, 1, 2, 2, 1, 2, 2, 1]))"
            ]
          },
          "metadata": {},
          "execution_count": 76
        }
      ]
    },
    {
      "cell_type": "code",
      "source": [
        "#Lets take an example of a list\n",
        "\n",
        "a = [1,2,3]\n",
        "b=a\n",
        "b[0] = 10\n",
        "print(b)\n",
        "print(a)"
      ],
      "metadata": {
        "colab": {
          "base_uri": "https://localhost:8080/"
        },
        "id": "IdO4PZFQgJi4",
        "outputId": "ea4c4fe8-e9d7-4caf-cdfb-898b83befd89"
      },
      "execution_count": 77,
      "outputs": [
        {
          "output_type": "stream",
          "name": "stdout",
          "text": [
            "[10, 2, 3]\n",
            "[10, 2, 3]\n"
          ]
        }
      ]
    },
    {
      "cell_type": "code",
      "source": [
        "#Lets use the copy method\n",
        "a=[1,2,3]\n",
        "b=a.copy()\n",
        "b[0] = 10\n",
        "print(b)\n",
        "print(a)"
      ],
      "metadata": {
        "colab": {
          "base_uri": "https://localhost:8080/"
        },
        "id": "Jk56ISlhgWyx",
        "outputId": "484c76d4-68aa-4394-f452-9373f3698eb7"
      },
      "execution_count": 78,
      "outputs": [
        {
          "output_type": "stream",
          "name": "stdout",
          "text": [
            "[10, 2, 3]\n",
            "[1, 2, 3]\n"
          ]
        }
      ]
    },
    {
      "cell_type": "code",
      "source": [
        "#Let us look at an array\n",
        "a = np.array([2,34,12])\n",
        "b=a\n",
        "b[0] = -999\n",
        "print(b)\n",
        "print(a)"
      ],
      "metadata": {
        "colab": {
          "base_uri": "https://localhost:8080/"
        },
        "id": "VDrT6gYKgpER",
        "outputId": "fe041564-8e02-4762-fa68-65ba4ee148d7"
      },
      "execution_count": 79,
      "outputs": [
        {
          "output_type": "stream",
          "name": "stdout",
          "text": [
            "[-999   34   12]\n",
            "[-999   34   12]\n"
          ]
        }
      ]
    },
    {
      "cell_type": "code",
      "source": [
        "a = np.array([2,34,12])\n",
        "b=a.copy()\n",
        "b[0] = -999\n",
        "print(b)\n",
        "print(a)"
      ],
      "metadata": {
        "colab": {
          "base_uri": "https://localhost:8080/"
        },
        "id": "3ChLYKv2g3_N",
        "outputId": "0372b6e8-42cb-4276-ae3b-c6d4ec828150"
      },
      "execution_count": 80,
      "outputs": [
        {
          "output_type": "stream",
          "name": "stdout",
          "text": [
            "[-999   34   12]\n",
            "[ 2 34 12]\n"
          ]
        }
      ]
    },
    {
      "cell_type": "code",
      "source": [
        "#Basic operations and functions\n",
        "np.arange(3)"
      ],
      "metadata": {
        "colab": {
          "base_uri": "https://localhost:8080/"
        },
        "id": "RiAmA0QWhGuW",
        "outputId": "d0c00c62-b321-467e-ba3a-a4d2cefb6915"
      },
      "execution_count": 89,
      "outputs": [
        {
          "output_type": "execute_result",
          "data": {
            "text/plain": [
              "array([0, 1, 2])"
            ]
          },
          "metadata": {},
          "execution_count": 89
        }
      ]
    },
    {
      "cell_type": "code",
      "source": [
        "np.arange(3) + 5"
      ],
      "metadata": {
        "colab": {
          "base_uri": "https://localhost:8080/"
        },
        "id": "ql194XYqiVW6",
        "outputId": "2ab7ce00-0bee-492e-def4-7f5eaff086e4"
      },
      "execution_count": 90,
      "outputs": [
        {
          "output_type": "execute_result",
          "data": {
            "text/plain": [
              "array([5, 6, 7])"
            ]
          },
          "metadata": {},
          "execution_count": 90
        }
      ]
    },
    {
      "cell_type": "code",
      "source": [
        "np.ones((3,3))"
      ],
      "metadata": {
        "colab": {
          "base_uri": "https://localhost:8080/"
        },
        "id": "6QD-kq45hbw8",
        "outputId": "21781645-e28a-4682-e7bd-d9ba2899517d"
      },
      "execution_count": 91,
      "outputs": [
        {
          "output_type": "execute_result",
          "data": {
            "text/plain": [
              "array([[1., 1., 1.],\n",
              "       [1., 1., 1.],\n",
              "       [1., 1., 1.]])"
            ]
          },
          "metadata": {},
          "execution_count": 91
        }
      ]
    },
    {
      "cell_type": "code",
      "source": [
        "np.ones((3,3)) + np.arange(3)"
      ],
      "metadata": {
        "colab": {
          "base_uri": "https://localhost:8080/"
        },
        "id": "XA-QKjRMidq6",
        "outputId": "0537181b-5252-4ce0-c44c-3093e7ea7db5"
      },
      "execution_count": 92,
      "outputs": [
        {
          "output_type": "execute_result",
          "data": {
            "text/plain": [
              "array([[1., 2., 3.],\n",
              "       [1., 2., 3.],\n",
              "       [1., 2., 3.]])"
            ]
          },
          "metadata": {},
          "execution_count": 92
        }
      ]
    },
    {
      "cell_type": "code",
      "source": [
        "np.ones((2,4))"
      ],
      "metadata": {
        "colab": {
          "base_uri": "https://localhost:8080/"
        },
        "id": "Tv9G3RbLikNk",
        "outputId": "0afa9505-8507-404f-cadf-f429628c6eac"
      },
      "execution_count": 93,
      "outputs": [
        {
          "output_type": "execute_result",
          "data": {
            "text/plain": [
              "array([[1., 1., 1., 1.],\n",
              "       [1., 1., 1., 1.]])"
            ]
          },
          "metadata": {},
          "execution_count": 93
        }
      ]
    },
    {
      "cell_type": "code",
      "source": [
        "np.ones((2,4)) + np.arange(4)"
      ],
      "metadata": {
        "colab": {
          "base_uri": "https://localhost:8080/"
        },
        "id": "FRZN-pa1hxSv",
        "outputId": "46f23540-4f14-4e0a-b00b-48a8677a1961"
      },
      "execution_count": 98,
      "outputs": [
        {
          "output_type": "execute_result",
          "data": {
            "text/plain": [
              "array([[1., 2., 3., 4.],\n",
              "       [1., 2., 3., 4.]])"
            ]
          },
          "metadata": {},
          "execution_count": 98
        }
      ]
    },
    {
      "cell_type": "code",
      "source": [
        "np.arange(3).reshape((3,1))"
      ],
      "metadata": {
        "colab": {
          "base_uri": "https://localhost:8080/"
        },
        "id": "kqiVZ4gWjGeP",
        "outputId": "99191103-e55c-41af-989b-5d16a791071c"
      },
      "execution_count": 100,
      "outputs": [
        {
          "output_type": "execute_result",
          "data": {
            "text/plain": [
              "array([[0],\n",
              "       [1],\n",
              "       [2]])"
            ]
          },
          "metadata": {},
          "execution_count": 100
        }
      ]
    },
    {
      "cell_type": "code",
      "source": [
        "np.arange(3).reshape((3,1)) + np.arange(3)"
      ],
      "metadata": {
        "colab": {
          "base_uri": "https://localhost:8080/"
        },
        "id": "DwwT9tnPi6H2",
        "outputId": "99a46cee-2d93-4b09-d78b-ff7178acc605"
      },
      "execution_count": 102,
      "outputs": [
        {
          "output_type": "execute_result",
          "data": {
            "text/plain": [
              "array([[0, 1, 2],\n",
              "       [1, 2, 3],\n",
              "       [2, 3, 4]])"
            ]
          },
          "metadata": {},
          "execution_count": 102
        }
      ]
    },
    {
      "cell_type": "code",
      "source": [
        "np.arange(3).reshape((3,1)) + np.arange(4)"
      ],
      "metadata": {
        "colab": {
          "base_uri": "https://localhost:8080/"
        },
        "id": "UYcjwWPtjNSm",
        "outputId": "a3bfa532-01ee-4a41-f7d6-23895c4bf88f"
      },
      "execution_count": 105,
      "outputs": [
        {
          "output_type": "execute_result",
          "data": {
            "text/plain": [
              "array([[0, 1, 2, 3],\n",
              "       [1, 2, 3, 4],\n",
              "       [2, 3, 4, 5]])"
            ]
          },
          "metadata": {},
          "execution_count": 105
        }
      ]
    },
    {
      "cell_type": "code",
      "source": [
        "np.arange(2)"
      ],
      "metadata": {
        "colab": {
          "base_uri": "https://localhost:8080/"
        },
        "id": "WwyJZWNpjin1",
        "outputId": "ef2df4fa-b0cb-48f4-e177-a25f51a4a767"
      },
      "execution_count": 106,
      "outputs": [
        {
          "output_type": "execute_result",
          "data": {
            "text/plain": [
              "array([0, 1])"
            ]
          },
          "metadata": {},
          "execution_count": 106
        }
      ]
    },
    {
      "cell_type": "code",
      "source": [
        "a = np.random.randint(2,6,(2,4))\n",
        "print(a)\n",
        "b = np.random.randint(1,10,(2,2))\n",
        "print(b)"
      ],
      "metadata": {
        "colab": {
          "base_uri": "https://localhost:8080/"
        },
        "id": "xIfnI5V9jnQl",
        "outputId": "26f6234c-9d5b-4450-cbf3-652f1711d323"
      },
      "execution_count": 107,
      "outputs": [
        {
          "output_type": "stream",
          "name": "stdout",
          "text": [
            "[[2 3 3 3]\n",
            " [4 2 2 5]]\n",
            "[[3 8]\n",
            " [6 8]]\n"
          ]
        }
      ]
    },
    {
      "cell_type": "code",
      "source": [
        "#Multiplying two arrays\n",
        "a = np.random.randint(2,6,(2,4))\n",
        "print(a)\n",
        "b = np.random.randint(0,5,(2,4))\n",
        "print(b)"
      ],
      "metadata": {
        "colab": {
          "base_uri": "https://localhost:8080/"
        },
        "id": "UYndl88Uj_NK",
        "outputId": "503e734b-f929-46ce-f332-04b1a4c4d11d"
      },
      "execution_count": 109,
      "outputs": [
        {
          "output_type": "stream",
          "name": "stdout",
          "text": [
            "[[4 3 3 2]\n",
            " [2 2 5 4]]\n",
            "[[0 4 1 4]\n",
            " [0 2 2 1]]\n"
          ]
        }
      ]
    },
    {
      "cell_type": "code",
      "source": [
        "np.multiply(a,b)"
      ],
      "metadata": {
        "colab": {
          "base_uri": "https://localhost:8080/"
        },
        "id": "BrZ69F3-kYRN",
        "outputId": "7d83082f-cb7c-48c3-cb7e-aa47088f2266"
      },
      "execution_count": 110,
      "outputs": [
        {
          "output_type": "execute_result",
          "data": {
            "text/plain": [
              "array([[ 0, 12,  3,  8],\n",
              "       [ 0,  4, 10,  4]])"
            ]
          },
          "metadata": {},
          "execution_count": 110
        }
      ]
    },
    {
      "cell_type": "code",
      "source": [
        "#Dividing two arrays\n",
        "np.divide(a,b)"
      ],
      "metadata": {
        "colab": {
          "base_uri": "https://localhost:8080/"
        },
        "id": "SRKoHiK-kbBF",
        "outputId": "cd39275b-fd87-4c7c-8e97-d52d26550d23"
      },
      "execution_count": 111,
      "outputs": [
        {
          "output_type": "stream",
          "name": "stderr",
          "text": [
            "<ipython-input-111-59b6e7394f92>:2: RuntimeWarning: divide by zero encountered in divide\n",
            "  np.divide(a,b)\n"
          ]
        },
        {
          "output_type": "execute_result",
          "data": {
            "text/plain": [
              "array([[ inf, 0.75, 3.  , 0.5 ],\n",
              "       [ inf, 1.  , 2.5 , 4.  ]])"
            ]
          },
          "metadata": {},
          "execution_count": 111
        }
      ]
    },
    {
      "cell_type": "code",
      "source": [
        "#Some aggregations operations\n",
        "\n",
        "a = np.random.randint(5,9,(2,4))\n",
        "print(a)"
      ],
      "metadata": {
        "colab": {
          "base_uri": "https://localhost:8080/"
        },
        "id": "XB9j2MvLkizJ",
        "outputId": "08aac17a-b002-4a01-ddce-f1d235f9ae44"
      },
      "execution_count": 112,
      "outputs": [
        {
          "output_type": "stream",
          "name": "stdout",
          "text": [
            "[[6 7 6 6]\n",
            " [5 5 8 6]]\n"
          ]
        }
      ]
    },
    {
      "cell_type": "code",
      "source": [
        "print(np.sum(a))\n",
        "print(np.sum(a,axis=0))\n",
        "print(np.sum(a,axis=1))"
      ],
      "metadata": {
        "colab": {
          "base_uri": "https://localhost:8080/"
        },
        "id": "En0j-KEfkxZG",
        "outputId": "1cede6eb-23dc-4773-deb5-e556f27867ad"
      },
      "execution_count": 115,
      "outputs": [
        {
          "output_type": "stream",
          "name": "stdout",
          "text": [
            "49\n",
            "[11 12 14 12]\n",
            "[25 24]\n"
          ]
        }
      ]
    },
    {
      "cell_type": "code",
      "source": [
        "#Calculate minimum\n",
        "print(np.min(a))\n",
        "print(np.min(a,axis=1))"
      ],
      "metadata": {
        "colab": {
          "base_uri": "https://localhost:8080/"
        },
        "id": "6qFuGa5wlep4",
        "outputId": "e8d365eb-0e8b-4810-e7d9-92244f6efe95"
      },
      "execution_count": 117,
      "outputs": [
        {
          "output_type": "stream",
          "name": "stdout",
          "text": [
            "5\n",
            "[6 5]\n"
          ]
        }
      ]
    },
    {
      "cell_type": "code",
      "source": [
        "#Sort the array\n",
        "a = np.random.randint(0,20,(3,3))\n",
        "print(a)"
      ],
      "metadata": {
        "colab": {
          "base_uri": "https://localhost:8080/"
        },
        "id": "krjbA5IsnBmu",
        "outputId": "66065492-4339-4ee8-ed4e-d3283461e26b"
      },
      "execution_count": 118,
      "outputs": [
        {
          "output_type": "stream",
          "name": "stdout",
          "text": [
            "[[19  4  2]\n",
            " [ 4  5 13]\n",
            " [ 6 15 10]]\n"
          ]
        }
      ]
    },
    {
      "cell_type": "code",
      "source": [
        "#Ascending columns\n",
        "print(np.sort(a,axis=0))"
      ],
      "metadata": {
        "colab": {
          "base_uri": "https://localhost:8080/"
        },
        "id": "Bo5AkEF4nKxq",
        "outputId": "c776aec9-87b7-4648-8e6d-8ef695a54aeb"
      },
      "execution_count": 125,
      "outputs": [
        {
          "output_type": "stream",
          "name": "stdout",
          "text": [
            "[[ 4  4  2]\n",
            " [ 6  5 10]\n",
            " [19 15 13]]\n"
          ]
        }
      ]
    },
    {
      "cell_type": "code",
      "source": [
        "#Ascending rows\n",
        "print(np.sort(a,axis=1))"
      ],
      "metadata": {
        "colab": {
          "base_uri": "https://localhost:8080/"
        },
        "id": "Ii7ZPfxKnUO_",
        "outputId": "0b87c491-ba54-4328-fe6f-f05f6dd2ff1c"
      },
      "execution_count": 126,
      "outputs": [
        {
          "output_type": "stream",
          "name": "stdout",
          "text": [
            "[[ 2  4 19]\n",
            " [ 4  5 13]\n",
            " [ 6 10 15]]\n"
          ]
        }
      ]
    },
    {
      "cell_type": "code",
      "source": [
        "#Descending\n",
        "print(-np.sort(-a,axis=1))"
      ],
      "metadata": {
        "colab": {
          "base_uri": "https://localhost:8080/"
        },
        "id": "INfIFW-UnY7W",
        "outputId": "5a3adbf6-416d-42c2-e48e-3dfd2ad00535"
      },
      "execution_count": 127,
      "outputs": [
        {
          "output_type": "stream",
          "name": "stdout",
          "text": [
            "[[19  4  2]\n",
            " [13  5  4]\n",
            " [15 10  6]]\n"
          ]
        }
      ]
    },
    {
      "cell_type": "code",
      "source": [
        "sum(np.arange(3)*np.arange(3).transpose())"
      ],
      "metadata": {
        "colab": {
          "base_uri": "https://localhost:8080/"
        },
        "id": "KHkkcuaangz6",
        "outputId": "8680b49a-1f12-497c-f454-99953e6dd839"
      },
      "execution_count": 129,
      "outputs": [
        {
          "output_type": "execute_result",
          "data": {
            "text/plain": [
              "5"
            ]
          },
          "metadata": {},
          "execution_count": 129
        }
      ]
    }
  ]
}