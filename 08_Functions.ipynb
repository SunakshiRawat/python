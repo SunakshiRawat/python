{
  "nbformat": 4,
  "nbformat_minor": 0,
  "metadata": {
    "colab": {
      "provenance": [],
      "authorship_tag": "ABX9TyP++DcLYTY2NAzu0UY+KNpY",
      "include_colab_link": true
    },
    "kernelspec": {
      "name": "python3",
      "display_name": "Python 3"
    },
    "language_info": {
      "name": "python"
    }
  },
  "cells": [
    {
      "cell_type": "markdown",
      "metadata": {
        "id": "view-in-github",
        "colab_type": "text"
      },
      "source": [
        "<a href=\"https://colab.research.google.com/github/SunakshiRawat/python/blob/main/08_Functions.ipynb\" target=\"_parent\"><img src=\"https://colab.research.google.com/assets/colab-badge.svg\" alt=\"Open In Colab\"/></a>"
      ]
    },
    {
      "cell_type": "code",
      "execution_count": null,
      "metadata": {
        "id": "OzkqzqYuIufP"
      },
      "outputs": [],
      "source": [
        "heisenberg_quote = \"I am the danger\""
      ]
    },
    {
      "cell_type": "code",
      "source": [
        "#Using the list comprehension, we can do the above task in this way\n",
        "\n",
        "heisenberg_quote = \"I am the danger\"\n",
        "words_by_quote = heisenberg_quote.split(' ')\n",
        "first_letters = [word[0] for word in words_by_quote]\n",
        "print(first_letters)"
      ],
      "metadata": {
        "colab": {
          "base_uri": "https://localhost:8080/"
        },
        "id": "mrctENHVJVxd",
        "outputId": "2f4fdfdf-773a-467a-da3e-9bca0ad72a8f"
      },
      "execution_count": 2,
      "outputs": [
        {
          "output_type": "stream",
          "name": "stdout",
          "text": [
            "['I', 'a', 't', 'd']\n"
          ]
        }
      ]
    },
    {
      "cell_type": "code",
      "source": [
        "def extract_first_letters(sentence):\n",
        "  words_in_sentence = sentence.split(' ')\n",
        "  first_letters = [word[0] for word in words_in_sentence]\n",
        "  return first_letters\n",
        "  print(extract_first_letters(heisenberg_quote))"
      ],
      "metadata": {
        "id": "KYhati09J99T"
      },
      "execution_count": 5,
      "outputs": []
    },
    {
      "cell_type": "code",
      "source": [
        "#Store the result of the function in another variable\n",
        "first_letters_heisenberg = extract_first_letters(heisenberg_quote)\n",
        "print(first_letters_heisenberg)"
      ],
      "metadata": {
        "colab": {
          "base_uri": "https://localhost:8080/"
        },
        "id": "ErClmnzxKXNh",
        "outputId": "4cbe7e78-800a-462d-9585-bd203300d2a4"
      },
      "execution_count": 6,
      "outputs": [
        {
          "output_type": "stream",
          "name": "stdout",
          "text": [
            "['I', 'a', 't', 'd']\n"
          ]
        }
      ]
    },
    {
      "cell_type": "code",
      "source": [
        "from re import I\n",
        "#Function for calculating factorial of a number\n",
        "def factorial(num):\n",
        "  result = 1\n",
        "  if num < 0:\n",
        "    print(\"factorial is not defined for negative numbers\")\n",
        "  elif (num> 0):\n",
        "    for i in range(1, num+1):\n",
        "            result = result * i\n",
        "    print(f\"the factorial of {num} is {result}\")\n",
        "  else:\n",
        "              result = 1\n",
        "              print('factorial of 0 is ',result)\n",
        "\n",
        "factorial(5)"
      ],
      "metadata": {
        "colab": {
          "base_uri": "https://localhost:8080/"
        },
        "id": "rSGh76fYMiu0",
        "outputId": "15b70fe7-c770-4388-d60a-bad87f17e81a"
      },
      "execution_count": 21,
      "outputs": [
        {
          "output_type": "stream",
          "name": "stdout",
          "text": [
            "the factorial of 5 is 120\n"
          ]
        }
      ]
    },
    {
      "cell_type": "code",
      "source": [
        "#Now let us define a list of numbers for which we want to calculate the factorials\n",
        "list_of_numbers = [1,2,3,4,5,6,7]"
      ],
      "metadata": {
        "id": "HgTBgouaORkA"
      },
      "execution_count": null,
      "outputs": []
    },
    {
      "cell_type": "code",
      "source": [
        "#We can write a list comprehension for the same task\n",
        "list_of_numbers = [1,2,3,4,5,6,7]\n",
        "factorial_list = [factorial(number) for number in list_of_numbers if number%2!=0]\n",
        "print(factorial_list)"
      ],
      "metadata": {
        "colab": {
          "base_uri": "https://localhost:8080/"
        },
        "id": "O8IK0GEqPUQc",
        "outputId": "6ff9b841-314f-423a-8df0-5d6518b78860"
      },
      "execution_count": 23,
      "outputs": [
        {
          "output_type": "stream",
          "name": "stdout",
          "text": [
            "the factorial of 1 is 1\n",
            "the factorial of 3 is 6\n",
            "the factorial of 5 is 120\n",
            "the factorial of 7 is 5040\n",
            "[None, None, None, None]\n"
          ]
        }
      ]
    },
    {
      "cell_type": "code",
      "source": [
        "def assignQuarter(user_date):\n",
        "  date_year = user_date[:4]\n",
        "  date_month = user_date[5:7]\n",
        "\n",
        "  if (date_month >= '01') & (date_month <= '03'):\n",
        "    quarter = date_year + '-Q1'\n",
        "  elif (date_month >= '04') & (date_month <='06'):\n",
        "      quarter = date_year + '-Q2'\n",
        "  elif (date_month >= '07') & (date_month <= '09'):\n",
        "    quarter = date_year + '-Q3'\n",
        "  else:\n",
        "    quarter = date_year + '-Q4'\n",
        "  return quarter"
      ],
      "metadata": {
        "id": "48KzVHppPxMR"
      },
      "execution_count": 24,
      "outputs": []
    },
    {
      "cell_type": "code",
      "source": [
        "sample_date = '2022-04-01'\n",
        "date_quarter = assignQuarter(sample_date)\n",
        "print(date_quarter)"
      ],
      "metadata": {
        "colab": {
          "base_uri": "https://localhost:8080/"
        },
        "id": "HNgNllbiRZSj",
        "outputId": "2526f5e2-4bc4-453e-eb2a-2e605741382d"
      },
      "execution_count": 25,
      "outputs": [
        {
          "output_type": "stream",
          "name": "stdout",
          "text": [
            "2022-Q2\n"
          ]
        }
      ]
    },
    {
      "cell_type": "code",
      "source": [
        "my_quarter = assignQuarter('2022-07-01')\n",
        "print(my_quarter)"
      ],
      "metadata": {
        "colab": {
          "base_uri": "https://localhost:8080/"
        },
        "id": "uTf_GKMOR25g",
        "outputId": "2079f069-3856-40d3-dcc8-30f70c933f5b"
      },
      "execution_count": 26,
      "outputs": [
        {
          "output_type": "stream",
          "name": "stdout",
          "text": [
            "2022-Q3\n"
          ]
        }
      ]
    },
    {
      "cell_type": "code",
      "source": [
        "#Functoin with multiple return statements\n",
        "def check_even_or_odd(num):\n",
        "  print(f\"given number is {num}\")\n",
        "\n",
        "  if num%2 ==0:\n",
        "    return 'even'\n",
        "  return 'odd'\n",
        "\n",
        "is_even_odd = check_even_or_odd(10)\n",
        "print(is_even_odd)"
      ],
      "metadata": {
        "colab": {
          "base_uri": "https://localhost:8080/"
        },
        "id": "xHLROUIMSCcP",
        "outputId": "b72875ee-b896-4d7a-ae91-8cff86c6285c"
      },
      "execution_count": 29,
      "outputs": [
        {
          "output_type": "stream",
          "name": "stdout",
          "text": [
            "given number is 10\n",
            "even\n"
          ]
        }
      ]
    },
    {
      "cell_type": "code",
      "source": [
        "#Function which adds an element to list\n",
        "def list_append(my_list, elem):\n",
        "  new_list = my_list + [elem]\n",
        "  return new_list"
      ],
      "metadata": {
        "id": "jhMc_iINS_hw"
      },
      "execution_count": 31,
      "outputs": []
    },
    {
      "cell_type": "code",
      "source": [
        "heights = [150,160,170,180,190,200]\n",
        "list_append(heights, 210)"
      ],
      "metadata": {
        "colab": {
          "base_uri": "https://localhost:8080/"
        },
        "id": "rJSxB-IJTerj",
        "outputId": "275721d3-6d5d-41b9-ba56-7bd7b72b9c37"
      },
      "execution_count": 32,
      "outputs": [
        {
          "output_type": "execute_result",
          "data": {
            "text/plain": [
              "[150, 160, 170, 180, 190, 200, 210]"
            ]
          },
          "metadata": {},
          "execution_count": 32
        }
      ]
    },
    {
      "cell_type": "code",
      "source": [
        "list_append(heights, 220)"
      ],
      "metadata": {
        "colab": {
          "base_uri": "https://localhost:8080/"
        },
        "id": "DISeBEuPTrOe",
        "outputId": "a03b60db-0adf-4824-8455-2cd8f2c0070c"
      },
      "execution_count": 33,
      "outputs": [
        {
          "output_type": "execute_result",
          "data": {
            "text/plain": [
              "[150, 160, 170, 180, 190, 200, 220]"
            ]
          },
          "metadata": {},
          "execution_count": 33
        }
      ]
    },
    {
      "cell_type": "code",
      "source": [
        "list_append(heights, elem = 50)"
      ],
      "metadata": {
        "colab": {
          "base_uri": "https://localhost:8080/"
        },
        "id": "OtPx8vFsT0KP",
        "outputId": "131eb26f-e441-416c-97b6-853973cd95a8"
      },
      "execution_count": 34,
      "outputs": [
        {
          "output_type": "execute_result",
          "data": {
            "text/plain": [
              "[150, 160, 170, 180, 190, 200, 50]"
            ]
          },
          "metadata": {},
          "execution_count": 34
        }
      ]
    },
    {
      "cell_type": "code",
      "source": [
        "heights.append(100)\n",
        "heights"
      ],
      "metadata": {
        "colab": {
          "base_uri": "https://localhost:8080/"
        },
        "id": "IAPvNEH1T7_P",
        "outputId": "01546366-dcb2-41ac-fe09-c70b13cf93e7"
      },
      "execution_count": 36,
      "outputs": [
        {
          "output_type": "execute_result",
          "data": {
            "text/plain": [
              "[150, 160, 170, 180, 190, 200, 100, 100]"
            ]
          },
          "metadata": {},
          "execution_count": 36
        }
      ]
    },
    {
      "cell_type": "code",
      "source": [
        "#Scope\n",
        "def experiment():\n",
        "  global x\n",
        "  x = 50\n",
        "  return x"
      ],
      "metadata": {
        "id": "VGMqknzRUESO"
      },
      "execution_count": 40,
      "outputs": []
    },
    {
      "cell_type": "code",
      "source": [
        "experiment()"
      ],
      "metadata": {
        "colab": {
          "base_uri": "https://localhost:8080/"
        },
        "id": "9rKLOqQjUcbP",
        "outputId": "d5226163-2fde-4bc9-a477-420d292a3b7a"
      },
      "execution_count": 41,
      "outputs": [
        {
          "output_type": "execute_result",
          "data": {
            "text/plain": [
              "50"
            ]
          },
          "metadata": {},
          "execution_count": 41
        }
      ]
    },
    {
      "cell_type": "code",
      "source": [
        "x"
      ],
      "metadata": {
        "colab": {
          "base_uri": "https://localhost:8080/"
        },
        "id": "IT8hRZh3UhE_",
        "outputId": "380fb4f1-75f8-4c3f-b8e7-da53b17979dd"
      },
      "execution_count": 42,
      "outputs": [
        {
          "output_type": "execute_result",
          "data": {
            "text/plain": [
              "50"
            ]
          },
          "metadata": {},
          "execution_count": 42
        }
      ]
    },
    {
      "cell_type": "code",
      "source": [
        "def new_experiment():\n",
        "  x = 50\n",
        "  return x\n",
        "x = 40"
      ],
      "metadata": {
        "id": "ee_H1jnKUiL-"
      },
      "execution_count": 47,
      "outputs": []
    },
    {
      "cell_type": "code",
      "source": [
        "x"
      ],
      "metadata": {
        "colab": {
          "base_uri": "https://localhost:8080/"
        },
        "id": "2BZoL-3UUxT-",
        "outputId": "1783256e-8c2a-49f7-89f0-011581e65cb2"
      },
      "execution_count": 48,
      "outputs": [
        {
          "output_type": "execute_result",
          "data": {
            "text/plain": [
              "40"
            ]
          },
          "metadata": {},
          "execution_count": 48
        }
      ]
    },
    {
      "cell_type": "code",
      "source": [
        "new_experiment()"
      ],
      "metadata": {
        "colab": {
          "base_uri": "https://localhost:8080/"
        },
        "id": "J-qjx8BlU4O_",
        "outputId": "768bf1d1-2704-42ae-a60e-5f4db0373c41"
      },
      "execution_count": 49,
      "outputs": [
        {
          "output_type": "execute_result",
          "data": {
            "text/plain": [
              "50"
            ]
          },
          "metadata": {},
          "execution_count": 49
        }
      ]
    }
  ]
}