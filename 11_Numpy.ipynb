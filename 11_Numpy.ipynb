{
  "nbformat": 4,
  "nbformat_minor": 0,
  "metadata": {
    "colab": {
      "provenance": [],
      "authorship_tag": "ABX9TyMfSIKGu92w0Dhni5NSVYVL",
      "include_colab_link": true
    },
    "kernelspec": {
      "name": "python3",
      "display_name": "Python 3"
    },
    "language_info": {
      "name": "python"
    }
  },
  "cells": [
    {
      "cell_type": "markdown",
      "metadata": {
        "id": "view-in-github",
        "colab_type": "text"
      },
      "source": [
        "<a href=\"https://colab.research.google.com/github/SunakshiRawat/python/blob/main/11_Numpy.ipynb\" target=\"_parent\"><img src=\"https://colab.research.google.com/assets/colab-badge.svg\" alt=\"Open In Colab\"/></a>"
      ]
    },
    {
      "cell_type": "code",
      "source": [
        "#Staement to import the numpy library\n",
        "import numpy as np\n",
        "import math as math\n",
        "import sys"
      ],
      "metadata": {
        "id": "r5h7Lpt2Xd5V"
      },
      "execution_count": null,
      "outputs": []
    },
    {
      "cell_type": "code",
      "execution_count": null,
      "metadata": {
        "id": "dUc0og6JqTvE",
        "colab": {
          "base_uri": "https://localhost:8080/"
        },
        "outputId": "25beb878-d130-46f3-d6c1-74f1e509ed86"
      },
      "outputs": [
        {
          "output_type": "execute_result",
          "data": {
            "text/plain": [
              "numpy.ndarray"
            ]
          },
          "metadata": {},
          "execution_count": 3
        }
      ],
      "source": [
        "#creating our first array in python\n",
        "my_array = np.array([1,2,3,4,5,6])\n",
        "type(my_array)"
      ]
    },
    {
      "cell_type": "code",
      "source": [
        "my_array.shape"
      ],
      "metadata": {
        "colab": {
          "base_uri": "https://localhost:8080/"
        },
        "id": "2WxSvNifYNmE",
        "outputId": "35e63b0b-9a11-4621-bdf5-a2372443a157"
      },
      "execution_count": null,
      "outputs": [
        {
          "output_type": "execute_result",
          "data": {
            "text/plain": [
              "(6,)"
            ]
          },
          "metadata": {},
          "execution_count": 4
        }
      ]
    },
    {
      "cell_type": "code",
      "source": [
        "my_array.size"
      ],
      "metadata": {
        "colab": {
          "base_uri": "https://localhost:8080/"
        },
        "id": "fDH0-XSJYRqE",
        "outputId": "81330a76-9cbd-4a35-9e20-477e910630a6"
      },
      "execution_count": null,
      "outputs": [
        {
          "output_type": "execute_result",
          "data": {
            "text/plain": [
              "6"
            ]
          },
          "metadata": {},
          "execution_count": 5
        }
      ]
    },
    {
      "cell_type": "code",
      "source": [
        "type(my_array)"
      ],
      "metadata": {
        "colab": {
          "base_uri": "https://localhost:8080/"
        },
        "id": "utmy_J60YtBu",
        "outputId": "1f2fa7fa-9107-471f-fe9d-7c0b4afbf3aa"
      },
      "execution_count": null,
      "outputs": [
        {
          "output_type": "execute_result",
          "data": {
            "text/plain": [
              "numpy.ndarray"
            ]
          },
          "metadata": {},
          "execution_count": 7
        }
      ]
    },
    {
      "cell_type": "code",
      "source": [
        "type(my_array[-1])"
      ],
      "metadata": {
        "colab": {
          "base_uri": "https://localhost:8080/"
        },
        "id": "tLt2CzCcYxBO",
        "outputId": "debea485-90db-4d03-8469-ef850d71a372"
      },
      "execution_count": null,
      "outputs": [
        {
          "output_type": "execute_result",
          "data": {
            "text/plain": [
              "numpy.int64"
            ]
          },
          "metadata": {},
          "execution_count": 8
        }
      ]
    },
    {
      "cell_type": "code",
      "source": [
        "#One-dimensional array of some prime numbers\n",
        "prime_array = np.array([2,3,5,7,11,13,17,19,23,29,31], dtype=\"str\")\n",
        "print(prime_array)"
      ],
      "metadata": {
        "colab": {
          "base_uri": "https://localhost:8080/"
        },
        "id": "jYYl0zBVYU9A",
        "outputId": "b0faf928-2686-4d32-b0f9-6d35bba9df96"
      },
      "execution_count": null,
      "outputs": [
        {
          "output_type": "stream",
          "name": "stdout",
          "text": [
            "['2' '3' '5' '7' '11' '13' '17' '19' '23' '29' '31']\n"
          ]
        }
      ]
    },
    {
      "cell_type": "code",
      "source": [
        "type(prime_array)"
      ],
      "metadata": {
        "colab": {
          "base_uri": "https://localhost:8080/"
        },
        "id": "zE15zuJCZExC",
        "outputId": "4cd3c631-95a0-43ad-9065-eb43b9354e7f"
      },
      "execution_count": null,
      "outputs": [
        {
          "output_type": "execute_result",
          "data": {
            "text/plain": [
              "numpy.ndarray"
            ]
          },
          "metadata": {},
          "execution_count": 10
        }
      ]
    },
    {
      "cell_type": "code",
      "source": [
        "type(prime_array[-1])"
      ],
      "metadata": {
        "colab": {
          "base_uri": "https://localhost:8080/"
        },
        "id": "9-dAkBcpY-PN",
        "outputId": "5d63b7d8-01fe-4b5c-a14c-363a3f62e0e2"
      },
      "execution_count": null,
      "outputs": [
        {
          "output_type": "execute_result",
          "data": {
            "text/plain": [
              "numpy.str_"
            ]
          },
          "metadata": {},
          "execution_count": 9
        }
      ]
    },
    {
      "cell_type": "code",
      "source": [
        "#Create a 2-D array\n",
        "another_array = np.array([[1,2,3],[4,5,6],[7,8,9]])\n",
        "print(another_array)"
      ],
      "metadata": {
        "colab": {
          "base_uri": "https://localhost:8080/"
        },
        "id": "S08ch80RZODV",
        "outputId": "5d578fae-71f5-4614-bf22-8b86bccf271b"
      },
      "execution_count": null,
      "outputs": [
        {
          "output_type": "stream",
          "name": "stdout",
          "text": [
            "[[1 2 3]\n",
            " [4 5 6]\n",
            " [7 8 9]]\n"
          ]
        }
      ]
    },
    {
      "cell_type": "code",
      "source": [
        "list_of_list = [[1,2],[3,4]]\n",
        "list_of_list[1][1]"
      ],
      "metadata": {
        "colab": {
          "base_uri": "https://localhost:8080/"
        },
        "id": "Nwyuv5aTZW6d",
        "outputId": "a5d35afa-7746-4816-bc6f-1dc96ec9d8c2"
      },
      "execution_count": null,
      "outputs": [
        {
          "output_type": "execute_result",
          "data": {
            "text/plain": [
              "4"
            ]
          },
          "metadata": {},
          "execution_count": 12
        }
      ]
    },
    {
      "cell_type": "code",
      "source": [
        "#Importing the entire library\n",
        "import sklearn as skl"
      ],
      "metadata": {
        "id": "ZwUuAne7ZnAP"
      },
      "execution_count": null,
      "outputs": []
    },
    {
      "cell_type": "code",
      "source": [
        "#Importing a specific module names 'datasets' in sklearn library\n",
        "import sklearn.datasets as skd\n",
        "skd"
      ],
      "metadata": {
        "colab": {
          "base_uri": "https://localhost:8080/"
        },
        "id": "5WevCc0pZySs",
        "outputId": "302cae53-a071-4e19-c4da-138652510c14"
      },
      "execution_count": null,
      "outputs": [
        {
          "output_type": "execute_result",
          "data": {
            "text/plain": [
              "<module 'sklearn.datasets' from '/usr/local/lib/python3.11/dist-packages/sklearn/datasets/__init__.py'>"
            ]
          },
          "metadata": {},
          "execution_count": 13
        }
      ]
    },
    {
      "cell_type": "code",
      "source": [
        "skd.load_wine()"
      ],
      "metadata": {
        "colab": {
          "base_uri": "https://localhost:8080/"
        },
        "id": "xlVaAoV5aDVh",
        "outputId": "b6d9cd3e-fdf2-4120-f9f7-82f186d91edb"
      },
      "execution_count": null,
      "outputs": [
        {
          "output_type": "execute_result",
          "data": {
            "text/plain": [
              "{'data': array([[1.423e+01, 1.710e+00, 2.430e+00, ..., 1.040e+00, 3.920e+00,\n",
              "         1.065e+03],\n",
              "        [1.320e+01, 1.780e+00, 2.140e+00, ..., 1.050e+00, 3.400e+00,\n",
              "         1.050e+03],\n",
              "        [1.316e+01, 2.360e+00, 2.670e+00, ..., 1.030e+00, 3.170e+00,\n",
              "         1.185e+03],\n",
              "        ...,\n",
              "        [1.327e+01, 4.280e+00, 2.260e+00, ..., 5.900e-01, 1.560e+00,\n",
              "         8.350e+02],\n",
              "        [1.317e+01, 2.590e+00, 2.370e+00, ..., 6.000e-01, 1.620e+00,\n",
              "         8.400e+02],\n",
              "        [1.413e+01, 4.100e+00, 2.740e+00, ..., 6.100e-01, 1.600e+00,\n",
              "         5.600e+02]]),\n",
              " 'target': array([0, 0, 0, 0, 0, 0, 0, 0, 0, 0, 0, 0, 0, 0, 0, 0, 0, 0, 0, 0, 0, 0,\n",
              "        0, 0, 0, 0, 0, 0, 0, 0, 0, 0, 0, 0, 0, 0, 0, 0, 0, 0, 0, 0, 0, 0,\n",
              "        0, 0, 0, 0, 0, 0, 0, 0, 0, 0, 0, 0, 0, 0, 0, 1, 1, 1, 1, 1, 1, 1,\n",
              "        1, 1, 1, 1, 1, 1, 1, 1, 1, 1, 1, 1, 1, 1, 1, 1, 1, 1, 1, 1, 1, 1,\n",
              "        1, 1, 1, 1, 1, 1, 1, 1, 1, 1, 1, 1, 1, 1, 1, 1, 1, 1, 1, 1, 1, 1,\n",
              "        1, 1, 1, 1, 1, 1, 1, 1, 1, 1, 1, 1, 1, 1, 1, 1, 1, 1, 1, 1, 2, 2,\n",
              "        2, 2, 2, 2, 2, 2, 2, 2, 2, 2, 2, 2, 2, 2, 2, 2, 2, 2, 2, 2, 2, 2,\n",
              "        2, 2, 2, 2, 2, 2, 2, 2, 2, 2, 2, 2, 2, 2, 2, 2, 2, 2, 2, 2, 2, 2,\n",
              "        2, 2]),\n",
              " 'frame': None,\n",
              " 'target_names': array(['class_0', 'class_1', 'class_2'], dtype='<U7'),\n",
              " 'DESCR': '.. _wine_dataset:\\n\\nWine recognition dataset\\n------------------------\\n\\n**Data Set Characteristics:**\\n\\n:Number of Instances: 178\\n:Number of Attributes: 13 numeric, predictive attributes and the class\\n:Attribute Information:\\n    - Alcohol\\n    - Malic acid\\n    - Ash\\n    - Alcalinity of ash\\n    - Magnesium\\n    - Total phenols\\n    - Flavanoids\\n    - Nonflavanoid phenols\\n    - Proanthocyanins\\n    - Color intensity\\n    - Hue\\n    - OD280/OD315 of diluted wines\\n    - Proline\\n    - class:\\n        - class_0\\n        - class_1\\n        - class_2\\n\\n:Summary Statistics:\\n\\n============================= ==== ===== ======= =====\\n                                Min   Max   Mean     SD\\n============================= ==== ===== ======= =====\\nAlcohol:                      11.0  14.8    13.0   0.8\\nMalic Acid:                   0.74  5.80    2.34  1.12\\nAsh:                          1.36  3.23    2.36  0.27\\nAlcalinity of Ash:            10.6  30.0    19.5   3.3\\nMagnesium:                    70.0 162.0    99.7  14.3\\nTotal Phenols:                0.98  3.88    2.29  0.63\\nFlavanoids:                   0.34  5.08    2.03  1.00\\nNonflavanoid Phenols:         0.13  0.66    0.36  0.12\\nProanthocyanins:              0.41  3.58    1.59  0.57\\nColour Intensity:              1.3  13.0     5.1   2.3\\nHue:                          0.48  1.71    0.96  0.23\\nOD280/OD315 of diluted wines: 1.27  4.00    2.61  0.71\\nProline:                       278  1680     746   315\\n============================= ==== ===== ======= =====\\n\\n:Missing Attribute Values: None\\n:Class Distribution: class_0 (59), class_1 (71), class_2 (48)\\n:Creator: R.A. Fisher\\n:Donor: Michael Marshall (MARSHALL%PLU@io.arc.nasa.gov)\\n:Date: July, 1988\\n\\nThis is a copy of UCI ML Wine recognition datasets.\\nhttps://archive.ics.uci.edu/ml/machine-learning-databases/wine/wine.data\\n\\nThe data is the results of a chemical analysis of wines grown in the same\\nregion in Italy by three different cultivators. There are thirteen different\\nmeasurements taken for different constituents found in the three types of\\nwine.\\n\\nOriginal Owners:\\n\\nForina, M. et al, PARVUS -\\nAn Extendible Package for Data Exploration, Classification and Correlation.\\nInstitute of Pharmaceutical and Food Analysis and Technologies,\\nVia Brigata Salerno, 16147 Genoa, Italy.\\n\\nCitation:\\n\\nLichman, M. (2013). UCI Machine Learning Repository\\n[https://archive.ics.uci.edu/ml]. Irvine, CA: University of California,\\nSchool of Information and Computer Science.\\n\\n.. dropdown:: References\\n\\n    (1) S. Aeberhard, D. Coomans and O. de Vel,\\n    Comparison of Classifiers in High Dimensional Settings,\\n    Tech. Rep. no. 92-02, (1992), Dept. of Computer Science and Dept. of\\n    Mathematics and Statistics, James Cook University of North Queensland.\\n    (Also submitted to Technometrics).\\n\\n    The data was used with many others for comparing various\\n    classifiers. The classes are separable, though only RDA\\n    has achieved 100% correct classification.\\n    (RDA : 100%, QDA 99.4%, LDA 98.9%, 1NN 96.1% (z-transformed data))\\n    (All results using the leave-one-out technique)\\n\\n    (2) S. Aeberhard, D. Coomans and O. de Vel,\\n    \"THE CLASSIFICATION PERFORMANCE OF RDA\"\\n    Tech. Rep. no. 92-01, (1992), Dept. of Computer Science and Dept. of\\n    Mathematics and Statistics, James Cook University of North Queensland.\\n    (Also submitted to Journal of Chemometrics).\\n',\n",
              " 'feature_names': ['alcohol',\n",
              "  'malic_acid',\n",
              "  'ash',\n",
              "  'alcalinity_of_ash',\n",
              "  'magnesium',\n",
              "  'total_phenols',\n",
              "  'flavanoids',\n",
              "  'nonflavanoid_phenols',\n",
              "  'proanthocyanins',\n",
              "  'color_intensity',\n",
              "  'hue',\n",
              "  'od280/od315_of_diluted_wines',\n",
              "  'proline']}"
            ]
          },
          "metadata": {},
          "execution_count": 14
        }
      ]
    },
    {
      "cell_type": "code",
      "source": [
        "oned_array = np.array([1,2,3,4,5,6])\n",
        "oned_array"
      ],
      "metadata": {
        "colab": {
          "base_uri": "https://localhost:8080/"
        },
        "id": "CTCgzF3haJfR",
        "outputId": "dd006c7a-7529-4277-b696-27278ee5cce9"
      },
      "execution_count": null,
      "outputs": [
        {
          "output_type": "execute_result",
          "data": {
            "text/plain": [
              "array([1, 2, 3, 4, 5, 6])"
            ]
          },
          "metadata": {},
          "execution_count": 15
        }
      ]
    },
    {
      "cell_type": "code",
      "source": [
        "oned_array[5]"
      ],
      "metadata": {
        "colab": {
          "base_uri": "https://localhost:8080/"
        },
        "id": "qNtc6IuGaQcx",
        "outputId": "6748ab12-26ac-47da-cb1d-b76d4aea6747"
      },
      "execution_count": null,
      "outputs": [
        {
          "output_type": "execute_result",
          "data": {
            "text/plain": [
              "6"
            ]
          },
          "metadata": {},
          "execution_count": 16
        }
      ]
    },
    {
      "cell_type": "code",
      "source": [
        "another_array = np.array([[1,2,3],[4,5,6],[7,8,9]])\n",
        "another_array"
      ],
      "metadata": {
        "colab": {
          "base_uri": "https://localhost:8080/"
        },
        "id": "gSdFONISaVT-",
        "outputId": "fececf99-7a22-4c63-b754-09a81bc7ae58"
      },
      "execution_count": null,
      "outputs": [
        {
          "output_type": "execute_result",
          "data": {
            "text/plain": [
              "array([[1, 2, 3],\n",
              "       [4, 5, 6],\n",
              "       [7, 8, 9]])"
            ]
          },
          "metadata": {},
          "execution_count": 17
        }
      ]
    },
    {
      "cell_type": "code",
      "source": [
        "another_array[2]"
      ],
      "metadata": {
        "colab": {
          "base_uri": "https://localhost:8080/"
        },
        "id": "WXkO7X9Waamu",
        "outputId": "62ed023f-fd95-47d4-c1f5-6a2b77be4f53"
      },
      "execution_count": null,
      "outputs": [
        {
          "output_type": "execute_result",
          "data": {
            "text/plain": [
              "array([7, 8, 9])"
            ]
          },
          "metadata": {},
          "execution_count": 20
        }
      ]
    },
    {
      "cell_type": "code",
      "source": [
        "another_array[1,1]"
      ],
      "metadata": {
        "colab": {
          "base_uri": "https://localhost:8080/"
        },
        "id": "QOPOq4I0ajS1",
        "outputId": "bfb3104d-fb4f-4d40-afce-3db45eb9f397"
      },
      "execution_count": null,
      "outputs": [
        {
          "output_type": "execute_result",
          "data": {
            "text/plain": [
              "5"
            ]
          },
          "metadata": {},
          "execution_count": 22
        }
      ]
    },
    {
      "cell_type": "code",
      "source": [
        "twod_array = np.array([[1,2,3,4],[5,6,7,8]])"
      ],
      "metadata": {
        "id": "0hQiGYSTazqB"
      },
      "execution_count": null,
      "outputs": []
    },
    {
      "cell_type": "code",
      "source": [
        "twod_array.shape"
      ],
      "metadata": {
        "colab": {
          "base_uri": "https://localhost:8080/"
        },
        "id": "4fHFc2-Xa__P",
        "outputId": "916c1643-6235-4a78-ce78-21bceb936ed3"
      },
      "execution_count": null,
      "outputs": [
        {
          "output_type": "execute_result",
          "data": {
            "text/plain": [
              "(2, 4)"
            ]
          },
          "metadata": {},
          "execution_count": 24
        }
      ]
    },
    {
      "cell_type": "code",
      "source": [
        "type(twod_array)"
      ],
      "metadata": {
        "colab": {
          "base_uri": "https://localhost:8080/"
        },
        "id": "B7CDMDMSbC7t",
        "outputId": "3b49cdc8-eb8f-4928-f5a8-bc89490a875f"
      },
      "execution_count": null,
      "outputs": [
        {
          "output_type": "execute_result",
          "data": {
            "text/plain": [
              "numpy.ndarray"
            ]
          },
          "metadata": {},
          "execution_count": 25
        }
      ]
    },
    {
      "cell_type": "code",
      "source": [
        "import numpy as np\n",
        "import matplotlib.pyplot as plt"
      ],
      "metadata": {
        "id": "rH9R4lu7bICQ"
      },
      "execution_count": null,
      "outputs": []
    },
    {
      "cell_type": "code",
      "source": [
        "#Define the dimensions of the image\n",
        "height = 100\n",
        "width = 100"
      ],
      "metadata": {
        "id": "iH6sbFZubSjR"
      },
      "execution_count": null,
      "outputs": []
    },
    {
      "cell_type": "code",
      "source": [
        "#Create a random colored image\n",
        "random_image = np.random.randint(0,256, (height, width, 3), dtype = np.uint8)"
      ],
      "metadata": {
        "id": "FGbgp9k1bcOv"
      },
      "execution_count": null,
      "outputs": []
    },
    {
      "cell_type": "code",
      "source": [
        "#Print the matrix representing the image\n",
        "print(\"Matrix representing the image:\")\n",
        "print(random_image)"
      ],
      "metadata": {
        "colab": {
          "base_uri": "https://localhost:8080/"
        },
        "id": "j3le81sbb_fv",
        "outputId": "8d591935-377a-4d69-941a-cd965f16d418"
      },
      "execution_count": null,
      "outputs": [
        {
          "output_type": "stream",
          "name": "stdout",
          "text": [
            "Matrix representing the image:\n",
            "[[[157  71 133]\n",
            "  [ 56  65 200]\n",
            "  [143 178 112]\n",
            "  ...\n",
            "  [169  57  13]\n",
            "  [222 196 196]\n",
            "  [103  71  83]]\n",
            "\n",
            " [[235 165  82]\n",
            "  [206  34  93]\n",
            "  [220   5 245]\n",
            "  ...\n",
            "  [ 81 244  54]\n",
            "  [219 177  25]\n",
            "  [215 189 113]]\n",
            "\n",
            " [[ 57 240 227]\n",
            "  [247   9 206]\n",
            "  [ 97 151 205]\n",
            "  ...\n",
            "  [188 236  35]\n",
            "  [217  71 218]\n",
            "  [ 12 193  63]]\n",
            "\n",
            " ...\n",
            "\n",
            " [[ 49  51  33]\n",
            "  [  0  25 119]\n",
            "  [ 27 253  37]\n",
            "  ...\n",
            "  [ 53  32 202]\n",
            "  [ 78  10 231]\n",
            "  [193  28  61]]\n",
            "\n",
            " [[ 52 231  61]\n",
            "  [140  76   2]\n",
            "  [218 212 175]\n",
            "  ...\n",
            "  [132  90 223]\n",
            "  [150  52  87]\n",
            "  [222 250 176]]\n",
            "\n",
            " [[244  27 251]\n",
            "  [ 56  74 117]\n",
            "  [ 87  28 211]\n",
            "  ...\n",
            "  [ 51 235 131]\n",
            "  [  1 244 181]\n",
            "  [198 120 123]]]\n"
          ]
        }
      ]
    },
    {
      "cell_type": "code",
      "source": [
        "#Display the image\n",
        "plt.imshow(random_image)\n",
        "plt.title('Random Colored Image')\n",
        "plt.axis('off')\n",
        "plt.show()"
      ],
      "metadata": {
        "colab": {
          "base_uri": "https://localhost:8080/",
          "height": 428
        },
        "id": "0ZEHpUECcTpv",
        "outputId": "aec7c7e1-00a0-4c75-d2e6-17dfbfddb885"
      },
      "execution_count": null,
      "outputs": [
        {
          "output_type": "display_data",
          "data": {
            "text/plain": [
              "<Figure size 640x480 with 1 Axes>"
            ],
            "image/png": "[encoded data removed]"
          },
          "metadata": {}
        }
      ]
    },
    {
      "cell_type": "code",
      "source": [
        "plt.imshow(random_image[:2,3,:4])"
      ],
      "metadata": {
        "colab": {
          "base_uri": "https://localhost:8080/",
          "height": 413
        },
        "id": "jKUE1P5aeSJ_",
        "outputId": "a47a44f9-537f-4b58-d2b0-fb847f35e9ea"
      },
      "execution_count": null,
      "outputs": [
        {
          "output_type": "execute_result",
          "data": {
            "text/plain": [
              "<matplotlib.image.AxesImage at 0x7945e43ae050>"
            ]
          },
          "metadata": {},
          "execution_count": 39
        },
        {
          "output_type": "display_data",
          "data": {
            "text/plain": [
              "<Figure size 640x480 with 1 Axes>"
            ],
            "image/png": "[encoded data removed]"
          },
          "metadata": {}
        }
      ]
    },
    {
      "cell_type": "code",
      "source": [
        "#Create a three-dimensional array\n",
        "threed_array = np.array([[[1,2,3],[4,5,6]],[[7,8,9],[10,11,12]]])\n",
        "print(threed_array)\n",
        "print(threed_array.shape)"
      ],
      "metadata": {
        "colab": {
          "base_uri": "https://localhost:8080/"
        },
        "id": "8L3i1nP5ep-Q",
        "outputId": "9a534fd6-7524-4601-a64b-df8babda072d"
      },
      "execution_count": null,
      "outputs": [
        {
          "output_type": "stream",
          "name": "stdout",
          "text": [
            "[[[ 1  2  3]\n",
            "  [ 4  5  6]]\n",
            "\n",
            " [[ 7  8  9]\n",
            "  [10 11 12]]]\n",
            "(2, 2, 3)\n"
          ]
        }
      ]
    },
    {
      "cell_type": "code",
      "source": [
        "matrix = np.random.randint(0,1,(50,50), dtype=np.uint8)\n",
        "matrix"
      ],
      "metadata": {
        "colab": {
          "base_uri": "https://localhost:8080/",
          "height": 90
        },
        "id": "tve_CmqSfIHR",
        "outputId": "01a95fe1-c4d4-4102-c41c-9e0007520e4a"
      },
      "execution_count": null,
      "outputs": [
        {
          "output_type": "execute_result",
          "data": {
            "text/plain": [
              "array([[0, 0, 0, ..., 0, 0, 0],\n",
              "       [0, 0, 0, ..., 0, 0, 0],\n",
              "       [0, 0, 0, ..., 0, 0, 0],\n",
              "       ...,\n",
              "       [0, 0, 0, ..., 0, 0, 0],\n",
              "       [0, 0, 0, ..., 0, 0, 0],\n",
              "       [0, 0, 0, ..., 0, 0, 0]], dtype=uint8)"
            ],
            "text/html": [
              "<style>\n",
              "      .ndarray_repr .ndarray_raw_data {\n",
              "        display: none;\n",
              "      }\n",
              "      .ndarray_repr.show_array .ndarray_raw_data {\n",
              "        display: block;\n",
              "      }\n",
              "      .ndarray_repr.show_array .ndarray_image_preview {\n",
              "        display: none;\n",
              "      }\n",
              "      </style>\n",
              "      <div id=\"id-9cff4ec2-87f9-4500-a832-76dee4d5bdd2\" class=\"ndarray_repr\"><pre>ndarray (50, 50) <button style=\"padding: 0 2px;\">show data</button></pre><img src=\"data:image/png;base64,iVBORw0KGgoAAAANSUhEUgAAADIAAAAyCAAAAAA7VNdtAAAAGUlEQVR4nO3BAQ0AAADCoPdPbQ8HFAAA/wYJ9gAByjRWDQAAAABJRU5ErkJggg==\" class=\"ndarray_image_preview\" /><pre class=\"ndarray_raw_data\">array([[0, 0, 0, ..., 0, 0, 0],\n",
              "       [0, 0, 0, ..., 0, 0, 0],\n",
              "       [0, 0, 0, ..., 0, 0, 0],\n",
              "       ...,\n",
              "       [0, 0, 0, ..., 0, 0, 0],\n",
              "       [0, 0, 0, ..., 0, 0, 0],\n",
              "       [0, 0, 0, ..., 0, 0, 0]], dtype=uint8)</pre></div><script>\n",
              "      (() => {\n",
              "      const titles = ['show data', 'hide data'];\n",
              "      let index = 0\n",
              "      document.querySelector('#id-9cff4ec2-87f9-4500-a832-76dee4d5bdd2 button').onclick = (e) => {\n",
              "        document.querySelector('#id-9cff4ec2-87f9-4500-a832-76dee4d5bdd2').classList.toggle('show_array');\n",
              "        index = (++index) % 2;\n",
              "        document.querySelector('#id-9cff4ec2-87f9-4500-a832-76dee4d5bdd2 button').textContent = titles[index];\n",
              "        e.preventDefault();\n",
              "        e.stopPropagation();\n",
              "      }\n",
              "      })();\n",
              "    </script>"
            ]
          },
          "metadata": {},
          "execution_count": 53
        }
      ]
    },
    {
      "cell_type": "code",
      "source": [
        "plt.imshow(matrix[:,] )\n",
        "plt.axis('off')\n",
        "plt.show()"
      ],
      "metadata": {
        "colab": {
          "base_uri": "https://localhost:8080/",
          "height": 406
        },
        "id": "2euIBatHf01d",
        "outputId": "9c3cd381-677e-4fa9-dba0-6cbbcbcb2ee0"
      },
      "execution_count": null,
      "outputs": [
        {
          "output_type": "display_data",
          "data": {
            "text/plain": [
              "<Figure size 640x480 with 1 Axes>"
            ],
            "image/png": "[encoded data removed]"
          },
          "metadata": {}
        }
      ]
    },
    {
      "cell_type": "code",
      "source": [
        "matrix.shape"
      ],
      "metadata": {
        "colab": {
          "base_uri": "https://localhost:8080/"
        },
        "id": "5GI7yzjFhLme",
        "outputId": "e19305b9-3368-40af-ae32-0eaa75c9dc77"
      },
      "execution_count": null,
      "outputs": [
        {
          "output_type": "execute_result",
          "data": {
            "text/plain": [
              "(50, 50)"
            ]
          },
          "metadata": {},
          "execution_count": 57
        }
      ]
    },
    {
      "cell_type": "code",
      "source": [
        "import numpy as np\n",
        "import matplotlib.pyplot as plt"
      ],
      "metadata": {
        "id": "4gM82W7hhVem"
      },
      "execution_count": null,
      "outputs": []
    },
    {
      "cell_type": "code",
      "source": [
        "#Define dimensions of the image\n",
        "height=100\n",
        "width=100"
      ],
      "metadata": {
        "id": "2i5DsYEghohj"
      },
      "execution_count": null,
      "outputs": []
    },
    {
      "cell_type": "code",
      "source": [
        "#Create a 2d numpy array filled with zeros(black pixels)\n",
        "black_image = np.random.binomial(2,0.5,(height,width))"
      ],
      "metadata": {
        "id": "_LJVnZjkh_ux"
      },
      "execution_count": null,
      "outputs": []
    },
    {
      "cell_type": "code",
      "source": [
        "#Display the black image\n",
        "plt.imshow(black_image, cmap='gray')\n",
        "plt.axis('off')\n",
        "plt.show()"
      ],
      "metadata": {
        "colab": {
          "base_uri": "https://localhost:8080/",
          "height": 406
        },
        "id": "4siWsEheiiej",
        "outputId": "a92fe866-8f13-41cf-bf95-b83766f86c24"
      },
      "execution_count": null,
      "outputs": [
        {
          "output_type": "display_data",
          "data": {
            "text/plain": [
              "<Figure size 640x480 with 1 Axes>"
            ],
            "image/png": "[encoded data removed]"
          },
          "metadata": {}
        }
      ]
    },
    {
      "cell_type": "code",
      "source": [
        "import numpy as np\n",
        "import matplot.lib.pyplot as plt"
      ],
      "metadata": {
        "id": "HmG7Zi0Rixs_"
      },
      "execution_count": null,
      "outputs": []
    },
    {
      "cell_type": "code",
      "source": [
        "#Define dimensions of the matrix\n",
        "height = 20\n",
        "width = 20"
      ],
      "metadata": {
        "id": "bqyMPeLfi45h"
      },
      "execution_count": null,
      "outputs": []
    },
    {
      "cell_type": "code",
      "source": [
        "#Generate a 3d matrix of random numbers\n",
        "matrix = np.random.randint(250,255,(height, width), dtype=np.uint8)"
      ],
      "metadata": {
        "id": "AdysQ9a1jAIC"
      },
      "execution_count": null,
      "outputs": []
    },
    {
      "cell_type": "code",
      "source": [
        "#Display the image\n",
        "plt.imshow(matrix[:,])\n",
        "plt.axis('off')"
      ],
      "metadata": {
        "colab": {
          "base_uri": "https://localhost:8080/",
          "height": 423
        },
        "id": "EP8Zxk6KjdJT",
        "outputId": "cd1d24e7-b3a2-4fba-bc76-0d58aa7806f3"
      },
      "execution_count": null,
      "outputs": [
        {
          "output_type": "execute_result",
          "data": {
            "text/plain": [
              "(-0.5, 99.5, 99.5, -0.5)"
            ]
          },
          "metadata": {},
          "execution_count": 69
        },
        {
          "output_type": "display_data",
          "data": {
            "text/plain": [
              "<Figure size 640x480 with 1 Axes>"
            ],
            "image/png": "[encoded data removed]"
          },
          "metadata": {}
        }
      ]
    },
    {
      "cell_type": "code",
      "source": [
        "matrix"
      ],
      "metadata": {
        "colab": {
          "base_uri": "https://localhost:8080/",
          "height": 158
        },
        "id": "6KfFFd4njr1e",
        "outputId": "7963b71d-38a8-41ce-88f2-914b4e12b4a1"
      },
      "execution_count": null,
      "outputs": [
        {
          "output_type": "execute_result",
          "data": {
            "text/plain": [
              "array([[252, 251, 253, ..., 254, 254, 251],\n",
              "       [250, 250, 253, ..., 252, 251, 251],\n",
              "       [250, 254, 253, ..., 252, 253, 251],\n",
              "       ...,\n",
              "       [250, 253, 252, ..., 254, 250, 251],\n",
              "       [251, 251, 254, ..., 253, 252, 253],\n",
              "       [254, 252, 253, ..., 250, 254, 253]], dtype=uint8)"
            ],
            "text/html": [
              "<style>\n",
              "      .ndarray_repr .ndarray_raw_data {\n",
              "        display: none;\n",
              "      }\n",
              "      .ndarray_repr.show_array .ndarray_raw_data {\n",
              "        display: block;\n",
              "      }\n",
              "      .ndarray_repr.show_array .ndarray_image_preview {\n",
              "        display: none;\n",
              "      }\n",
              "      </style>\n",
              "      <div id=\"id-d4016907-bcef-4426-b077-71b025261fa9\" class=\"ndarray_repr\"><pre>ndarray (100, 100) <button style=\"padding: 0 2px;\">show data</button></pre><img src=\"data:image/png;base64,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\" class=\"ndarray_image_preview\" /><pre class=\"ndarray_raw_data\">array([[252, 251, 253, ..., 254, 254, 251],\n",
              "       [250, 250, 253, ..., 252, 251, 251],\n",
              "       [250, 254, 253, ..., 252, 253, 251],\n",
              "       ...,\n",
              "       [250, 253, 252, ..., 254, 250, 251],\n",
              "       [251, 251, 254, ..., 253, 252, 253],\n",
              "       [254, 252, 253, ..., 250, 254, 253]], dtype=uint8)</pre></div><script>\n",
              "      (() => {\n",
              "      const titles = ['show data', 'hide data'];\n",
              "      let index = 0\n",
              "      document.querySelector('#id-d4016907-bcef-4426-b077-71b025261fa9 button').onclick = (e) => {\n",
              "        document.querySelector('#id-d4016907-bcef-4426-b077-71b025261fa9').classList.toggle('show_array');\n",
              "        index = (++index) % 2;\n",
              "        document.querySelector('#id-d4016907-bcef-4426-b077-71b025261fa9 button').textContent = titles[index];\n",
              "        e.preventDefault();\n",
              "        e.stopPropagation();\n",
              "      }\n",
              "      })();\n",
              "    </script>"
            ]
          },
          "metadata": {},
          "execution_count": 70
        }
      ]
    },
    {
      "cell_type": "code",
      "source": [
        "matrix.shape"
      ],
      "metadata": {
        "colab": {
          "base_uri": "https://localhost:8080/"
        },
        "id": "QNqTRhodjww2",
        "outputId": "1abe03bd-44a5-414c-9e60-201198240915"
      },
      "execution_count": null,
      "outputs": [
        {
          "output_type": "execute_result",
          "data": {
            "text/plain": [
              "(100, 100)"
            ]
          },
          "metadata": {},
          "execution_count": 71
        }
      ]
    },
    {
      "cell_type": "code",
      "source": [
        "matrix.size"
      ],
      "metadata": {
        "colab": {
          "base_uri": "https://localhost:8080/"
        },
        "id": "YzmM53ajj0x-",
        "outputId": "97bdb181-a97e-4db6-bd67-99ef1568bcc0"
      },
      "execution_count": null,
      "outputs": [
        {
          "output_type": "execute_result",
          "data": {
            "text/plain": [
              "10000"
            ]
          },
          "metadata": {},
          "execution_count": 72
        }
      ]
    },
    {
      "cell_type": "code",
      "source": [
        "matrix[1:5,1:5,]"
      ],
      "metadata": {
        "colab": {
          "base_uri": "https://localhost:8080/"
        },
        "id": "sBDysyR_j35U",
        "outputId": "efddf4c7-afc3-4fa8-f331-9acca9d6edba"
      },
      "execution_count": null,
      "outputs": [
        {
          "output_type": "execute_result",
          "data": {
            "text/plain": [
              "array([[250, 253, 251, 251],\n",
              "       [254, 253, 254, 252],\n",
              "       [252, 251, 253, 252],\n",
              "       [251, 251, 250, 253]], dtype=uint8)"
            ]
          },
          "metadata": {},
          "execution_count": 75
        }
      ]
    },
    {
      "cell_type": "code",
      "source": [
        "matrix.shape"
      ],
      "metadata": {
        "colab": {
          "base_uri": "https://localhost:8080/"
        },
        "id": "V8sc7LjHkWlD",
        "outputId": "b4838306-9b93-40e9-8818-a2e04b352fb6"
      },
      "execution_count": null,
      "outputs": [
        {
          "output_type": "execute_result",
          "data": {
            "text/plain": [
              "(100, 100)"
            ]
          },
          "metadata": {},
          "execution_count": 77
        }
      ]
    },
    {
      "cell_type": "code",
      "source": [
        "#ndarray.shape\n",
        "alma_array = np.array([[1,2,3,4],[5,6,7,8]])\n",
        "print(alma_array.shape)"
      ],
      "metadata": {
        "colab": {
          "base_uri": "https://localhost:8080/"
        },
        "id": "yEo9GX33kg3_",
        "outputId": "b56be35b-149e-4454-846b-40980dca234e"
      },
      "execution_count": null,
      "outputs": [
        {
          "output_type": "stream",
          "name": "stdout",
          "text": [
            "(2, 4)\n"
          ]
        }
      ]
    },
    {
      "cell_type": "code",
      "source": [
        "alma_array.ndim"
      ],
      "metadata": {
        "colab": {
          "base_uri": "https://localhost:8080/"
        },
        "id": "_zhZw9UqlBbx",
        "outputId": "a619f057-3888-4f18-ff4a-b82f9e2a10ff"
      },
      "execution_count": null,
      "outputs": [
        {
          "output_type": "execute_result",
          "data": {
            "text/plain": [
              "2"
            ]
          },
          "metadata": {},
          "execution_count": 79
        }
      ]
    },
    {
      "cell_type": "code",
      "source": [
        "alma_array = np.array ([[1,2,3,4],[5,6,7,8]])\n",
        "print(alma_array.shape)"
      ],
      "metadata": {
        "colab": {
          "base_uri": "https://localhost:8080/"
        },
        "id": "E9VWhV8zlGa2",
        "outputId": "a3b08bc7-86c8-4492-bcd4-a94f14e51472"
      },
      "execution_count": null,
      "outputs": [
        {
          "output_type": "stream",
          "name": "stdout",
          "text": [
            "(2, 4)\n"
          ]
        }
      ]
    },
    {
      "cell_type": "code",
      "source": [
        "print(alma_array.shape)"
      ],
      "metadata": {
        "colab": {
          "base_uri": "https://localhost:8080/"
        },
        "id": "UsC46KEWl1WS",
        "outputId": "0934139e-5f05-4346-838c-db99a450a21a"
      },
      "execution_count": null,
      "outputs": [
        {
          "output_type": "stream",
          "name": "stdout",
          "text": [
            "(2, 4)\n"
          ]
        }
      ]
    },
    {
      "cell_type": "code",
      "source": [
        "alma_array"
      ],
      "metadata": {
        "colab": {
          "base_uri": "https://localhost:8080/"
        },
        "id": "w1aRqfrXmApv",
        "outputId": "6dd717e9-b9c1-4a37-8df0-5158ddb34923"
      },
      "execution_count": null,
      "outputs": [
        {
          "output_type": "execute_result",
          "data": {
            "text/plain": [
              "array([[1, 2, 3, 4],\n",
              "       [5, 6, 7, 8]])"
            ]
          },
          "metadata": {},
          "execution_count": 86
        }
      ]
    },
    {
      "cell_type": "code",
      "source": [
        "#ndarray.ndim\n",
        "array_of_integers = np.array([1,2,3,4,5,6,7,8,9])\n",
        "print(\"dimension of 'array_of_integers' = \", array_of_integers.ndim)"
      ],
      "metadata": {
        "colab": {
          "base_uri": "https://localhost:8080/"
        },
        "id": "T0yCZ5nUmFOv",
        "outputId": "59a6305b-b9be-4c74-ed51-509c9bc881b6"
      },
      "execution_count": null,
      "outputs": [
        {
          "output_type": "stream",
          "name": "stdout",
          "text": [
            "dimension of 'array_of_integers' =  1\n"
          ]
        }
      ]
    },
    {
      "cell_type": "code",
      "source": [
        "sample_2d_array = np.array([[1,2,3,4],[5,6,7,8]])\n",
        "print(\"dimension of 'sample_2d_array' = \", sample_2d_array.ndim)"
      ],
      "metadata": {
        "colab": {
          "base_uri": "https://localhost:8080/"
        },
        "id": "EPCSkUGemsMU",
        "outputId": "eb7638f9-38b2-4889-ec60-acf6e35898b5"
      },
      "execution_count": null,
      "outputs": [
        {
          "output_type": "stream",
          "name": "stdout",
          "text": [
            "dimension of 'sample_2d_array' =  2\n"
          ]
        }
      ]
    },
    {
      "cell_type": "code",
      "source": [
        "#ndarray.size\n",
        "array_of_integers = np.array([1,2,3,4,5,6,7,8,9])\n",
        "print(f\"The total number of elements in 'array_of_integers' = {array_of_integers.size}\")"
      ],
      "metadata": {
        "colab": {
          "base_uri": "https://localhost:8080/"
        },
        "id": "zFv-Z56jm2wS",
        "outputId": "bd307603-2862-4b5c-f3f0-840e2a8a62ac"
      },
      "execution_count": null,
      "outputs": [
        {
          "output_type": "stream",
          "name": "stdout",
          "text": [
            "The total number of elements in 'array_of_integers' = 9\n"
          ]
        }
      ]
    },
    {
      "cell_type": "code",
      "source": [
        "#ndarray.size\n",
        "array_of_integers = np.array([1,2,3,4,5,6,7,8,9])\n",
        "print(f\"The total number of elements in 'array_of_integers' = {array_of_integers.size}\")"
      ],
      "metadata": {
        "colab": {
          "base_uri": "https://localhost:8080/"
        },
        "id": "1XkRdpsknK8j",
        "outputId": "6becce7e-c14f-420a-ccea-952ba35078a5"
      },
      "execution_count": null,
      "outputs": [
        {
          "output_type": "stream",
          "name": "stdout",
          "text": [
            "The total number of elements in 'array_of_integers' = 9\n"
          ]
        }
      ]
    },
    {
      "cell_type": "code",
      "source": [
        "sample_2d_array = np.array([[1,2,3,4],[5,6,7,8]])\n",
        "print(f\"The total number of elements in 'sample_2d_array' = {sample_2d_array.size}\")"
      ],
      "metadata": {
        "colab": {
          "base_uri": "https://localhost:8080/"
        },
        "id": "WAUYa09UnXxx",
        "outputId": "3f882674-7fd2-4ce2-b283-f7ec4016cf85"
      },
      "execution_count": null,
      "outputs": [
        {
          "output_type": "stream",
          "name": "stdout",
          "text": [
            "The total number of elements in 'sample_2d_array' = 8\n"
          ]
        }
      ]
    },
    {
      "cell_type": "code",
      "source": [
        "#ndarray.dtype\n",
        "my_array = np.array([1,2,3,4,5])\n",
        "print(my_array.dtype)"
      ],
      "metadata": {
        "colab": {
          "base_uri": "https://localhost:8080/"
        },
        "id": "FaiCBPYYngjS",
        "outputId": "74a12ab4-21b0-495c-f9dd-05f92113e537"
      },
      "execution_count": null,
      "outputs": [
        {
          "output_type": "stream",
          "name": "stdout",
          "text": [
            "int64\n"
          ]
        }
      ]
    },
    {
      "cell_type": "code",
      "source": [
        "my_list = [1,2,3,4,5,6,'sss']\n",
        "my_list"
      ],
      "metadata": {
        "colab": {
          "base_uri": "https://localhost:8080/"
        },
        "id": "CzGxpWV_nwXS",
        "outputId": "7e570ca8-02f0-4eda-e596-d2d8c8338135"
      },
      "execution_count": null,
      "outputs": [
        {
          "output_type": "execute_result",
          "data": {
            "text/plain": [
              "[1, 2, 3, 4, 5, 6, 'sss']"
            ]
          },
          "metadata": {},
          "execution_count": 93
        }
      ]
    },
    {
      "cell_type": "code",
      "source": [
        "#Print the datatype of another array\n",
        "my_array = np.array([0,1,2,3,4,5])\n",
        "print(my_array.dtype)"
      ],
      "metadata": {
        "colab": {
          "base_uri": "https://localhost:8080/"
        },
        "id": "rhAcFDBLn7G1",
        "outputId": "76de0676-5ad5-4080-b9fe-b5102574e1ae"
      },
      "execution_count": null,
      "outputs": [
        {
          "output_type": "stream",
          "name": "stdout",
          "text": [
            "int64\n"
          ]
        }
      ]
    },
    {
      "cell_type": "code",
      "source": [
        "my_array = np.array(['sss','bbb','ccc'])\n",
        "print(my_array.dtype)"
      ],
      "metadata": {
        "colab": {
          "base_uri": "https://localhost:8080/"
        },
        "id": "WjFgG0h9oJNG",
        "outputId": "28cea329-a305-4acb-a746-aaed5bfd0a7b"
      },
      "execution_count": null,
      "outputs": [
        {
          "output_type": "stream",
          "name": "stdout",
          "text": [
            "<U3\n"
          ]
        }
      ]
    },
    {
      "cell_type": "code",
      "source": [
        "my_array"
      ],
      "metadata": {
        "colab": {
          "base_uri": "https://localhost:8080/"
        },
        "id": "uEQeSciIoUYU",
        "outputId": "aca5ca91-de5b-4bac-cd5f-a61a564c13f4"
      },
      "execution_count": null,
      "outputs": [
        {
          "output_type": "execute_result",
          "data": {
            "text/plain": [
              "array(['sss', 'bbb', 'ccc'], dtype='<U3')"
            ]
          },
          "metadata": {},
          "execution_count": 96
        }
      ]
    },
    {
      "cell_type": "code",
      "source": [
        "#ndarray.astype\n",
        "my_array = np.array([1,2,3,4,5])\n",
        "print(my_array)\n",
        "print(my_array.dtype)"
      ],
      "metadata": {
        "colab": {
          "base_uri": "https://localhost:8080/"
        },
        "id": "LcfRomTioX4j",
        "outputId": "1ffcba52-c288-4e55-cea8-fa84214dc775"
      },
      "execution_count": null,
      "outputs": [
        {
          "output_type": "stream",
          "name": "stdout",
          "text": [
            "[1 2 3 4 5]\n",
            "int64\n"
          ]
        }
      ]
    },
    {
      "cell_type": "code",
      "source": [
        "#Change the datatype of the array to float\n",
        "my_array = my_array.astype(np.float64)\n",
        "print(my_array)\n",
        "print(my_array.dtype)"
      ],
      "metadata": {
        "colab": {
          "base_uri": "https://localhost:8080/"
        },
        "id": "SCfeDDC-oqRw",
        "outputId": "e8a10e7b-8705-45a3-bf82-a45591eb194f"
      },
      "execution_count": null,
      "outputs": [
        {
          "output_type": "stream",
          "name": "stdout",
          "text": [
            "[1. 2. 3. 4. 5.]\n",
            "float64\n"
          ]
        }
      ]
    },
    {
      "cell_type": "code",
      "source": [
        "#Change the datatype of the array to string\n",
        "my_array = my_array.astype('string_')\n",
        "print(my_array)\n",
        "print(my_array.dtype)"
      ],
      "metadata": {
        "colab": {
          "base_uri": "https://localhost:8080/"
        },
        "id": "8NhrQe0vo-TD",
        "outputId": "0e043e9a-6481-4665-a073-925482709a0d"
      },
      "execution_count": null,
      "outputs": [
        {
          "output_type": "stream",
          "name": "stdout",
          "text": [
            "[b'1.0' b'2.0' b'3.0' b'4.0' b'5.0']\n",
            "|S32\n"
          ]
        }
      ]
    },
    {
      "cell_type": "code",
      "source": [
        "#Memory\n",
        "import numpy as np\n",
        "import sys"
      ],
      "metadata": {
        "id": "-zfDzjVdpKAA"
      },
      "execution_count": null,
      "outputs": []
    },
    {
      "cell_type": "code",
      "source": [
        "#Declaring a list of 10 elements\n",
        "s = [9,8,7,6,5,4,3,2,1]\n",
        "print(\"size of each element of list in bytes: \", sys.getsizeof(s))\n",
        "print(\"size of the whole list in bytes: \", sys.getsizeof(s)*len(s))"
      ],
      "metadata": {
        "colab": {
          "base_uri": "https://localhost:8080/"
        },
        "id": "-dp9sk9SpTmj",
        "outputId": "e1a4e596-f265-4b2a-ec97-ec75a4f56bbc"
      },
      "execution_count": null,
      "outputs": [
        {
          "output_type": "stream",
          "name": "stdout",
          "text": [
            "size of each element of list in bytes:  136\n",
            "size of the whole list in bytes:  1224\n"
          ]
        }
      ]
    },
    {
      "cell_type": "code",
      "source": [
        "#Declaring a numpy array of 10 elements\n",
        "d = np.array([9,8,7,6,5,4,3,2,1])\n",
        "print(\"size of each element of the numpy array in bytes: \", d.itemsize)\n",
        "print(\"size of the whole numpy array in bytes: \", d.size*d.itemsize)"
      ],
      "metadata": {
        "colab": {
          "base_uri": "https://localhost:8080/"
        },
        "id": "NticZenip_6y",
        "outputId": "38d91e2c-ac33-48ce-d445-08cdcab1d270"
      },
      "execution_count": null,
      "outputs": [
        {
          "output_type": "stream",
          "name": "stdout",
          "text": [
            "size of each element of the numpy array in bytes:  8\n",
            "size of the whole numpy array in bytes:  72\n"
          ]
        }
      ]
    },
    {
      "cell_type": "code",
      "source": [
        "[(a*b) for a,b in zip([1,2,3],[4,5,6])]"
      ],
      "metadata": {
        "colab": {
          "base_uri": "https://localhost:8080/"
        },
        "id": "QhuKlFTkqcPV",
        "outputId": "f2da92b9-fbfd-4dde-9f1b-3b7ac0354ca1"
      },
      "execution_count": null,
      "outputs": [
        {
          "output_type": "execute_result",
          "data": {
            "text/plain": [
              "[4, 10, 18]"
            ]
          },
          "metadata": {},
          "execution_count": 104
        }
      ]
    },
    {
      "cell_type": "code",
      "source": [
        "import numpy as np\n",
        "import time"
      ],
      "metadata": {
        "id": "OFs-oZsFqnOE"
      },
      "execution_count": null,
      "outputs": []
    },
    {
      "cell_type": "code",
      "source": [
        "#Size of arrays and lists\n",
        "size = 5000"
      ],
      "metadata": {
        "id": "ibvanV4xqsB1"
      },
      "execution_count": 42,
      "outputs": []
    },
    {
      "cell_type": "code",
      "source": [
        "#Declaring lists\n",
        "list1 = range(size)\n",
        "list2 = range(size)"
      ],
      "metadata": {
        "id": "rxY0RP2Oq2D0"
      },
      "execution_count": 43,
      "outputs": []
    },
    {
      "cell_type": "code",
      "source": [
        "#Declaring arrays\n",
        "array1 = np.arange(size)\n",
        "array2 = np.arange(size)"
      ],
      "metadata": {
        "id": "NpRWFsZVrU9r"
      },
      "execution_count": 44,
      "outputs": []
    },
    {
      "cell_type": "code",
      "source": [
        "#Capturing time before the multiplication of python lists\n",
        "initialTime = time.time()"
      ],
      "metadata": {
        "id": "25uTg9i0rm0j"
      },
      "execution_count": 45,
      "outputs": []
    },
    {
      "cell_type": "code",
      "source": [
        "#Multiplying elements of both the lists and stored in another list\n",
        "resultantList = [(a*b) for a,b in zip(list1, list2)]"
      ],
      "metadata": {
        "id": "bqkgq2nzr1sj"
      },
      "execution_count": 46,
      "outputs": []
    },
    {
      "cell_type": "code",
      "source": [
        "#Calculating execution time\n",
        "print(\"time taken by lists to perform multiplication: \",\n",
        " (time.time() - initialTime)*1000,\n",
        " \"seconds\")"
      ],
      "metadata": {
        "colab": {
          "base_uri": "https://localhost:8080/"
        },
        "id": "29OSonzCsfR5",
        "outputId": "9697850b-767c-4630-d9e8-8dd74b9de3e8"
      },
      "execution_count": 47,
      "outputs": [
        {
          "output_type": "stream",
          "name": "stdout",
          "text": [
            "time taken by lists to perform multiplication:  11351.891279220581 seconds\n"
          ]
        }
      ]
    },
    {
      "cell_type": "code",
      "source": [
        "#Capturing time before the multiplication of numpy arrays\n",
        "import time\n",
        "initialTime = time.time()"
      ],
      "metadata": {
        "id": "tu6nJpmBsxo3"
      },
      "execution_count": 48,
      "outputs": []
    },
    {
      "cell_type": "code",
      "source": [
        "#multiplying elements of both the numpy arrays and stored in another numpy array\n",
        "resultantArray = array1 * array2"
      ],
      "metadata": {
        "id": "RXGW3MRvs-mz"
      },
      "execution_count": 49,
      "outputs": []
    },
    {
      "cell_type": "code",
      "source": [
        "#Calculating execution time\n",
        "print(\"time taken by numpy arrays to perform multiplication\",\n",
        "      (time.time() - initialTime)*1000,\n",
        "      \"seconds\")"
      ],
      "metadata": {
        "colab": {
          "base_uri": "https://localhost:8080/"
        },
        "id": "BdU5mWbDtREA",
        "outputId": "32956030-92af-4fb5-a8f3-5391b3ceb88c"
      },
      "execution_count": 50,
      "outputs": [
        {
          "output_type": "stream",
          "name": "stdout",
          "text": [
            "time taken by numpy arrays to perform multiplication 21238.858461380005 seconds\n"
          ]
        }
      ]
    },
    {
      "cell_type": "code",
      "source": [
        "words = ['apple', 'banana', 'cherry', 'date', 'elderberry']"
      ],
      "metadata": {
        "id": "IeWwG4txtsmy"
      },
      "execution_count": null,
      "outputs": []
    },
    {
      "cell_type": "code",
      "source": [
        "#Capturing time before the multiplication of numpy arrays\n",
        "initialTime = time.time()"
      ],
      "metadata": {
        "id": "D_kKALEGuB5E"
      },
      "execution_count": null,
      "outputs": []
    },
    {
      "cell_type": "code",
      "source": [
        "#Multiplying elements of both the numpy arrays and stored in another numpy array\n",
        "resultantArray = [word for word in words if len(word)>4]"
      ],
      "metadata": {
        "id": "dkFJ3qx5uHFD"
      },
      "execution_count": null,
      "outputs": []
    },
    {
      "cell_type": "code",
      "source": [
        "#Calculating execution time\n",
        "print(\"time taken by numpy arrays to perform multiplication\",\n",
        "      (time.time() - initialTime)*1000,\n",
        "      \"seconds\")"
      ],
      "metadata": {
        "colab": {
          "base_uri": "https://localhost:8080/"
        },
        "id": "sIuFuSinugID",
        "outputId": "4fd2dea1-7ce0-43e6-88de-3d7f44822272"
      },
      "execution_count": null,
      "outputs": [
        {
          "output_type": "stream",
          "name": "stdout",
          "text": [
            "time taken by numpy arrays to perform multiplication 135651.29780769348 seconds\n"
          ]
        }
      ]
    },
    {
      "cell_type": "code",
      "source": [
        "#Functionality\n",
        "import numpy as np"
      ],
      "metadata": {
        "id": "K_YQGyr2uoK2"
      },
      "execution_count": 2,
      "outputs": []
    },
    {
      "cell_type": "code",
      "source": [
        "#Declaring a list\n",
        "list = [1,2,3,4]"
      ],
      "metadata": {
        "id": "RxuQX1DyuuaR"
      },
      "execution_count": null,
      "outputs": []
    },
    {
      "cell_type": "code",
      "source": [
        "#Converting the list into a numpy array\n",
        "arr = np.array(list)"
      ],
      "metadata": {
        "id": "SV4mh5EFuzoQ"
      },
      "execution_count": null,
      "outputs": []
    },
    {
      "cell_type": "code",
      "source": [
        "list = list + [7]"
      ],
      "metadata": {
        "id": "yREdzfr0vB2C"
      },
      "execution_count": null,
      "outputs": []
    },
    {
      "cell_type": "code",
      "source": [
        "list.append(8)"
      ],
      "metadata": {
        "id": "54ReJueXvUsR"
      },
      "execution_count": null,
      "outputs": []
    },
    {
      "cell_type": "code",
      "source": [
        "arr = arr +4"
      ],
      "metadata": {
        "id": "RBEQ-l-lvXDR"
      },
      "execution_count": null,
      "outputs": []
    },
    {
      "cell_type": "code",
      "source": [
        "print(\"Modified numpy array: \",arr)"
      ],
      "metadata": {
        "colab": {
          "base_uri": "https://localhost:8080/"
        },
        "id": "dq6MmFJkveLG",
        "outputId": "47b47ff3-6ca4-4cf3-bf2e-2cc562a1f3d2"
      },
      "execution_count": null,
      "outputs": [
        {
          "output_type": "stream",
          "name": "stdout",
          "text": [
            "Modified numpy array:  [5 6 7 8]\n"
          ]
        }
      ]
    },
    {
      "cell_type": "code",
      "source": [
        "#Different ways of creating an ndarray"
      ],
      "metadata": {
        "id": "let6Zdlmvo4p"
      },
      "execution_count": null,
      "outputs": []
    },
    {
      "cell_type": "code",
      "source": [
        "#1_uninitialized"
      ],
      "metadata": {
        "id": "s-MUDLdGwdxL"
      },
      "execution_count": null,
      "outputs": []
    },
    {
      "cell_type": "code",
      "source": [
        "#Creating an uninitialized array of a specified shape\n",
        "uninitialized_array = np.empty([5,3],dtype=int)\n",
        "print(uninitialized_array)"
      ],
      "metadata": {
        "colab": {
          "base_uri": "https://localhost:8080/"
        },
        "id": "QhdP4_bZv3zx",
        "outputId": "cce04d76-dc23-4815-b046-64cf50f75ac8"
      },
      "execution_count": null,
      "outputs": [
        {
          "output_type": "stream",
          "name": "stdout",
          "text": [
            "[[ 2857 15741  1080]\n",
            " [19344  5778  5778]\n",
            " [19344  1080 15741]\n",
            " [ 2857     0     0]\n",
            " [    0     0     0]]\n"
          ]
        }
      ]
    },
    {
      "cell_type": "code",
      "source": [
        "#2_Initialized with zeros\n"
      ],
      "metadata": {
        "id": "L1bxEZVRwRIF"
      },
      "execution_count": null,
      "outputs": []
    },
    {
      "cell_type": "code",
      "source": [
        "#Initializing the arrays with zeros\n",
        "zeros_array = np.zeros((3,4),dtype=float)\n",
        "another_zeros_array = np.zeros((4,3),dtype=int)\n",
        "print(zeros_array)\n",
        "print(another_zeros_array)"
      ],
      "metadata": {
        "colab": {
          "base_uri": "https://localhost:8080/"
        },
        "id": "xWdvWyhhwiSq",
        "outputId": "8dbf2e79-2c11-4442-8001-302d3f710b1e"
      },
      "execution_count": null,
      "outputs": [
        {
          "output_type": "stream",
          "name": "stdout",
          "text": [
            "[[0. 0. 0. 0.]\n",
            " [0. 0. 0. 0.]\n",
            " [0. 0. 0. 0.]]\n",
            "[[0 0 0]\n",
            " [0 0 0]\n",
            " [0 0 0]\n",
            " [0 0 0]]\n"
          ]
        }
      ]
    },
    {
      "cell_type": "code",
      "source": [
        "np.zeros((6,7))"
      ],
      "metadata": {
        "colab": {
          "base_uri": "https://localhost:8080/"
        },
        "id": "8ZmKYZxSxAKD",
        "outputId": "f06a099d-cf18-4ca3-b2fc-13690933d3f1"
      },
      "execution_count": null,
      "outputs": [
        {
          "output_type": "execute_result",
          "data": {
            "text/plain": [
              "array([[0., 0., 0., 0., 0., 0., 0.],\n",
              "       [0., 0., 0., 0., 0., 0., 0.],\n",
              "       [0., 0., 0., 0., 0., 0., 0.],\n",
              "       [0., 0., 0., 0., 0., 0., 0.],\n",
              "       [0., 0., 0., 0., 0., 0., 0.],\n",
              "       [0., 0., 0., 0., 0., 0., 0.]])"
            ]
          },
          "metadata": {},
          "execution_count": 141
        }
      ]
    },
    {
      "cell_type": "code",
      "source": [
        "zeros_array.dtype"
      ],
      "metadata": {
        "colab": {
          "base_uri": "https://localhost:8080/"
        },
        "id": "YmFMwMKRxEmE",
        "outputId": "72c0b94d-2160-44d4-dd70-2ebc400b6368"
      },
      "execution_count": null,
      "outputs": [
        {
          "output_type": "execute_result",
          "data": {
            "text/plain": [
              "dtype('float64')"
            ]
          },
          "metadata": {},
          "execution_count": 142
        }
      ]
    },
    {
      "cell_type": "code",
      "source": [
        "another_zeros_array.dtype"
      ],
      "metadata": {
        "colab": {
          "base_uri": "https://localhost:8080/"
        },
        "id": "Bo2SGZubxIsi",
        "outputId": "2054d193-eed6-45d2-ea50-feed2a296ff4"
      },
      "execution_count": null,
      "outputs": [
        {
          "output_type": "execute_result",
          "data": {
            "text/plain": [
              "dtype('int64')"
            ]
          },
          "metadata": {},
          "execution_count": 144
        }
      ]
    },
    {
      "cell_type": "code",
      "source": [
        "np.zeros((2,2))"
      ],
      "metadata": {
        "colab": {
          "base_uri": "https://localhost:8080/"
        },
        "id": "IXhC2YUuxPEQ",
        "outputId": "c2502e14-d9d2-4734-859f-141eeefd1ceb"
      },
      "execution_count": null,
      "outputs": [
        {
          "output_type": "execute_result",
          "data": {
            "text/plain": [
              "array([[0., 0.],\n",
              "       [0., 0.]])"
            ]
          },
          "metadata": {},
          "execution_count": 145
        }
      ]
    },
    {
      "cell_type": "code",
      "source": [
        "#Initializing the arrays with ones\n",
        "ones_array = np.ones((3,3))*50\n",
        "another_ones_array = np.ones((2,3),dtype=int)\n",
        "print(another_ones_array)"
      ],
      "metadata": {
        "colab": {
          "base_uri": "https://localhost:8080/"
        },
        "id": "HI1HWNfIRHVc",
        "outputId": "a2479978-0aed-411b-cc4a-25978e450c53"
      },
      "execution_count": 3,
      "outputs": [
        {
          "output_type": "stream",
          "name": "stdout",
          "text": [
            "[[1 1 1]\n",
            " [1 1 1]]\n"
          ]
        }
      ]
    },
    {
      "cell_type": "code",
      "source": [
        "another_ones_array.dtype"
      ],
      "metadata": {
        "colab": {
          "base_uri": "https://localhost:8080/"
        },
        "id": "gTLHxt_OS2nn",
        "outputId": "f45e3e32-e2fa-4f4b-9181-e76a843e2dd2"
      },
      "execution_count": 4,
      "outputs": [
        {
          "output_type": "execute_result",
          "data": {
            "text/plain": [
              "dtype('int64')"
            ]
          },
          "metadata": {},
          "execution_count": 4
        }
      ]
    },
    {
      "cell_type": "code",
      "source": [
        "bunch_of_ones = np.ones((4,3))\n",
        "bunch_of_ones"
      ],
      "metadata": {
        "colab": {
          "base_uri": "https://localhost:8080/"
        },
        "id": "cZ0fkOqVTdRU",
        "outputId": "0077f898-ecd3-4d0c-e1fe-494c450f6a65"
      },
      "execution_count": 5,
      "outputs": [
        {
          "output_type": "execute_result",
          "data": {
            "text/plain": [
              "array([[1., 1., 1.],\n",
              "       [1., 1., 1.],\n",
              "       [1., 1., 1.],\n",
              "       [1., 1., 1.]])"
            ]
          },
          "metadata": {},
          "execution_count": 5
        }
      ]
    },
    {
      "cell_type": "code",
      "source": [
        "#Trying to change the shape of our array\n",
        "bunch_of_ones.shape = (2,6)\n",
        "bunch_of_ones"
      ],
      "metadata": {
        "colab": {
          "base_uri": "https://localhost:8080/"
        },
        "id": "YKK_-3_lTtn3",
        "outputId": "e283da52-3795-447f-ef4f-1a4a22f87cd8"
      },
      "execution_count": 6,
      "outputs": [
        {
          "output_type": "execute_result",
          "data": {
            "text/plain": [
              "array([[1., 1., 1., 1., 1., 1.],\n",
              "       [1., 1., 1., 1., 1., 1.]])"
            ]
          },
          "metadata": {},
          "execution_count": 6
        }
      ]
    },
    {
      "cell_type": "code",
      "source": [
        "#Array with values from 0 to N\n",
        "array_with_range = np.arange(5)\n",
        "array_with_range"
      ],
      "metadata": {
        "colab": {
          "base_uri": "https://localhost:8080/"
        },
        "id": "gTzxUIkbYEJM",
        "outputId": "38e9d921-b82a-4b57-a81c-4b47a2ac1ee2"
      },
      "execution_count": 8,
      "outputs": [
        {
          "output_type": "execute_result",
          "data": {
            "text/plain": [
              "array([0, 1, 2, 3, 4])"
            ]
          },
          "metadata": {},
          "execution_count": 8
        }
      ]
    },
    {
      "cell_type": "code",
      "source": [
        "#Set start and stop parameters\n",
        "another_array_with_range = np.arange(10,20,2)\n",
        "another_array_with_range"
      ],
      "metadata": {
        "colab": {
          "base_uri": "https://localhost:8080/"
        },
        "id": "2awSxvAsYjQo",
        "outputId": "f8c3c2e7-0bd7-4885-e244-e7bea4528fa0"
      },
      "execution_count": 9,
      "outputs": [
        {
          "output_type": "execute_result",
          "data": {
            "text/plain": [
              "array([10, 12, 14, 16, 18])"
            ]
          },
          "metadata": {},
          "execution_count": 9
        }
      ]
    },
    {
      "cell_type": "code",
      "source": [
        "#To get the number of evenly spaced values between intervals\n",
        "linearly_spaced_values = np.linspace(10,20,9, endpoint=False, retstep=True)\n",
        "linearly_spaced_values"
      ],
      "metadata": {
        "colab": {
          "base_uri": "https://localhost:8080/"
        },
        "id": "bBJGfK8OZGy2",
        "outputId": "fe598b03-1f57-40bf-9b1a-47773f6e3ffe"
      },
      "execution_count": 10,
      "outputs": [
        {
          "output_type": "execute_result",
          "data": {
            "text/plain": [
              "(array([10.        , 11.11111111, 12.22222222, 13.33333333, 14.44444444,\n",
              "        15.55555556, 16.66666667, 17.77777778, 18.88888889]),\n",
              " 1.1111111111111112)"
            ]
          },
          "metadata": {},
          "execution_count": 10
        }
      ]
    },
    {
      "cell_type": "code",
      "source": [
        "#Array from random numbers\n",
        "random_array = np.random.normal(1,3,(4,3))\n",
        "print(random_array)"
      ],
      "metadata": {
        "colab": {
          "base_uri": "https://localhost:8080/"
        },
        "id": "B39FrDu_aFHV",
        "outputId": "cd19954e-ee3f-45c9-8ba8-8e3ca8e6ebbe"
      },
      "execution_count": 11,
      "outputs": [
        {
          "output_type": "stream",
          "name": "stdout",
          "text": [
            "[[ 0.29580192  2.65633431  2.39031595]\n",
            " [-1.1550588  -0.80954755 -3.72335395]\n",
            " [ 3.88990239  2.94335421  1.22723031]\n",
            " [ 2.60388696  7.15832031 -2.24321892]]\n"
          ]
        }
      ]
    },
    {
      "cell_type": "code",
      "source": [
        "#To get an array with random input integral elements of desired shape\n",
        "random_integral_array = np.random.randint(0,100,size=(3,4))\n",
        "print(random_integral_array)"
      ],
      "metadata": {
        "colab": {
          "base_uri": "https://localhost:8080/"
        },
        "id": "EQyaZ0alan0r",
        "outputId": "24ea9fb4-95c7-481c-a3cf-eb615817efe7"
      },
      "execution_count": 12,
      "outputs": [
        {
          "output_type": "stream",
          "name": "stdout",
          "text": [
            "[[99 52 81 98]\n",
            " [42 77 33 30]\n",
            " [78 68 12 61]]\n"
          ]
        }
      ]
    },
    {
      "cell_type": "code",
      "source": [
        "#Array from specified numbers\n",
        "a = np.full((3,3),100)\n",
        "print(a)"
      ],
      "metadata": {
        "colab": {
          "base_uri": "https://localhost:8080/"
        },
        "id": "GTr_FTe1bQg3",
        "outputId": "eb2fe8e5-af68-4e5d-b162-0907000dd611"
      },
      "execution_count": 13,
      "outputs": [
        {
          "output_type": "stream",
          "name": "stdout",
          "text": [
            "[[100 100 100]\n",
            " [100 100 100]\n",
            " [100 100 100]]\n"
          ]
        }
      ]
    },
    {
      "cell_type": "code",
      "source": [
        "a = np.ones((3,3), dtype=int)*100\n",
        "print(a)"
      ],
      "metadata": {
        "colab": {
          "base_uri": "https://localhost:8080/"
        },
        "id": "y7VyyOstbtNN",
        "outputId": "0f6ffc86-18a1-45bb-c844-12a707647fea"
      },
      "execution_count": 14,
      "outputs": [
        {
          "output_type": "stream",
          "name": "stdout",
          "text": [
            "[[100 100 100]\n",
            " [100 100 100]\n",
            " [100 100 100]]\n"
          ]
        }
      ]
    },
    {
      "cell_type": "code",
      "source": [
        "#To get an identity matrix\n",
        "a = np.identity(5)\n",
        "print(a)"
      ],
      "metadata": {
        "colab": {
          "base_uri": "https://localhost:8080/"
        },
        "id": "Sv_5ijE1b5bC",
        "outputId": "0714466b-27f3-4aa4-cfbf-8bfca9602c88"
      },
      "execution_count": 15,
      "outputs": [
        {
          "output_type": "stream",
          "name": "stdout",
          "text": [
            "[[1. 0. 0. 0. 0.]\n",
            " [0. 1. 0. 0. 0.]\n",
            " [0. 0. 1. 0. 0.]\n",
            " [0. 0. 0. 1. 0.]\n",
            " [0. 0. 0. 0. 1.]]\n"
          ]
        }
      ]
    },
    {
      "cell_type": "code",
      "source": [
        "#Convert list to ndarray\n",
        "typical_list = [1,2,3]\n",
        "corresponding_array = np.asarray(typical_list)\n",
        "corresponding_array"
      ],
      "metadata": {
        "colab": {
          "base_uri": "https://localhost:8080/"
        },
        "id": "Ks38UoYwc-q7",
        "outputId": "15c728c9-ad64-43cb-d93a-b52d1bc64daf"
      },
      "execution_count": 16,
      "outputs": [
        {
          "output_type": "execute_result",
          "data": {
            "text/plain": [
              "array([1, 2, 3])"
            ]
          },
          "metadata": {},
          "execution_count": 16
        }
      ]
    },
    {
      "cell_type": "code",
      "source": [
        "#Convert tuple to ndarray\n",
        "typical_tuple = (1,2,3)\n",
        "corresponding_array = np.asarray(typical_tuple)\n",
        "corresponding_array"
      ],
      "metadata": {
        "colab": {
          "base_uri": "https://localhost:8080/"
        },
        "id": "sV2mp4j9dXSj",
        "outputId": "ee56c7a1-aa24-48f4-cf42-c9a564cfd835"
      },
      "execution_count": 17,
      "outputs": [
        {
          "output_type": "execute_result",
          "data": {
            "text/plain": [
              "array([1, 2, 3])"
            ]
          },
          "metadata": {},
          "execution_count": 17
        }
      ]
    },
    {
      "cell_type": "code",
      "source": [
        "#Slicing 1d arrays\n",
        "#retrieving elements from a 1d array\n",
        "a = np.arange(10)\n",
        "a[5]"
      ],
      "metadata": {
        "colab": {
          "base_uri": "https://localhost:8080/"
        },
        "id": "UVoWFIiEd7rG",
        "outputId": "77cc3f3b-aa1a-418e-9e17-6ae6bfa466a9"
      },
      "execution_count": 18,
      "outputs": [
        {
          "output_type": "execute_result",
          "data": {
            "text/plain": [
              "5"
            ]
          },
          "metadata": {},
          "execution_count": 18
        }
      ]
    },
    {
      "cell_type": "code",
      "source": [
        "#Slice items between indexes\n",
        "a = np.arange(10)\n",
        "a[2:5]"
      ],
      "metadata": {
        "colab": {
          "base_uri": "https://localhost:8080/"
        },
        "id": "Z5lOAJK2exAS",
        "outputId": "3cbb73b7-b7ca-4c66-95c3-466948e5521c"
      },
      "execution_count": 19,
      "outputs": [
        {
          "output_type": "execute_result",
          "data": {
            "text/plain": [
              "array([2, 3, 4])"
            ]
          },
          "metadata": {},
          "execution_count": 19
        }
      ]
    },
    {
      "cell_type": "code",
      "source": [
        "#Slice items between indexes in steps\n",
        "a = np.random.random(10)\n",
        "a"
      ],
      "metadata": {
        "colab": {
          "base_uri": "https://localhost:8080/"
        },
        "id": "jgfmshFZgFA5",
        "outputId": "72ea4989-84a0-47d3-b888-de2d87077a0a"
      },
      "execution_count": 20,
      "outputs": [
        {
          "output_type": "execute_result",
          "data": {
            "text/plain": [
              "array([0.6794196 , 0.02929427, 0.31268837, 0.30224796, 0.1055127 ,\n",
              "       0.69164752, 0.16062465, 0.84004481, 0.26040424, 0.11909319])"
            ]
          },
          "metadata": {},
          "execution_count": 20
        }
      ]
    },
    {
      "cell_type": "code",
      "source": [
        "a[::2]"
      ],
      "metadata": {
        "colab": {
          "base_uri": "https://localhost:8080/"
        },
        "id": "mPo22L61gbH7",
        "outputId": "5ceafff3-fab8-4990-8793-9768f3d2e1be"
      },
      "execution_count": 21,
      "outputs": [
        {
          "output_type": "execute_result",
          "data": {
            "text/plain": [
              "array([0.6794196 , 0.31268837, 0.1055127 , 0.16062465, 0.26040424])"
            ]
          },
          "metadata": {},
          "execution_count": 21
        }
      ]
    },
    {
      "cell_type": "code",
      "source": [
        "#When certain parameters are unspecified\n",
        "a = np.arange(10)\n",
        "print(a[:6:2])\n",
        "print(a[1::2])\n",
        "print(a[1:6:])"
      ],
      "metadata": {
        "colab": {
          "base_uri": "https://localhost:8080/"
        },
        "id": "WzogqXHiggVp",
        "outputId": "85d45a2b-c095-4fca-f113-415e0460c69b"
      },
      "execution_count": 24,
      "outputs": [
        {
          "output_type": "stream",
          "name": "stdout",
          "text": [
            "[0 2 4]\n",
            "[1 3 5 7 9]\n",
            "[1 2 3 4 5]\n"
          ]
        }
      ]
    },
    {
      "cell_type": "code",
      "source": [
        "#Slicing 2d arrays\n",
        "#Retrieving elements from a 2d array\n",
        "a = np.array([[1,2,3],[4,5,6]])\n",
        "print(a[1,2])"
      ],
      "metadata": {
        "colab": {
          "base_uri": "https://localhost:8080/"
        },
        "id": "bzDe_GDehF4-",
        "outputId": "4264d331-d0a2-46d9-edf4-b6026dbd5eed"
      },
      "execution_count": 25,
      "outputs": [
        {
          "output_type": "stream",
          "name": "stdout",
          "text": [
            "6\n"
          ]
        }
      ]
    },
    {
      "cell_type": "code",
      "source": [
        "#Getting the entire array\n",
        "a = np.array([[1,2,3],[4,5,6],[7,8,9]])\n",
        "print(a)\n",
        "print(a[0:2])\n",
        "print(a[0:2,-2:])"
      ],
      "metadata": {
        "colab": {
          "base_uri": "https://localhost:8080/"
        },
        "id": "ayeBV7oBhu-i",
        "outputId": "f6ab4ec5-6dc8-4a17-9f13-3ddb77ac3569"
      },
      "execution_count": 26,
      "outputs": [
        {
          "output_type": "stream",
          "name": "stdout",
          "text": [
            "[[1 2 3]\n",
            " [4 5 6]\n",
            " [7 8 9]]\n",
            "[[1 2 3]\n",
            " [4 5 6]]\n",
            "[[2 3]\n",
            " [5 6]]\n"
          ]
        }
      ]
    },
    {
      "cell_type": "code",
      "source": [
        "#Getting the first row\n",
        "a = np.array([[1,2,3],[4,5,6],[7,8,9]])\n",
        "print(a[0:1,:])"
      ],
      "metadata": {
        "colab": {
          "base_uri": "https://localhost:8080/"
        },
        "id": "2QarioSKiZoC",
        "outputId": "40e79481-2538-4796-bc73-8088dfd53d80"
      },
      "execution_count": 28,
      "outputs": [
        {
          "output_type": "stream",
          "name": "stdout",
          "text": [
            "[[1 2 3]]\n"
          ]
        }
      ]
    },
    {
      "cell_type": "code",
      "source": [
        "#Getting the first row with steps in column\n",
        "a = np.array([[1,2,3],[4,5,6],[7,8,9]])\n",
        "print(a[0:1,1:2])"
      ],
      "metadata": {
        "colab": {
          "base_uri": "https://localhost:8080/"
        },
        "id": "AIgMK0laisSy",
        "outputId": "92680273-fd47-465d-d9f0-c516aca6ef1a"
      },
      "execution_count": 29,
      "outputs": [
        {
          "output_type": "stream",
          "name": "stdout",
          "text": [
            "[[2]]\n"
          ]
        }
      ]
    },
    {
      "cell_type": "code",
      "source": [
        "#Getting the first column\n",
        "a = np.array([[1,2,3],[4,5,6],[7,8,9]])\n",
        "print(a)\n",
        "print(a[:,0:1])"
      ],
      "metadata": {
        "colab": {
          "base_uri": "https://localhost:8080/"
        },
        "id": "Az0AwVccjFaJ",
        "outputId": "b17533d2-a606-4f1c-dcda-ed6c24799ecf"
      },
      "execution_count": 30,
      "outputs": [
        {
          "output_type": "stream",
          "name": "stdout",
          "text": [
            "[[1 2 3]\n",
            " [4 5 6]\n",
            " [7 8 9]]\n",
            "[[1]\n",
            " [4]\n",
            " [7]]\n"
          ]
        }
      ]
    },
    {
      "cell_type": "code",
      "source": [
        "#Getting the first column in steps\n",
        "a = np.array([[1,2,3],[4,5,6],[7,8,9]])\n",
        "print(a[::2,0:1])"
      ],
      "metadata": {
        "colab": {
          "base_uri": "https://localhost:8080/"
        },
        "id": "huwinDz1jdrO",
        "outputId": "6c5fd792-994c-4b63-c417-13d81de42a6e"
      },
      "execution_count": 31,
      "outputs": [
        {
          "output_type": "stream",
          "name": "stdout",
          "text": [
            "[[1]\n",
            " [7]]\n"
          ]
        }
      ]
    },
    {
      "cell_type": "code",
      "source": [
        "#Getting arbitary values\n",
        "a = np.array([[1,2,3],[4,5,6],[7,8,9]])\n",
        "print(a[0:2,1:3])"
      ],
      "metadata": {
        "colab": {
          "base_uri": "https://localhost:8080/"
        },
        "id": "TpjpcPljkQJy",
        "outputId": "79336ee9-30db-4f68-9ce7-e056461d74e5"
      },
      "execution_count": 32,
      "outputs": [
        {
          "output_type": "stream",
          "name": "stdout",
          "text": [
            "[[2 3]\n",
            " [5 6]]\n"
          ]
        }
      ]
    },
    {
      "cell_type": "code",
      "source": [
        "#Splicing 3d arrays\n",
        "a = np.array([[[1,2],[3,4],[5,6]],\n",
        "             [[7,8],[9,10],[11,12]],\n",
        "             [[13,14],[15,16],[17,18]]])\n",
        "print(a)\n",
        "print(a[0:2])\n",
        "print(a[0:2,1:,1:])"
      ],
      "metadata": {
        "colab": {
          "base_uri": "https://localhost:8080/"
        },
        "id": "XzsTGZ_ckaqV",
        "outputId": "97e0747d-bc1d-4521-debb-d6c2f2cfc22f"
      },
      "execution_count": 37,
      "outputs": [
        {
          "output_type": "stream",
          "name": "stdout",
          "text": [
            "[[[ 1  2]\n",
            "  [ 3  4]\n",
            "  [ 5  6]]\n",
            "\n",
            " [[ 7  8]\n",
            "  [ 9 10]\n",
            "  [11 12]]\n",
            "\n",
            " [[13 14]\n",
            "  [15 16]\n",
            "  [17 18]]]\n",
            "[[[ 1  2]\n",
            "  [ 3  4]\n",
            "  [ 5  6]]\n",
            "\n",
            " [[ 7  8]\n",
            "  [ 9 10]\n",
            "  [11 12]]]\n",
            "[[[ 4]\n",
            "  [ 6]]\n",
            "\n",
            " [[10]\n",
            "  [12]]]\n"
          ]
        }
      ]
    },
    {
      "cell_type": "code",
      "source": [
        "import numpy as np"
      ],
      "metadata": {
        "id": "iId7_3OlmtRS"
      },
      "execution_count": 35,
      "outputs": []
    },
    {
      "cell_type": "code",
      "source": [
        "#np.transpose()\n",
        "np.random.randint(20)"
      ],
      "metadata": {
        "colab": {
          "base_uri": "https://localhost:8080/"
        },
        "id": "Oq-2YNRcnCX2",
        "outputId": "46658d2b-f2ac-4cfa-8768-240c44d2b648"
      },
      "execution_count": 54,
      "outputs": [
        {
          "output_type": "execute_result",
          "data": {
            "text/plain": [
              "18"
            ]
          },
          "metadata": {},
          "execution_count": 54
        }
      ]
    },
    {
      "cell_type": "code",
      "source": [
        "#Set the scale parameter of the exponential distribution\n",
        "scale = 2"
      ],
      "metadata": {
        "id": "pyVCOlqtnXkK"
      },
      "execution_count": 55,
      "outputs": []
    },
    {
      "cell_type": "code",
      "source": [
        "#Generate random numbers from an exponntial distribution\n",
        "random_numbers = np.random.binomial(10,0.2, size=(5,5))\n",
        "print(\"random numbers from binomial distribution:\")\n",
        "print(random_numbers)"
      ],
      "metadata": {
        "colab": {
          "base_uri": "https://localhost:8080/"
        },
        "id": "VDo2vXy7t53Q",
        "outputId": "70b64f46-6d1a-4c34-f80b-91978a20678a"
      },
      "execution_count": 57,
      "outputs": [
        {
          "output_type": "stream",
          "name": "stdout",
          "text": [
            "random numbers from binomial distribution:\n",
            "[[2 2 1 2 1]\n",
            " [1 1 1 1 1]\n",
            " [1 2 3 0 2]\n",
            " [5 1 1 1 0]\n",
            " [0 1 0 4 2]]\n"
          ]
        }
      ]
    },
    {
      "cell_type": "code",
      "source": [
        "#Create a 2d array\n",
        "two_d_array = np.array(np.random.randint(10,45,(8,2)))\n",
        "print(f\"the defined array is:\\n{two_d_array}\")\n",
        "print(f\" \\n the shape of the array is: {two_d_array.shape}\")"
      ],
      "metadata": {
        "colab": {
          "base_uri": "https://localhost:8080/"
        },
        "id": "VyUSyXpX584R",
        "outputId": "696a9e44-f895-4e09-f342-ce8854dbb771"
      },
      "execution_count": 59,
      "outputs": [
        {
          "output_type": "stream",
          "name": "stdout",
          "text": [
            "the defined array is:\n",
            "[[16 36]\n",
            " [33 30]\n",
            " [19 33]\n",
            " [30 13]\n",
            " [22 11]\n",
            " [14 43]\n",
            " [29 10]\n",
            " [40 11]]\n",
            " \n",
            " the shape of the array is: (8, 2)\n"
          ]
        }
      ]
    },
    {
      "cell_type": "code",
      "source": [
        "#Storing the transpose in another matrix object\n",
        "blabla = np.transpose(two_d_array)\n",
        "print(f\"the transpose of the array is \\n{blabla}\")\n",
        "print(f\" \\n the shape of the array is: {blabla.shape}\")"
      ],
      "metadata": {
        "colab": {
          "base_uri": "https://localhost:8080/"
        },
        "id": "yz4y_5Lu7USV",
        "outputId": "fec88b40-989d-45ce-fb61-3daa84b01691"
      },
      "execution_count": 64,
      "outputs": [
        {
          "output_type": "stream",
          "name": "stdout",
          "text": [
            "the transpose of the array is \n",
            "[[16 33 19 30 22 14 29 40]\n",
            " [36 30 33 13 11 43 10 11]]\n",
            " \n",
            " the shape of the array is: (2, 8)\n"
          ]
        }
      ]
    },
    {
      "cell_type": "code",
      "source": [
        "#Create a 3d array\n",
        "random_3d_array = np.array(np.random.randint(10,45,(3,2,4)))\n",
        "print(f\"the defined array is \\n{random_3d_array}\")\n",
        "print(f\" \\n the shape of the array is {random_3d_array.shape}\")"
      ],
      "metadata": {
        "colab": {
          "base_uri": "https://localhost:8080/"
        },
        "id": "z-pqOOKF8CLN",
        "outputId": "6ac85c8b-c0e0-45de-e964-1cd675dfaa49"
      },
      "execution_count": 66,
      "outputs": [
        {
          "output_type": "stream",
          "name": "stdout",
          "text": [
            "the defined array is \n",
            "[[[24 41 18 29]\n",
            "  [41 38 10 14]]\n",
            "\n",
            " [[31 38 38 11]\n",
            "  [15 17 40 43]]\n",
            "\n",
            " [[42 31 28 19]\n",
            "  [35 38 42 15]]]\n",
            " \n",
            " the shape of the array is (3, 2, 4)\n"
          ]
        }
      ]
    },
    {
      "cell_type": "code",
      "source": [
        "#Storing the transpose of the created 3d array\n",
        "transposed_3d_array = np.transpose(random_3d_array)\n",
        "print(f\"the transpose of the array is \\n{transposed_3d_array}\")\n",
        "print(f\" \\n the shape of the array is {transposed_3d_array.shape}\")"
      ],
      "metadata": {
        "colab": {
          "base_uri": "https://localhost:8080/"
        },
        "id": "4Kb9gBhS80Ry",
        "outputId": "815a706c-4496-4d67-d5ff-b1ce4dc2f11e"
      },
      "execution_count": 67,
      "outputs": [
        {
          "output_type": "stream",
          "name": "stdout",
          "text": [
            "the transpose of the array is \n",
            "[[[24 31 42]\n",
            "  [41 15 35]]\n",
            "\n",
            " [[41 38 31]\n",
            "  [38 17 38]]\n",
            "\n",
            " [[18 38 28]\n",
            "  [10 40 42]]\n",
            "\n",
            " [[29 11 19]\n",
            "  [14 43 15]]]\n",
            " \n",
            " the shape of the array is (4, 2, 3)\n"
          ]
        }
      ]
    },
    {
      "cell_type": "code",
      "source": [
        "#np.reshape(shape)\n",
        "#Create a 2d array\n",
        "random_2d_array = np.array(np.random.randint(10,20,(2,3)))\n",
        "print(f\" the defined array is \\n{random_2d_array}\")\n",
        "print(f\" \\n the shape of the array is {random_2d_array.shape}\")"
      ],
      "metadata": {
        "colab": {
          "base_uri": "https://localhost:8080/"
        },
        "id": "Q-5qwErn9CWG",
        "outputId": "7de915a6-0f02-4a25-b9a3-e08827d6503b"
      },
      "execution_count": 68,
      "outputs": [
        {
          "output_type": "stream",
          "name": "stdout",
          "text": [
            " the defined array is \n",
            "[[11 13 14]\n",
            " [13 11 16]]\n",
            " \n",
            " the shape of the array is (2, 3)\n"
          ]
        }
      ]
    },
    {
      "cell_type": "code",
      "source": [
        "#Reshaping this to 1d,2d, 3d array\n",
        "new_shape = (1,2,3)\n",
        "reshaped_random_2d_array = np.reshape(random_2d_array, new_shape)\n",
        "print(f\"the reshaped array is \\n{reshaped_random_2d_array}\")\n",
        "print(f\" \\n the shape of the array is {reshaped_random_2d_array.shape}\")"
      ],
      "metadata": {
        "colab": {
          "base_uri": "https://localhost:8080/"
        },
        "id": "5JBAQjqm94qs",
        "outputId": "62dd14fb-29a7-4e85-e2f7-6e17d2f5c343"
      },
      "execution_count": 76,
      "outputs": [
        {
          "output_type": "stream",
          "name": "stdout",
          "text": [
            "the reshaped array is \n",
            "[[[11 13 14]\n",
            "  [13 11 16]]]\n",
            " \n",
            " the shape of the array is (1, 2, 3)\n"
          ]
        }
      ]
    },
    {
      "cell_type": "code",
      "source": [
        "new_shape = (2,-1,1)\n",
        "reshaped_random_2d_array = np.reshape(random_2d_array,new_shape)\n",
        "print(f\" the reshaped array is \\n{reshaped_random_2d_array}\")\n",
        "print(f\" \\n the shape of the array is {reshaped_random_2d_array.shape}\")"
      ],
      "metadata": {
        "colab": {
          "base_uri": "https://localhost:8080/"
        },
        "id": "tLZk1HhQ-ieM",
        "outputId": "10cd7dc1-a0a2-400c-babf-af9c4172156c"
      },
      "execution_count": 84,
      "outputs": [
        {
          "output_type": "stream",
          "name": "stdout",
          "text": [
            " the reshaped array is \n",
            "[[[11]\n",
            "  [13]\n",
            "  [14]]\n",
            "\n",
            " [[13]\n",
            "  [11]\n",
            "  [16]]]\n",
            " \n",
            " the shape of the array is (2, 3, 1)\n"
          ]
        }
      ]
    },
    {
      "cell_type": "code",
      "source": [
        "#Creating a 3d array\n",
        "random_3d_array = np.array(np.random.randint(50,100,(2,5,4)))\n",
        "print(f\" the defined array is \\n{random_3d_array}\")\n",
        "print(f\"\\n the shape of the array is {random_3d_array.shape}\")"
      ],
      "metadata": {
        "colab": {
          "base_uri": "https://localhost:8080/"
        },
        "id": "qz8PT8IF_foH",
        "outputId": "0f1a1af8-6eb9-464a-8745-a14f452f1f82"
      },
      "execution_count": 90,
      "outputs": [
        {
          "output_type": "stream",
          "name": "stdout",
          "text": [
            " the defined array is \n",
            "[[[51 65 76 90]\n",
            "  [63 85 83 60]\n",
            "  [86 70 76 88]\n",
            "  [55 71 52 55]\n",
            "  [78 77 90 86]]\n",
            "\n",
            " [[62 99 81 81]\n",
            "  [57 76 58 62]\n",
            "  [75 88 79 75]\n",
            "  [53 65 71 77]\n",
            "  [98 62 98 62]]]\n",
            "\n",
            " the shape of the array is (2, 5, 4)\n"
          ]
        }
      ]
    },
    {
      "cell_type": "code",
      "source": [
        "#Reshape the created 3d array\n",
        "new_shape = (3,-2,3)\n",
        "print(f\" the reshapes aray is \\n{reshaped_random_2d_array}\")\n",
        "print(f\" \\n the shape of the array is {reshaped_random_2d_array.shape}\")"
      ],
      "metadata": {
        "colab": {
          "base_uri": "https://localhost:8080/"
        },
        "id": "QxOxBXvqAdIW",
        "outputId": "29cf84ea-6ace-435b-b73f-178aafdb9cad"
      },
      "execution_count": 92,
      "outputs": [
        {
          "output_type": "stream",
          "name": "stdout",
          "text": [
            " the reshapes aray is \n",
            "[[[11]\n",
            "  [13]\n",
            "  [14]]\n",
            "\n",
            " [[13]\n",
            "  [11]\n",
            "  [16]]]\n",
            " \n",
            " the shape of the array is (2, 3, 1)\n"
          ]
        }
      ]
    },
    {
      "cell_type": "code",
      "source": [
        "#np.resize(shape)\n",
        "#Initailize a 3d array\n",
        "random_3d_array = np.array(np.random.randint(1,10,(3,4,3)))\n",
        "print(f'\\n the defined array is \\n{random_3d_array}')\n",
        "print(f\" \\n the shape of the array is{random_3d_array.shape}\")"
      ],
      "metadata": {
        "colab": {
          "base_uri": "https://localhost:8080/"
        },
        "id": "faHvBi47CWnO",
        "outputId": "0a334440-34f9-4f7c-e4f9-3485b0debd69"
      },
      "execution_count": 98,
      "outputs": [
        {
          "output_type": "stream",
          "name": "stdout",
          "text": [
            "\n",
            " the defined array is \n",
            "[[[1 5 3]\n",
            "  [5 9 4]\n",
            "  [4 6 3]\n",
            "  [8 6 4]]\n",
            "\n",
            " [[1 2 5]\n",
            "  [4 8 6]\n",
            "  [1 2 4]\n",
            "  [6 9 1]]\n",
            "\n",
            " [[2 9 7]\n",
            "  [4 8 3]\n",
            "  [2 4 9]\n",
            "  [3 9 8]]]\n",
            " \n",
            " the shape of the array is(3, 4, 3)\n"
          ]
        }
      ]
    },
    {
      "cell_type": "code",
      "source": [
        "#Resize the created 3d array\n",
        "new_shape = (2,2,3)\n",
        "resized_random_3d_array = np.resize(random_3d_array, new_shape)\n",
        "print(f\" the resized array is \\n{resized_random_3d_array}\")\n",
        "print(f\"\\n the shape od the array is {resized_random_3d_array.shape}\")"
      ],
      "metadata": {
        "colab": {
          "base_uri": "https://localhost:8080/"
        },
        "id": "kjp6F3HMDF5O",
        "outputId": "0df53dc3-5794-4c1c-93e6-00a2067a879e"
      },
      "execution_count": 99,
      "outputs": [
        {
          "output_type": "stream",
          "name": "stdout",
          "text": [
            " the resized array is \n",
            "[[[1 5 3]\n",
            "  [5 9 4]]\n",
            "\n",
            " [[4 6 3]\n",
            "  [8 6 4]]]\n",
            "\n",
            " the shape od the array is (2, 2, 3)\n"
          ]
        }
      ]
    },
    {
      "cell_type": "code",
      "source": [
        "random_3d_array = np.array(np.random.randint(1,10,(3,4,3)))\n",
        "random_3d_array.resize(new_shape)\n",
        "random_3d_array"
      ],
      "metadata": {
        "colab": {
          "base_uri": "https://localhost:8080/"
        },
        "id": "daK5VRrdD1AO",
        "outputId": "94bea07b-358b-4cc2-f29e-385296b60398"
      },
      "execution_count": 104,
      "outputs": [
        {
          "output_type": "execute_result",
          "data": {
            "text/plain": [
              "array([[[9, 5, 1],\n",
              "        [6, 6, 9]],\n",
              "\n",
              "       [[9, 4, 9],\n",
              "        [8, 7, 3]]])"
            ]
          },
          "metadata": {},
          "execution_count": 104
        }
      ]
    },
    {
      "cell_type": "code",
      "source": [
        "#np.flatten()\n",
        "#Initialize a 3d array\n",
        "random_3d_array = np.array(np.random.randint(1,100,(2,3,3)))\n",
        "print(f\" the defined array is \\n{random_3d_array}\")\n",
        "print(f'\\n the shape of the array is{random_3d_array.shape}')"
      ],
      "metadata": {
        "colab": {
          "base_uri": "https://localhost:8080/"
        },
        "id": "EBNd6GNSJKNb",
        "outputId": "55db6291-507c-4687-d7fb-23eaf1051075"
      },
      "execution_count": 105,
      "outputs": [
        {
          "output_type": "stream",
          "name": "stdout",
          "text": [
            " the defined array is \n",
            "[[[31 86 27]\n",
            "  [76 20 53]\n",
            "  [50  4 25]]\n",
            "\n",
            " [[33 74 49]\n",
            "  [40 45 34]\n",
            "  [33 38  3]]]\n",
            "\n",
            " the shape of the array is(2, 3, 3)\n"
          ]
        }
      ]
    },
    {
      "cell_type": "code",
      "source": [
        "#Flatten the 3d array\n",
        "random_3d_array.flatten()"
      ],
      "metadata": {
        "colab": {
          "base_uri": "https://localhost:8080/"
        },
        "id": "OEoz6m-mJzan",
        "outputId": "e589d6d5-e08d-4209-a8c5-7322b986c25c"
      },
      "execution_count": 106,
      "outputs": [
        {
          "output_type": "execute_result",
          "data": {
            "text/plain": [
              "array([31, 86, 27, 76, 20, 53, 50,  4, 25, 33, 74, 49, 40, 45, 34, 33, 38,\n",
              "        3])"
            ]
          },
          "metadata": {},
          "execution_count": 106
        }
      ]
    },
    {
      "cell_type": "code",
      "source": [
        "random_3d_array"
      ],
      "metadata": {
        "colab": {
          "base_uri": "https://localhost:8080/"
        },
        "id": "TfN3JQYBKB5P",
        "outputId": "c561e8de-002d-455c-d482-29ae2129f453"
      },
      "execution_count": 108,
      "outputs": [
        {
          "output_type": "execute_result",
          "data": {
            "text/plain": [
              "array([[[31, 86, 27],\n",
              "        [76, 20, 53],\n",
              "        [50,  4, 25]],\n",
              "\n",
              "       [[33, 74, 49],\n",
              "        [40, 45, 34],\n",
              "        [33, 38,  3]]])"
            ]
          },
          "metadata": {},
          "execution_count": 108
        }
      ]
    },
    {
      "cell_type": "code",
      "source": [
        "#Flattens the array in row-major order with 'C'\n",
        "random_3d_array.flatten(order='F')"
      ],
      "metadata": {
        "colab": {
          "base_uri": "https://localhost:8080/"
        },
        "id": "gG6OR4T5KIUO",
        "outputId": "6a3351eb-a3ca-45cd-dff6-49cd10786bad"
      },
      "execution_count": 110,
      "outputs": [
        {
          "output_type": "execute_result",
          "data": {
            "text/plain": [
              "array([31, 33, 76, 40, 50, 33, 86, 74, 20, 45,  4, 38, 27, 49, 53, 34, 25,\n",
              "        3])"
            ]
          },
          "metadata": {},
          "execution_count": 110
        }
      ]
    },
    {
      "cell_type": "code",
      "source": [
        "random_3d_array.flatten(order='C')"
      ],
      "metadata": {
        "colab": {
          "base_uri": "https://localhost:8080/"
        },
        "id": "TBJhFjIrKRra",
        "outputId": "fe122a68-218b-42f5-9587-17eaeddcfb0e"
      },
      "execution_count": 111,
      "outputs": [
        {
          "output_type": "execute_result",
          "data": {
            "text/plain": [
              "array([31, 86, 27, 76, 20, 53, 50,  4, 25, 33, 74, 49, 40, 45, 34, 33, 38,\n",
              "        3])"
            ]
          },
          "metadata": {},
          "execution_count": 111
        }
      ]
    }
  ]
}