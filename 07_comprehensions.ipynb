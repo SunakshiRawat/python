{
  "nbformat": 4,
  "nbformat_minor": 0,
  "metadata": {
    "colab": {
      "provenance": [],
      "authorship_tag": "ABX9TyPgk14VcbcL1EX3mFlumPeU",
      "include_colab_link": true
    },
    "kernelspec": {
      "name": "python3",
      "display_name": "Python 3"
    },
    "language_info": {
      "name": "python"
    }
  },
  "cells": [
    {
      "cell_type": "markdown",
      "metadata": {
        "id": "view-in-github",
        "colab_type": "text"
      },
      "source": [
        "<a href=\"https://colab.research.google.com/github/SunakshiRawat/python/blob/main/07_comprehensions.ipynb\" target=\"_parent\"><img src=\"https://colab.research.google.com/assets/colab-badge.svg\" alt=\"Open In Colab\"/></a>"
      ]
    },
    {
      "cell_type": "code",
      "execution_count": 2,
      "metadata": {
        "id": "xY3ZhUXUzVMW"
      },
      "outputs": [],
      "source": [
        "#The list of numbers\n",
        "list_of_numbers=[1,2,4,6,11,14,17,20]"
      ]
    },
    {
      "cell_type": "code",
      "source": [
        "#Let us first initialize a list where we will be appending the squares in each iteration\n",
        "squared_numbers=[1,2,4,6,11,14,17,20]\n",
        "print(squared_numbers)"
      ],
      "metadata": {
        "colab": {
          "base_uri": "https://localhost:8080/"
        },
        "id": "IfuUxT2s242r",
        "outputId": "f0b2cf01-3bf3-4f9b-f6ca-4418d2d88ed2"
      },
      "execution_count": 4,
      "outputs": [
        {
          "output_type": "stream",
          "name": "stdout",
          "text": [
            "[1, 2, 4, 6, 11, 14, 17, 20]\n"
          ]
        }
      ]
    },
    {
      "cell_type": "code",
      "source": [
        "print(f\"The list of squared numbers is {squared_numbers}\")"
      ],
      "metadata": {
        "colab": {
          "base_uri": "https://localhost:8080/"
        },
        "id": "p1XwIP9W4nmu",
        "outputId": "feb45777-518c-4998-f453-9eb4f6bad26b"
      },
      "execution_count": null,
      "outputs": [
        {
          "output_type": "stream",
          "name": "stdout",
          "text": [
            "The list of squared numbers is [1, 2, 4, 6, 11, 14, 17, 20]\n"
          ]
        }
      ]
    },
    {
      "cell_type": "code",
      "source": [
        "#Getting the list of squares using list comprehension\n",
        "list_of_numbers=[1,2,4,6,11,14,17,20]\n",
        "squared_numbers=[number**2 for number in list_of_numbers]\n",
        "print(squared_numbers)"
      ],
      "metadata": {
        "colab": {
          "base_uri": "https://localhost:8080/"
        },
        "id": "4WDdmueo4x1E",
        "outputId": "234c570f-b2e1-49c8-e68a-72749bd46e1c"
      },
      "execution_count": null,
      "outputs": [
        {
          "output_type": "stream",
          "name": "stdout",
          "text": [
            "[1, 4, 16, 36, 121, 196, 289, 400]\n"
          ]
        }
      ]
    },
    {
      "cell_type": "code",
      "source": [
        "print(list_of_numbers)"
      ],
      "metadata": {
        "colab": {
          "base_uri": "https://localhost:8080/"
        },
        "id": "NF0_PAL65RR4",
        "outputId": "80390eca-0fbd-4f61-edcb-ff5d0f2a7731"
      },
      "execution_count": null,
      "outputs": [
        {
          "output_type": "stream",
          "name": "stdout",
          "text": [
            "[1, 2, 4, 6, 11, 14, 17, 20]\n"
          ]
        }
      ]
    },
    {
      "cell_type": "code",
      "source": [
        "#Writing list comprehension using conditionals\n",
        "even_squared_numbers=[number**2 for number in list_of_numbers if number%2==0]\n",
        "print(even_squared_numbers)"
      ],
      "metadata": {
        "colab": {
          "base_uri": "https://localhost:8080/"
        },
        "id": "AXefEH4I5Y-m",
        "outputId": "4c45dcdd-d4a7-42fd-aad5-a7941eb3c6fe"
      },
      "execution_count": null,
      "outputs": [
        {
          "output_type": "stream",
          "name": "stdout",
          "text": [
            "[4, 16, 36, 196, 400]\n"
          ]
        }
      ]
    },
    {
      "cell_type": "code",
      "source": [
        "#Writing list comprehension using conditionals\n",
        "odd_squared_numbers=[number**2 for number in list_of_numbers if number%2!=0]\n",
        "print(odd_squared_numbers)"
      ],
      "metadata": {
        "colab": {
          "base_uri": "https://localhost:8080/"
        },
        "id": "2wy2lWNK5wZH",
        "outputId": "25d203e2-caeb-44dc-dc74-5bef46bdf680"
      },
      "execution_count": null,
      "outputs": [
        {
          "output_type": "stream",
          "name": "stdout",
          "text": [
            "[1, 121, 289]\n"
          ]
        }
      ]
    },
    {
      "cell_type": "code",
      "source": [
        "#Writing list comprehension using conditionals\n",
        "odd_squared_numbers = [number**2 if number%2!=0 else number**3 for number in list_of_numbers]\n",
        "print(odd_squared_numbers)"
      ],
      "metadata": {
        "id": "ku4WTV1Z6myX",
        "colab": {
          "base_uri": "https://localhost:8080/"
        },
        "outputId": "542cb01e-ec20-45ee-969c-5292f5e983a6"
      },
      "execution_count": 5,
      "outputs": [
        {
          "output_type": "stream",
          "name": "stdout",
          "text": [
            "[1, 8, 64, 216, 121, 2744, 289, 8000]\n"
          ]
        }
      ]
    },
    {
      "cell_type": "code",
      "source": [
        "even_squared_numbers=[number**2 for number in list_of_numbers if number%2==0]"
      ],
      "metadata": {
        "id": "taTkrkRK_QjX"
      },
      "execution_count": 7,
      "outputs": []
    },
    {
      "cell_type": "code",
      "source": [
        "list(range(4))"
      ],
      "metadata": {
        "colab": {
          "base_uri": "https://localhost:8080/"
        },
        "id": "xNp02URW_pSk",
        "outputId": "092414e1-f4d4-4a02-94e0-75f6a974ef65"
      },
      "execution_count": 8,
      "outputs": [
        {
          "output_type": "execute_result",
          "data": {
            "text/plain": [
              "[0, 1, 2, 3]"
            ]
          },
          "metadata": {},
          "execution_count": 8
        }
      ]
    },
    {
      "cell_type": "code",
      "source": [
        "list_of_numbers=[]\n",
        "for num1 in range(4):\n",
        "  for num2 in range(3):\n",
        "    print(num1,num2)\n",
        "    list_of_numbers.append(num2)\n",
        "    print(list_of_numbers)"
      ],
      "metadata": {
        "colab": {
          "base_uri": "https://localhost:8080/"
        },
        "id": "bKUoV_HDConF",
        "outputId": "cf4473de-b68a-440c-c882-258582e91c5c"
      },
      "execution_count": 9,
      "outputs": [
        {
          "output_type": "stream",
          "name": "stdout",
          "text": [
            "0 0\n",
            "[0]\n",
            "0 1\n",
            "[0, 1]\n",
            "0 2\n",
            "[0, 1, 2]\n",
            "1 0\n",
            "[0, 1, 2, 0]\n",
            "1 1\n",
            "[0, 1, 2, 0, 1]\n",
            "1 2\n",
            "[0, 1, 2, 0, 1, 2]\n",
            "2 0\n",
            "[0, 1, 2, 0, 1, 2, 0]\n",
            "2 1\n",
            "[0, 1, 2, 0, 1, 2, 0, 1]\n",
            "2 2\n",
            "[0, 1, 2, 0, 1, 2, 0, 1, 2]\n",
            "3 0\n",
            "[0, 1, 2, 0, 1, 2, 0, 1, 2, 0]\n",
            "3 1\n",
            "[0, 1, 2, 0, 1, 2, 0, 1, 2, 0, 1]\n",
            "3 2\n",
            "[0, 1, 2, 0, 1, 2, 0, 1, 2, 0, 1, 2]\n"
          ]
        }
      ]
    },
    {
      "cell_type": "code",
      "source": [
        "#We can write it in a slightly different way\n",
        "list_of_numbers= [num2 for num1 in range(4) for num2 in range(3)]\n",
        "print(list_of_numbers)"
      ],
      "metadata": {
        "colab": {
          "base_uri": "https://localhost:8080/"
        },
        "id": "Mrhc1f-UDI7w",
        "outputId": "b69a8ef5-c8db-455b-db53-5a4df0b6a5e0"
      },
      "execution_count": 10,
      "outputs": [
        {
          "output_type": "stream",
          "name": "stdout",
          "text": [
            "[0, 1, 2, 0, 1, 2, 0, 1, 2, 0, 1, 2]\n"
          ]
        }
      ]
    },
    {
      "cell_type": "code",
      "source": [
        "list_of_numbers=[num2**2 for num2 in range(3) for num1 in range(4)]\n",
        "print(list_of_numbers)"
      ],
      "metadata": {
        "colab": {
          "base_uri": "https://localhost:8080/"
        },
        "id": "H2RJ4mrKDpvy",
        "outputId": "f2a5747d-251f-439d-c084-f83bf39cb95e"
      },
      "execution_count": 11,
      "outputs": [
        {
          "output_type": "stream",
          "name": "stdout",
          "text": [
            "[0, 0, 0, 0, 1, 1, 1, 1, 4, 4, 4, 4]\n"
          ]
        }
      ]
    },
    {
      "cell_type": "code",
      "source": [
        "sample=[[]]\n",
        "len(sample)\n",
        "sample[0]"
      ],
      "metadata": {
        "colab": {
          "base_uri": "https://localhost:8080/"
        },
        "id": "b3RqmDALEOvu",
        "outputId": "32a2080f-f664-49a8-e80d-26618a7e2998"
      },
      "execution_count": 12,
      "outputs": [
        {
          "output_type": "execute_result",
          "data": {
            "text/plain": [
              "[]"
            ]
          },
          "metadata": {},
          "execution_count": 12
        }
      ]
    },
    {
      "cell_type": "code",
      "source": [
        "list_of_lists=[1]\n",
        "#for num1 in range(4):\n",
        "#Append an empty sublist inside the list\n",
        "list_of_lists.append([]) #[[0]] , list_of_lists[1]\n",
        "#print(list_of_lists"
      ],
      "metadata": {
        "id": "H29tZT8AGxVs"
      },
      "execution_count": 25,
      "outputs": []
    },
    {
      "cell_type": "code",
      "source": [
        "#for num2 in range(3):\n",
        "#Append the elements within the sublist\n",
        "list_of_lists[num1].append(num2) #list_of_lists[0]\n",
        "print(list_of_lists)"
      ],
      "metadata": {
        "colab": {
          "base_uri": "https://localhost:8080/"
        },
        "id": "nZMGiHmHGrIM",
        "outputId": "265b165b-7db6-43db-b82a-a6c088fea47c"
      },
      "execution_count": 23,
      "outputs": [
        {
          "output_type": "stream",
          "name": "stdout",
          "text": [
            "[[0, 0, 0], [1, 1, 1], [2, 2, 2], [3, 3, 3, 2]]\n"
          ]
        }
      ]
    },
    {
      "cell_type": "code",
      "source": [
        "#Using list comprehension we can write the same thing\n",
        "list_of_lists=[[num1 for num2 in range(3)] for num1 in range(4)]\n",
        "print(list_of_lists)"
      ],
      "metadata": {
        "colab": {
          "base_uri": "https://localhost:8080/"
        },
        "id": "fbmORMsFHFjg",
        "outputId": "48b1b4e9-c9c7-4d10-bf47-9cce0e679487"
      },
      "execution_count": 20,
      "outputs": [
        {
          "output_type": "stream",
          "name": "stdout",
          "text": [
            "[[0, 0, 0], [1, 1, 1], [2, 2, 2], [3, 3, 3]]\n"
          ]
        }
      ]
    },
    {
      "cell_type": "code",
      "source": [
        "heisenberg_quote= \"It ceases to exist without me. No,you clearly don't know who you're talkingto, so let me clue you in. I am not in danger,Skyler. I am the danger\"\n",
        "words_by_walter = heisenberg_quote.split(' ')\n",
        "print(words_by_walter)"
      ],
      "metadata": {
        "colab": {
          "base_uri": "https://localhost:8080/"
        },
        "id": "lxxRJylFIBVJ",
        "outputId": "bf0fdb61-ad06-4641-ae42-79a1737db83f"
      },
      "execution_count": 28,
      "outputs": [
        {
          "output_type": "stream",
          "name": "stdout",
          "text": [
            "['It', 'ceases', 'to', 'exist', 'without', 'me.', 'No,you', 'clearly', \"don't\", 'know', 'who', \"you're\", 'talkingto,', 'so', 'let', 'me', 'clue', 'you', 'in.', 'I', 'am', 'not', 'in', 'danger,Skyler.', 'I', 'am', 'the', 'danger']\n"
          ]
        }
      ]
    },
    {
      "cell_type": "code",
      "source": [
        "heisenberg_quote.split('t')"
      ],
      "metadata": {
        "colab": {
          "base_uri": "https://localhost:8080/"
        },
        "id": "3igM3GxuJdo2",
        "outputId": "1a875a52-ad7b-49b9-855d-5491f8f6471d"
      },
      "execution_count": 26,
      "outputs": [
        {
          "output_type": "execute_result",
          "data": {
            "text/plain": [
              "['I',\n",
              " ' ceases ',\n",
              " 'o exis',\n",
              " ' wi',\n",
              " 'hou',\n",
              " \" me. No,you clearly don'\",\n",
              " \" know who you're \",\n",
              " 'alking',\n",
              " 'o, so le',\n",
              " ' me clue you in. I am no',\n",
              " ' in danger,Skyler. I am ',\n",
              " 'he danger']"
            ]
          },
          "metadata": {},
          "execution_count": 26
        }
      ]
    },
    {
      "cell_type": "code",
      "source": [
        "#Let's you store the first time of each word in another list\n",
        "first_letters = []\n",
        "for word in words_by_walter:\n",
        "  first_letters.append(word[0])"
      ],
      "metadata": {
        "id": "D1EdLxnoJqwx"
      },
      "execution_count": 30,
      "outputs": []
    },
    {
      "cell_type": "code",
      "source": [
        "#Print the first_letters list\n",
        "print(first_letters)"
      ],
      "metadata": {
        "colab": {
          "base_uri": "https://localhost:8080/"
        },
        "id": "Qd_R_0WcKFvJ",
        "outputId": "84320afe-7904-4fd7-e4e2-be2a6bef731c"
      },
      "execution_count": 32,
      "outputs": [
        {
          "output_type": "stream",
          "name": "stdout",
          "text": [
            "['I', 'c', 't', 'e', 'w', 'm', 'N', 'c', 'd', 'k', 'w', 'y', 't', 's', 'l', 'm', 'c', 'y', 'i', 'I', 'a', 'n', 'i', 'd', 'I', 'a', 't', 'd']\n"
          ]
        }
      ]
    },
    {
      "cell_type": "code",
      "source": [
        "#The same task but now with list comprehension\n",
        "first_letters=[word[0] for word in words_by_walter]\n",
        "print(first_letters)"
      ],
      "metadata": {
        "colab": {
          "base_uri": "https://localhost:8080/"
        },
        "id": "bBO0CR7-KeA0",
        "outputId": "8530a1ab-cbb4-4315-a99a-f3e8852e30f1"
      },
      "execution_count": 31,
      "outputs": [
        {
          "output_type": "stream",
          "name": "stdout",
          "text": [
            "['I', 'c', 't', 'e', 'w', 'm', 'N', 'c', 'd', 'k', 'w', 'y', 't', 's', 'l', 'm', 'c', 'y', 'i', 'I', 'a', 'n', 'i', 'd', 'I', 'a', 't', 'd']\n"
          ]
        }
      ]
    },
    {
      "cell_type": "code",
      "source": [
        "heisenberg_quote.split(',')"
      ],
      "metadata": {
        "colab": {
          "base_uri": "https://localhost:8080/"
        },
        "id": "HPbvXyLAK3hS",
        "outputId": "e64f2c9c-bc75-47af-e784-8054f35c26c8"
      },
      "execution_count": 33,
      "outputs": [
        {
          "output_type": "execute_result",
          "data": {
            "text/plain": [
              "['It ceases to exist without me. No',\n",
              " \"you clearly don't know who you're talkingto\",\n",
              " ' so let me clue you in. I am not in danger',\n",
              " 'Skyler. I am the danger']"
            ]
          },
          "metadata": {},
          "execution_count": 33
        }
      ]
    },
    {
      "cell_type": "code",
      "source": [
        "my_string='Alphsbet Inc.'\n",
        "list_of_characters= [char for char in my_string]\n",
        "print(list_of_characters)"
      ],
      "metadata": {
        "colab": {
          "base_uri": "https://localhost:8080/"
        },
        "id": "0N2i5gG9MX7V",
        "outputId": "bf6d8fc3-ccbc-47b3-f08f-a71fd18cfd71"
      },
      "execution_count": 34,
      "outputs": [
        {
          "output_type": "stream",
          "name": "stdout",
          "text": [
            "['A', 'l', 'p', 'h', 's', 'b', 'e', 't', ' ', 'I', 'n', 'c', '.']\n"
          ]
        }
      ]
    },
    {
      "cell_type": "code",
      "source": [
        "#Suppose we have a tuple of days\n",
        "days = ('Monday','Tuesday','Wednesday','Thursday','Friday','Saturday','Sunday')\n",
        "tuple(day for day in days)"
      ],
      "metadata": {
        "colab": {
          "base_uri": "https://localhost:8080/"
        },
        "id": "uyVl0lv0Mz10",
        "outputId": "93559cc7-481d-4bda-c93c-ccfce176a3d8"
      },
      "execution_count": 36,
      "outputs": [
        {
          "output_type": "execute_result",
          "data": {
            "text/plain": [
              "('Monday', 'Tuesday', 'Wednesday', 'Thursday', 'Friday', 'Saturday', 'Sunday')"
            ]
          },
          "metadata": {},
          "execution_count": 36
        }
      ]
    },
    {
      "cell_type": "code",
      "source": [
        "#Let us create a tuple where we want to remove the word 'day' from each tuple element\n",
        "days_without_day = tuple([day[:-3] for day in days])\n",
        "print(days_without_day)"
      ],
      "metadata": {
        "colab": {
          "base_uri": "https://localhost:8080/"
        },
        "id": "xCQDcf7fN2ur",
        "outputId": "deafbfb4-bf41-4c4d-db8d-62c0fdd59868"
      },
      "execution_count": 37,
      "outputs": [
        {
          "output_type": "stream",
          "name": "stdout",
          "text": [
            "('Mon', 'Tues', 'Wednes', 'Thurs', 'Fri', 'Satur', 'Sun')\n"
          ]
        }
      ]
    },
    {
      "cell_type": "code",
      "source": [
        "#Using a 'for loop'\n",
        "first_letters = set()\n",
        "for word in words_by_walter:\n",
        "  first_letters.add(word[0])\n",
        "  print(first_letters)"
      ],
      "metadata": {
        "colab": {
          "base_uri": "https://localhost:8080/"
        },
        "id": "uLYOqOGOO8xc",
        "outputId": "0cbf251b-f5bd-427c-e089-42d3a7d38c07"
      },
      "execution_count": 38,
      "outputs": [
        {
          "output_type": "stream",
          "name": "stdout",
          "text": [
            "{'I'}\n",
            "{'c', 'I'}\n",
            "{'c', 't', 'I'}\n",
            "{'c', 'e', 't', 'I'}\n",
            "{'w', 't', 'c', 'e', 'I'}\n",
            "{'w', 'm', 't', 'c', 'e', 'I'}\n",
            "{'w', 'm', 't', 'c', 'e', 'I', 'N'}\n",
            "{'w', 'm', 't', 'c', 'e', 'I', 'N'}\n",
            "{'w', 'm', 't', 'd', 'c', 'e', 'I', 'N'}\n",
            "{'w', 'm', 't', 'd', 'c', 'e', 'I', 'N', 'k'}\n",
            "{'w', 'm', 't', 'd', 'c', 'e', 'I', 'N', 'k'}\n",
            "{'w', 'y', 'm', 't', 'd', 'c', 'e', 'I', 'N', 'k'}\n",
            "{'w', 'y', 'm', 't', 'd', 'c', 'e', 'I', 'N', 'k'}\n",
            "{'s', 'w', 'y', 'm', 't', 'd', 'c', 'e', 'I', 'N', 'k'}\n",
            "{'s', 'w', 'y', 'm', 't', 'd', 'c', 'e', 'I', 'N', 'l', 'k'}\n",
            "{'s', 'w', 'y', 'm', 't', 'd', 'c', 'e', 'I', 'N', 'l', 'k'}\n",
            "{'s', 'w', 'y', 'm', 't', 'd', 'c', 'e', 'I', 'N', 'l', 'k'}\n",
            "{'s', 'w', 'y', 'm', 't', 'd', 'c', 'e', 'I', 'N', 'l', 'k'}\n",
            "{'s', 'w', 'y', 'm', 't', 'd', 'i', 'c', 'e', 'I', 'N', 'l', 'k'}\n",
            "{'s', 'w', 'y', 'm', 't', 'd', 'i', 'c', 'e', 'I', 'N', 'l', 'k'}\n",
            "{'s', 'w', 'y', 'm', 't', 'd', 'i', 'c', 'e', 'I', 'N', 'l', 'a', 'k'}\n",
            "{'s', 'w', 'y', 'm', 't', 'd', 'i', 'c', 'e', 'I', 'N', 'l', 'a', 'n', 'k'}\n",
            "{'s', 'w', 'y', 'm', 't', 'd', 'i', 'c', 'e', 'I', 'N', 'l', 'a', 'n', 'k'}\n",
            "{'s', 'w', 'y', 'm', 't', 'd', 'i', 'c', 'e', 'I', 'N', 'l', 'a', 'n', 'k'}\n",
            "{'s', 'w', 'y', 'm', 't', 'd', 'i', 'c', 'e', 'I', 'N', 'l', 'a', 'n', 'k'}\n",
            "{'s', 'w', 'y', 'm', 't', 'd', 'i', 'c', 'e', 'I', 'N', 'l', 'a', 'n', 'k'}\n",
            "{'s', 'w', 'y', 'm', 't', 'd', 'i', 'c', 'e', 'I', 'N', 'l', 'a', 'n', 'k'}\n",
            "{'s', 'w', 'y', 'm', 't', 'd', 'i', 'c', 'e', 'I', 'N', 'l', 'a', 'n', 'k'}\n"
          ]
        }
      ]
    },
    {
      "cell_type": "code",
      "source": [
        "#Using set comprehension\n",
        "first_letters = {word[0] for word in words_by_walter}\n",
        "print(first_letters)"
      ],
      "metadata": {
        "colab": {
          "base_uri": "https://localhost:8080/"
        },
        "id": "u_oh66xePZHu",
        "outputId": "c4e85ab4-8821-4cd1-db93-47bd78fa8b81"
      },
      "execution_count": 39,
      "outputs": [
        {
          "output_type": "stream",
          "name": "stdout",
          "text": [
            "{'s', 'w', 'y', 'm', 't', 'd', 'i', 'c', 'e', 'I', 'N', 'l', 'a', 'n', 'k'}\n"
          ]
        }
      ]
    },
    {
      "cell_type": "code",
      "source": [
        "#Dictionary comprehensions\n",
        "country_city_list = [('India','New Delhi'), ('Australia','Canberra'), ('United States' ,'Washington DC'),('England','London')]"
      ],
      "metadata": {
        "id": "Wihyy41kPvr2"
      },
      "execution_count": 57,
      "outputs": []
    },
    {
      "cell_type": "code",
      "source": [
        "#Lets convert the list of tuples to a dictionary\n",
        "country_city_dict = dict(country_city_list)\n",
        "print(country_city_dict)"
      ],
      "metadata": {
        "colab": {
          "base_uri": "https://localhost:8080/"
        },
        "id": "DxIg5lErQxSG",
        "outputId": "8cdc58c0-ea26-4a3a-ec58-278dbc9a6758"
      },
      "execution_count": 58,
      "outputs": [
        {
          "output_type": "stream",
          "name": "stdout",
          "text": [
            "{'India': 'New Delhi', 'Australia': 'Canberra', 'United States': 'Washington DC', 'England': 'London'}\n"
          ]
        }
      ]
    },
    {
      "cell_type": "code",
      "source": [
        "#The conventional for loop approach\n",
        "flipped = {}\n",
        "for country, city in country_city_dict.items():\n",
        "  flipped[city] = country\n",
        "\n",
        "print(flipped)"
      ],
      "metadata": {
        "colab": {
          "base_uri": "https://localhost:8080/"
        },
        "id": "8-AdHqiaRH7P",
        "outputId": "85137bad-c115-40a4-dcf6-6c95b77afada"
      },
      "execution_count": 67,
      "outputs": [
        {
          "output_type": "stream",
          "name": "stdout",
          "text": [
            "{'New Delhi': 'India', 'Canberra': 'Australia', 'Washington DC': 'United States', 'London': 'England'}\n",
            "{'New Delhi': 'India', 'Canberra': 'Australia', 'Washington DC': 'United States', 'London': 'England'}\n"
          ]
        }
      ]
    },
    {
      "cell_type": "code",
      "source": [
        "#The new dictionary comprehension\n",
        "flipped={city:country for country, city in country_city_dict.items()}\n",
        "print(flipped)"
      ],
      "metadata": {
        "colab": {
          "base_uri": "https://localhost:8080/"
        },
        "id": "exytysGNRsY2",
        "outputId": "11a5932d-093b-4d6e-af99-aac0403418fb"
      },
      "execution_count": 60,
      "outputs": [
        {
          "output_type": "stream",
          "name": "stdout",
          "text": [
            "{'New Delhi': 'India', 'Canberra': 'Australia', 'Washington DC': 'United States', 'London': 'England'}\n"
          ]
        }
      ]
    },
    {
      "cell_type": "code",
      "source": [
        "#We can further add conditionals\n",
        "flipped={city:country for country, city in country_city_dict.items() if country[0] in ['E','A']}\n",
        "print(flipped)"
      ],
      "metadata": {
        "colab": {
          "base_uri": "https://localhost:8080/"
        },
        "id": "2nmj0n_1SMgS",
        "outputId": "0968f64e-18f6-4c16-ade6-df3e36737288"
      },
      "execution_count": 61,
      "outputs": [
        {
          "output_type": "stream",
          "name": "stdout",
          "text": [
            "{'Canberra': 'Australia', 'London': 'England'}\n"
          ]
        }
      ]
    },
    {
      "cell_type": "code",
      "source": [
        "#The new dictionary comprehension\n",
        "flipped={country[:2] : city[-2:] for country, city in country_city_dict.items()}\n",
        "print(flipped)"
      ],
      "metadata": {
        "colab": {
          "base_uri": "https://localhost:8080/"
        },
        "id": "wvheUu6dS061",
        "outputId": "45ed3217-4cf1-498f-a598-a911e400bbbb"
      },
      "execution_count": 62,
      "outputs": [
        {
          "output_type": "stream",
          "name": "stdout",
          "text": [
            "{'In': 'hi', 'Au': 'ra', 'Un': 'DC', 'En': 'on'}\n"
          ]
        }
      ]
    },
    {
      "cell_type": "code",
      "source": [
        "print(country_city_dict)"
      ],
      "metadata": {
        "colab": {
          "base_uri": "https://localhost:8080/"
        },
        "id": "03BbJ2QdTN82",
        "outputId": "995a51cb-9c2e-4a48-bcd9-3d89caad2708"
      },
      "execution_count": 63,
      "outputs": [
        {
          "output_type": "stream",
          "name": "stdout",
          "text": [
            "{'India': 'New Delhi', 'Australia': 'Canberra', 'United States': 'Washington DC', 'England': 'London'}\n"
          ]
        }
      ]
    }
  ]
}