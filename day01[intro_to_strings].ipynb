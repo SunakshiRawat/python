{
  "nbformat": 4,
  "nbformat_minor": 0,
  "metadata": {
    "colab": {
      "provenance": [],
      "toc_visible": true,
      "authorship_tag": "ABX9TyP7iu2rEcJi7Ju39z00mLeX",
      "include_colab_link": true
    },
    "kernelspec": {
      "name": "python3",
      "display_name": "Python 3"
    },
    "language_info": {
      "name": "python"
    }
  },
  "cells": [
    {
      "cell_type": "markdown",
      "metadata": {
        "id": "view-in-github",
        "colab_type": "text"
      },
      "source": [
        "<a href=\"https://colab.research.google.com/github/SunakshiRawat/python/blob/main/day01%5Bintro_to_strings%5D.ipynb\" target=\"_parent\"><img src=\"https://colab.research.google.com/assets/colab-badge.svg\" alt=\"Open In Colab\"/></a>"
      ]
    },
    {
      "cell_type": "code",
      "source": [
        "#Single word\n",
        "my_first_string=\"python day 02\"\n",
        "print(my_first_string)"
      ],
      "metadata": {
        "colab": {
          "base_uri": "https://localhost:8080/"
        },
        "id": "HTyfLpq9oLJJ",
        "outputId": "9fbf63f2-4ee6-4d91-f55d-55ca27f2a936"
      },
      "execution_count": 5,
      "outputs": [
        {
          "output_type": "stream",
          "name": "stdout",
          "text": [
            "python day 02\n"
          ]
        }
      ]
    },
    {
      "cell_type": "code",
      "source": [
        "#entire phrase\n",
        "phrase=\"it's comparitively very easy\"\n",
        "print(phrase)"
      ],
      "metadata": {
        "colab": {
          "base_uri": "https://localhost:8080/"
        },
        "id": "18V6-NGQoQuC",
        "outputId": "a609c7bf-0771-4b5d-e4cd-b201021cb7c6"
      },
      "execution_count": 6,
      "outputs": [
        {
          "output_type": "stream",
          "name": "stdout",
          "text": [
            "it's comparitively very easy\n"
          ]
        }
      ]
    },
    {
      "cell_type": "code",
      "source": [
        "#statement to get the type of the variable\n",
        "hashtag=\"#dev #coder #hacker\"\n",
        "print(hashtag)\n",
        "type(hashtag)"
      ],
      "metadata": {
        "colab": {
          "base_uri": "https://localhost:8080/"
        },
        "id": "Gsa-elzcogWY",
        "outputId": "65e1de9b-8942-4040-8f87-9f5f62d46ddf"
      },
      "execution_count": 8,
      "outputs": [
        {
          "output_type": "stream",
          "name": "stdout",
          "text": [
            "#dev #coder #hacker\n"
          ]
        },
        {
          "output_type": "execute_result",
          "data": {
            "text/plain": [
              "str"
            ]
          },
          "metadata": {},
          "execution_count": 8
        }
      ]
    },
    {
      "cell_type": "code",
      "source": [
        "#we can simply declare a string\n",
        "'Deep Learning'"
      ],
      "metadata": {
        "colab": {
          "base_uri": "https://localhost:8080/",
          "height": 35
        },
        "id": "KOUaviS1omro",
        "outputId": "bde0cb99-db8f-404a-889a-39ebfbb37ec3"
      },
      "execution_count": 9,
      "outputs": [
        {
          "output_type": "execute_result",
          "data": {
            "text/plain": [
              "'Deep Learning'"
            ],
            "application/vnd.google.colaboratory.intrinsic+json": {
              "type": "string"
            }
          },
          "metadata": {},
          "execution_count": 9
        }
      ]
    },
    {
      "cell_type": "code",
      "source": [
        "print(\"just now i learned to print a new line\")\n",
        "print('\\nsee! and below is the quote of the day :)')"
      ],
      "metadata": {
        "colab": {
          "base_uri": "https://localhost:8080/"
        },
        "id": "49rCCmgsouy4",
        "outputId": "62c0478d-b0ce-49ae-c634-99bb2bbe1175"
      },
      "execution_count": 10,
      "outputs": [
        {
          "output_type": "stream",
          "name": "stdout",
          "text": [
            "just now i learned to print a new line\n",
            "\n",
            "see! and below is the quote of the day :)\n"
          ]
        }
      ]
    },
    {
      "cell_type": "code",
      "source": [
        "#using a function called len\n",
        "algo ='blue sky'\n",
        "len(algo)"
      ],
      "metadata": {
        "colab": {
          "base_uri": "https://localhost:8080/"
        },
        "id": "p_MsZ7yOo1Bf",
        "outputId": "59a8af2b-a38f-4043-b1e0-a518328123e1"
      },
      "execution_count": 12,
      "outputs": [
        {
          "output_type": "execute_result",
          "data": {
            "text/plain": [
              "8"
            ]
          },
          "metadata": {},
          "execution_count": 12
        }
      ]
    },
    {
      "cell_type": "code",
      "source": [
        "#assign string as a string\n",
        "string='Money Power Glory!'\n",
        "print(string)"
      ],
      "metadata": {
        "colab": {
          "base_uri": "https://localhost:8080/"
        },
        "id": "8RTm2LzfpCo2",
        "outputId": "68567bb2-37e7-42d5-fe15-94395bc07982"
      },
      "execution_count": 15,
      "outputs": [
        {
          "output_type": "stream",
          "name": "stdout",
          "text": [
            "Money Power Glory!\n"
          ]
        }
      ]
    },
    {
      "cell_type": "code",
      "source": [
        "#hsow first element (in this case a letter)\n",
        "print(string[-6])\n",
        "print(string[-16])\n",
        "print(string[-6])\n",
        "print(string[-18])\n",
        "\n",
        "len(string)"
      ],
      "metadata": {
        "colab": {
          "base_uri": "https://localhost:8080/"
        },
        "id": "4GW-SH4MpM1e",
        "outputId": "2d13c249-8acc-4c7b-c89a-2e36fd55c9e4"
      },
      "execution_count": 16,
      "outputs": [
        {
          "output_type": "stream",
          "name": "stdout",
          "text": [
            "G\n",
            "n\n",
            "G\n",
            "M\n"
          ]
        },
        {
          "output_type": "execute_result",
          "data": {
            "text/plain": [
              "18"
            ]
          },
          "metadata": {},
          "execution_count": 16
        }
      ]
    },
    {
      "cell_type": "code",
      "source": [
        "#grab the element at the index -1, which is the last element\n",
        "print(string[-2])\n"
      ],
      "metadata": {
        "colab": {
          "base_uri": "https://localhost:8080/"
        },
        "id": "gY2v0GgupP41",
        "outputId": "9b2ee334-27f5-4663-88fc-d791c3843f59"
      },
      "execution_count": 17,
      "outputs": [
        {
          "output_type": "stream",
          "name": "stdout",
          "text": [
            "y\n"
          ]
        }
      ]
    },
    {
      "cell_type": "code",
      "source": [
        "#grab everything past the first term all the way to the length of s which is len(s)\n",
        "print(string)\n",
        "print(string[1:])\n",
        "print(string[13:])"
      ],
      "metadata": {
        "colab": {
          "base_uri": "https://localhost:8080/"
        },
        "id": "ugOzSXmMpW3c",
        "outputId": "9b810d9b-d771-4cff-f3b6-0a8de82f77a1"
      },
      "execution_count": 18,
      "outputs": [
        {
          "output_type": "stream",
          "name": "stdout",
          "text": [
            "Money Power Glory!\n",
            "oney Power Glory!\n",
            "lory!\n"
          ]
        }
      ]
    },
    {
      "cell_type": "code",
      "source": [
        "#grab everything starting from index 10 till index -18\n",
        "print(string[10:])\n",
        "print(string[3:5])\n",
        "print(string[2:4])"
      ],
      "metadata": {
        "colab": {
          "base_uri": "https://localhost:8080/"
        },
        "id": "sozm_MuOpagE",
        "outputId": "be08336d-d3dc-4d49-f36c-12d5e8a672f8"
      },
      "execution_count": 19,
      "outputs": [
        {
          "output_type": "stream",
          "name": "stdout",
          "text": [
            "r Glory!\n",
            "ey\n",
            "ne\n"
          ]
        }
      ]
    },
    {
      "cell_type": "code",
      "source": [
        ""
      ],
      "metadata": {
        "id": "5h0rpXxypgqT"
      },
      "execution_count": null,
      "outputs": []
    }
  ]
}