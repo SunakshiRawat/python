{
  "nbformat": 4,
  "nbformat_minor": 0,
  "metadata": {
    "colab": {
      "provenance": [],
      "authorship_tag": "ABX9TyOv5aKKjUf3a0+O3b9vr+6v",
      "include_colab_link": true
    },
    "kernelspec": {
      "name": "python3",
      "display_name": "Python 3"
    },
    "language_info": {
      "name": "python"
    }
  },
  "cells": [
    {
      "cell_type": "markdown",
      "metadata": {
        "id": "view-in-github",
        "colab_type": "text"
      },
      "source": [
        "<a href=\"https://colab.research.google.com/github/SunakshiRawat/python/blob/main/5_Conditions.ipynb\" target=\"_parent\"><img src=\"https://colab.research.google.com/assets/colab-badge.svg\" alt=\"Open In Colab\"/></a>"
      ]
    },
    {
      "cell_type": "code",
      "execution_count": 1,
      "metadata": {
        "colab": {
          "base_uri": "https://localhost:8080/"
        },
        "id": "m_C1S3L-7MI_",
        "outputId": "abc408b0-7e95-45c1-b390-bce2267e0eec"
      },
      "outputs": [
        {
          "output_type": "stream",
          "name": "stdout",
          "text": [
            "11\n",
            "14\n"
          ]
        }
      ],
      "source": [
        "#Assignment statement\n",
        "x = 4\n",
        "print(8 + 3)\n",
        "print(len(\"Happy Birthday\"))"
      ]
    },
    {
      "cell_type": "code",
      "source": [
        "y = 30106\n",
        "y"
      ],
      "metadata": {
        "colab": {
          "base_uri": "https://localhost:8080/"
        },
        "id": "pCe3RY0P8VIW",
        "outputId": "53b11ec3-e4f7-4aa0-a5c0-ebbf088598ba"
      },
      "execution_count": 3,
      "outputs": [
        {
          "output_type": "execute_result",
          "data": {
            "text/plain": [
              "30106"
            ]
          },
          "metadata": {},
          "execution_count": 3
        }
      ]
    },
    {
      "cell_type": "code",
      "source": [
        "s = 'smart'\n",
        "v = s == True\n",
        "s == 'smart'"
      ],
      "metadata": {
        "colab": {
          "base_uri": "https://localhost:8080/"
        },
        "id": "ZTI0n_qr8ggy",
        "outputId": "89c7e03a-3253-4d5f-d66a-a67667ae7e1e"
      },
      "execution_count": 8,
      "outputs": [
        {
          "output_type": "execute_result",
          "data": {
            "text/plain": [
              "True"
            ]
          },
          "metadata": {},
          "execution_count": 8
        }
      ]
    },
    {
      "cell_type": "code",
      "source": [
        "#Import statement\n",
        "import pandas as pd\n",
        "print(s)"
      ],
      "metadata": {
        "colab": {
          "base_uri": "https://localhost:8080/"
        },
        "id": "0xojmQRM8y7L",
        "outputId": "446ec4bf-df73-4a8a-ace2-a5329164dc2f"
      },
      "execution_count": 9,
      "outputs": [
        {
          "output_type": "stream",
          "name": "stdout",
          "text": [
            "smart\n"
          ]
        }
      ]
    },
    {
      "cell_type": "code",
      "source": [
        "s = 3\n",
        "v = 8\n",
        "l = 4\n",
        "v = s + l\n",
        "v"
      ],
      "metadata": {
        "colab": {
          "base_uri": "https://localhost:8080/"
        },
        "id": "R40mQPPU9In6",
        "outputId": "04080223-d4d5-4859-95f6-e9eefc005782"
      },
      "execution_count": 13,
      "outputs": [
        {
          "output_type": "execute_result",
          "data": {
            "text/plain": [
              "7"
            ]
          },
          "metadata": {},
          "execution_count": 13
        }
      ]
    },
    {
      "cell_type": "code",
      "source": [
        "s = 1+2+3+4+5\n",
        "s"
      ],
      "metadata": {
        "colab": {
          "base_uri": "https://localhost:8080/"
        },
        "id": "4IpFgURR9WQr",
        "outputId": "27180afd-412b-4583-c5ab-e22c61a752d6"
      },
      "execution_count": 14,
      "outputs": [
        {
          "output_type": "execute_result",
          "data": {
            "text/plain": [
              "15"
            ]
          },
          "metadata": {},
          "execution_count": 14
        }
      ]
    },
    {
      "cell_type": "code",
      "source": [
        "from re import M\n",
        "my_list = [3]\n",
        "my_tuple = (1,)\n",
        "my_list, my_tuple"
      ],
      "metadata": {
        "colab": {
          "base_uri": "https://localhost:8080/"
        },
        "id": "ZLIbfSw59cA0",
        "outputId": "3e3d52a6-4b05-4e04-ba94-f194ce2d68a4"
      },
      "execution_count": 15,
      "outputs": [
        {
          "output_type": "execute_result",
          "data": {
            "text/plain": [
              "([3], (1,))"
            ]
          },
          "metadata": {},
          "execution_count": 15
        }
      ]
    },
    {
      "cell_type": "code",
      "source": [
        "type(s)"
      ],
      "metadata": {
        "colab": {
          "base_uri": "https://localhost:8080/"
        },
        "id": "rl3unvgo9pOU",
        "outputId": "7ef6204a-b6e2-4076-f3a8-5157b9479679"
      },
      "execution_count": 16,
      "outputs": [
        {
          "output_type": "execute_result",
          "data": {
            "text/plain": [
              "int"
            ]
          },
          "metadata": {},
          "execution_count": 16
        }
      ]
    },
    {
      "cell_type": "code",
      "source": [
        "colors = 'the visual perception of light that is reflected, emitted, or absorbed by objects'\n",
        "colors"
      ],
      "metadata": {
        "colab": {
          "base_uri": "https://localhost:8080/",
          "height": 53
        },
        "id": "mQwI7cYx9uo-",
        "outputId": "f54aeab9-e3a8-4421-f901-395bc9ea2191"
      },
      "execution_count": 20,
      "outputs": [
        {
          "output_type": "execute_result",
          "data": {
            "text/plain": [
              "'the visual perception of light that is reflected, emitted, or absorbed by objects'"
            ],
            "application/vnd.google.colaboratory.intrinsic+json": {
              "type": "string"
            }
          },
          "metadata": {},
          "execution_count": 20
        }
      ]
    },
    {
      "cell_type": "code",
      "source": [
        "a = 1\n",
        "b = 2\n",
        "c = 90\n",
        "b*c"
      ],
      "metadata": {
        "colab": {
          "base_uri": "https://localhost:8080/"
        },
        "id": "1--yDyQg-xdE",
        "outputId": "3f320996-89c4-4265-ee52-e5d778c9d0c3"
      },
      "execution_count": 22,
      "outputs": [
        {
          "output_type": "execute_result",
          "data": {
            "text/plain": [
              "180"
            ]
          },
          "metadata": {},
          "execution_count": 22
        }
      ]
    },
    {
      "cell_type": "code",
      "source": [
        "a,b,c = ['v', 8, 'mar'], ('hpy','bdy'), {'20'}\n",
        "b"
      ],
      "metadata": {
        "colab": {
          "base_uri": "https://localhost:8080/"
        },
        "id": "ekqlmmp2--b5",
        "outputId": "b6def9fb-0dd8-48cf-f973-29dd2f5f1a1b"
      },
      "execution_count": 28,
      "outputs": [
        {
          "output_type": "execute_result",
          "data": {
            "text/plain": [
              "('hpy', 'bdy')"
            ]
          },
          "metadata": {},
          "execution_count": 28
        }
      ]
    },
    {
      "cell_type": "code",
      "source": [
        "a,b = b,a\n",
        "a"
      ],
      "metadata": {
        "colab": {
          "base_uri": "https://localhost:8080/"
        },
        "id": "fRGGwfDY_gM1",
        "outputId": "fbe96c2d-390d-4ead-e091-8578f18d5653"
      },
      "execution_count": 32,
      "outputs": [
        {
          "output_type": "execute_result",
          "data": {
            "text/plain": [
              "['v', 8, 'mar']"
            ]
          },
          "metadata": {},
          "execution_count": 32
        }
      ]
    },
    {
      "cell_type": "code",
      "source": [
        "#This is a comment\n",
        "#we can do it!\n",
        "print('lesgo')"
      ],
      "metadata": {
        "colab": {
          "base_uri": "https://localhost:8080/"
        },
        "id": "SbEn7v-7_uZl",
        "outputId": "c3867e3c-f065-4e59-96cf-2cf75160ea39"
      },
      "execution_count": 33,
      "outputs": [
        {
          "output_type": "stream",
          "name": "stdout",
          "text": [
            "lesgo\n"
          ]
        }
      ]
    },
    {
      "cell_type": "code",
      "source": [
        "#This comment\n",
        "#Is extended\n",
        "#To multiple lines"
      ],
      "metadata": {
        "id": "VNhLDSMB_3eV"
      },
      "execution_count": null,
      "outputs": []
    },
    {
      "cell_type": "code",
      "source": [
        "\"\"\"Another\n",
        "long\n",
        "comment\"\"\""
      ],
      "metadata": {
        "colab": {
          "base_uri": "https://localhost:8080/",
          "height": 36
        },
        "id": "tvuNuZUTAF4W",
        "outputId": "199c6896-e65b-437b-dc2c-ac711b9199dd"
      },
      "execution_count": 34,
      "outputs": [
        {
          "output_type": "execute_result",
          "data": {
            "text/plain": [
              "'Another long comment'"
            ],
            "application/vnd.google.colaboratory.intrinsic+json": {
              "type": "string"
            }
          },
          "metadata": {},
          "execution_count": 34
        }
      ]
    },
    {
      "cell_type": "code",
      "source": [
        "a = 9\n",
        "b = 4\n",
        "#if b>a:\n",
        "# a = 2\n",
        "# b = 4\n",
        "a"
      ],
      "metadata": {
        "colab": {
          "base_uri": "https://localhost:8080/"
        },
        "id": "eq1r-5PoASYc",
        "outputId": "f8a6c31b-2e91-4f14-8fad-b21b8ee0ddcb"
      },
      "execution_count": 36,
      "outputs": [
        {
          "output_type": "execute_result",
          "data": {
            "text/plain": [
              "9"
            ]
          },
          "metadata": {},
          "execution_count": 36
        }
      ]
    },
    {
      "cell_type": "code",
      "source": [
        "a = 3\n",
        "if a==4:\n",
        "  print(0)\n",
        "elif a==4:\n",
        "  print(9)\n",
        "else:\n",
        "    print('not 0 and 9')"
      ],
      "metadata": {
        "colab": {
          "base_uri": "https://localhost:8080/"
        },
        "id": "hSOHo2YTAN3s",
        "outputId": "945f8804-c5b1-4b5d-eced-e3be399e3368"
      },
      "execution_count": 40,
      "outputs": [
        {
          "output_type": "stream",
          "name": "stdout",
          "text": [
            "not 0 and 9\n"
          ]
        }
      ]
    },
    {
      "cell_type": "code",
      "source": [
        "#If statement evaluates the true condition\n",
        "x = 99\n",
        "if x ==69:\n",
        "  print('x is greater than 50!')\n",
        "  print(f'x is{x}')"
      ],
      "metadata": {
        "id": "SLE_KyfDBmLf"
      },
      "execution_count": 41,
      "outputs": []
    },
    {
      "cell_type": "code",
      "source": [
        "x==4"
      ],
      "metadata": {
        "colab": {
          "base_uri": "https://localhost:8080/"
        },
        "id": "YCRB0m8RB8fH",
        "outputId": "2270a36c-e076-45cc-ab78-37c7229ed40b"
      },
      "execution_count": 45,
      "outputs": [
        {
          "output_type": "execute_result",
          "data": {
            "text/plain": [
              "False"
            ]
          },
          "metadata": {},
          "execution_count": 45
        }
      ]
    },
    {
      "cell_type": "code",
      "source": [
        "x=False\n",
        "y=True\n",
        "\n",
        "if x:\n",
        "  print('y is true')\n",
        "else:\n",
        "  print('x is not true')"
      ],
      "metadata": {
        "colab": {
          "base_uri": "https://localhost:8080/"
        },
        "id": "xN_iZjgbCirM",
        "outputId": "8e89a261-23dd-49e0-d583-29ebef48c55f"
      },
      "execution_count": 49,
      "outputs": [
        {
          "output_type": "stream",
          "name": "stdout",
          "text": [
            "x is not true\n"
          ]
        }
      ]
    },
    {
      "cell_type": "code",
      "source": [
        "home= 'bricks'\n",
        "if home == 'bricks':\n",
        "  print('pucca house')\n",
        "elif home == 'mud':\n",
        "  print('mud house')\n",
        "else:\n",
        "  print('homeless')"
      ],
      "metadata": {
        "colab": {
          "base_uri": "https://localhost:8080/"
        },
        "id": "3BG3Z7w9D5XP",
        "outputId": "c6992e45-a63f-40bd-b919-08536fc992e5"
      },
      "execution_count": 57,
      "outputs": [
        {
          "output_type": "stream",
          "name": "stdout",
          "text": [
            "pucca house\n"
          ]
        }
      ]
    },
    {
      "cell_type": "code",
      "source": [
        "horse = 'maximus'\n",
        "if horse == 'max':\n",
        "  print(f'Welcoome {horse}')\n",
        "else:\n",
        "  print('not welcome')"
      ],
      "metadata": {
        "colab": {
          "base_uri": "https://localhost:8080/"
        },
        "id": "F894h259EMpa",
        "outputId": "db9ff8e6-228c-42bd-ee0c-4e30e2b50ae6"
      },
      "execution_count": 58,
      "outputs": [
        {
          "output_type": "stream",
          "name": "stdout",
          "text": [
            "not welcome\n"
          ]
        }
      ]
    },
    {
      "cell_type": "code",
      "source": [
        "number1 = 78\n",
        "number2 = 56\n",
        "\n",
        "if number1 > 2:\n",
        "  if number2 > 45:\n",
        "    print(number1/number2)\n",
        "else:\n",
        "      print(number1-number2)"
      ],
      "metadata": {
        "colab": {
          "base_uri": "https://localhost:8080/"
        },
        "id": "XG538Qa8EuC5",
        "outputId": "ff041039-ca76-4e4a-c523-dcdc8d5edb8c"
      },
      "execution_count": 63,
      "outputs": [
        {
          "output_type": "stream",
          "name": "stdout",
          "text": [
            "1.3928571428571428\n"
          ]
        }
      ]
    },
    {
      "cell_type": "code",
      "source": [
        "#Truthy and Falsy\n",
        "if False:\n",
        "  print('liar!')\n",
        "else:\n",
        "    print('i am blind')"
      ],
      "metadata": {
        "colab": {
          "base_uri": "https://localhost:8080/"
        },
        "id": "F0yk95OfFp2M",
        "outputId": "40434144-f400-4403-ae16-94e4590c494d"
      },
      "execution_count": 65,
      "outputs": [
        {
          "output_type": "stream",
          "name": "stdout",
          "text": [
            "i am blind\n"
          ]
        }
      ]
    },
    {
      "cell_type": "code",
      "source": [
        "if [None]:\n",
        "  print('true')\n",
        "else:\n",
        "  print('false')"
      ],
      "metadata": {
        "colab": {
          "base_uri": "https://localhost:8080/"
        },
        "id": "OpJ1CIqGGC7Q",
        "outputId": "1def1b27-37bd-4f03-faec-b9fad7cc8f9f"
      },
      "execution_count": 66,
      "outputs": [
        {
          "output_type": "stream",
          "name": "stdout",
          "text": [
            "true\n"
          ]
        }
      ]
    },
    {
      "cell_type": "code",
      "source": [
        "if {2:4,4:8}:\n",
        "  print('easy')\n",
        "else:\n",
        "  print('hard')"
      ],
      "metadata": {
        "colab": {
          "base_uri": "https://localhost:8080/"
        },
        "id": "46TjDIMfGKiZ",
        "outputId": "d95b1c82-74f0-4cb3-f8ae-e400172b4b48"
      },
      "execution_count": 69,
      "outputs": [
        {
          "output_type": "stream",
          "name": "stdout",
          "text": [
            "easy\n"
          ]
        }
      ]
    }
  ]
}